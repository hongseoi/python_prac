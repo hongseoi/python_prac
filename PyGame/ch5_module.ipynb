{
 "cells": [
  {
   "cell_type": "code",
   "execution_count": null,
   "metadata": {},
   "outputs": [],
   "source": [
    "'''\n",
    " __main__: 함수를 불러오는 쪽. 프로그램이 시작되는 쪽\n",
    "일반적인 형식\n",
    "\n",
    "import ...\n",
    "초기화 코드\n",
    "함수, 클래스 정의, 광역 변수 선언 등\n",
    "\n",
    "def main():\n",
    "    ...메인 루틴\n",
    "\n",
    "if __name__ == '__main__':\n",
    "    main()\n",
    "\n",
    "즉, __name__ == '__main__'이 true일 때, 이 파일부터 실행이 시작됨\n",
    "'''\n"
   ]
  }
 ],
 "metadata": {
  "language_info": {
   "name": "python"
  },
  "orig_nbformat": 4
 },
 "nbformat": 4,
 "nbformat_minor": 2
}
