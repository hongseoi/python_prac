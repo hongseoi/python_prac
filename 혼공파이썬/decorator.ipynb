{
 "cells": [
  {
   "cell_type": "markdown",
   "metadata": {},
   "source": [
    "## Decorator\n",
    "- @로 시작하는 구문\n",
    "- 종류\n",
    "    - 함수 데코레이터\n",
    "    - 클래스 데코레이터\n",
    "\n",
    "### 함수 데코레이터\n",
    "- 함수에 사용되는 데코레이터\n",
    "- 대상 함수의 앞뒤에 넣을 내용을 데코레이터로 정의해 쉽게 사용할 수 있도록 함\n",
    "- 데코레이터는 functools라는 라이브러리를 사용할 수 있게 하고 반복 구문이 많아지는 경우 가독성을 높임"
   ]
  },
  {
   "cell_type": "code",
   "execution_count": 3,
   "metadata": {},
   "outputs": [
    {
     "name": "stdout",
     "output_type": "stream",
     "text": [
      "hello\n"
     ]
    }
   ],
   "source": [
    "# 대상 함수\n",
    "def hello():\n",
    "    print('hello')\n",
    "\n",
    "hello()"
   ]
  },
  {
   "cell_type": "code",
   "execution_count": 22,
   "metadata": {},
   "outputs": [],
   "source": [
    "# 함수 데코레이터\n",
    "def test(function):\n",
    "    def wrapper():\n",
    "        print('시작')\n",
    "        function()\n",
    "        print('종료')\n",
    "    return wrapper"
   ]
  },
  {
   "cell_type": "code",
   "execution_count": 23,
   "metadata": {},
   "outputs": [],
   "source": [
    "# 데코레이터 적용\n",
    "\n",
    "@test\n",
    "def hello():\n",
    "    print('hello')\n"
   ]
  },
  {
   "cell_type": "code",
   "execution_count": 24,
   "metadata": {},
   "outputs": [
    {
     "name": "stdout",
     "output_type": "stream",
     "text": [
      "시작\n",
      "hello\n",
      "종료\n"
     ]
    }
   ],
   "source": [
    "\n",
    "hello()"
   ]
  },
  {
   "cell_type": "code",
   "execution_count": null,
   "metadata": {},
   "outputs": [],
   "source": []
  }
 ],
 "metadata": {
  "kernelspec": {
   "display_name": "kaggle",
   "language": "python",
   "name": "python3"
  },
  "language_info": {
   "codemirror_mode": {
    "name": "ipython",
    "version": 3
   },
   "file_extension": ".py",
   "mimetype": "text/x-python",
   "name": "python",
   "nbconvert_exporter": "python",
   "pygments_lexer": "ipython3",
   "version": "3.12.2"
  }
 },
 "nbformat": 4,
 "nbformat_minor": 2
}
