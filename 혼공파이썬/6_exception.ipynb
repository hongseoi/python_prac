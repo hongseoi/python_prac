{
 "cells": [
  {
   "cell_type": "markdown",
   "metadata": {},
   "source": [
    "## 6.2 예외 고급\n",
    "\n",
    "예외 발생시 예외 정보는 예외 객체(exception object)에 저장된다.\n"
   ]
  },
  {
   "cell_type": "code",
   "execution_count": 2,
   "metadata": {},
   "outputs": [
    {
     "name": "stdout",
     "output_type": "stream",
     "text": [
      "<class 'ValueError'>\n",
      "invalid literal for int() with base 10: 'ㅁ'\n"
     ]
    }
   ],
   "source": [
    "# 예외 객체의 자료형과 객체 자체 출력하기\n",
    "try:\n",
    "    num = int(input(\"숫자 입력\"))\n",
    "    print(num+2)\n",
    "\n",
    "except Exception as e:\n",
    "    print(type(e))\n",
    "    print(e) # 실제 서비스에서는 에러 정보를 메일 등을 통해 보내서 수집"
   ]
  },
  {
   "cell_type": "code",
   "execution_count": 6,
   "metadata": {},
   "outputs": [
    {
     "name": "stdout",
     "output_type": "stream",
     "text": [
      "2번째 요소:3\n"
     ]
    }
   ],
   "source": [
    "# 예외 구분\n",
    "list_num = [1, 2, 3, 4, 5]\n",
    "\n",
    "try:\n",
    "    i = int(input(\"정수 입력:\"))\n",
    "    print(f\"{i}번째 요소:{list_num[i]}\")\n",
    "\n",
    "except Exception as e:\n",
    "    print(type(e))\n",
    "    print(e)"
   ]
  },
  {
   "cell_type": "code",
   "execution_count": 8,
   "metadata": {},
   "outputs": [
    {
     "name": "stdout",
     "output_type": "stream",
     "text": [
      "<class 'ValueError'>\n",
      "invalid literal for int() with base 10: 'qq'\n"
     ]
    }
   ],
   "source": [
    "# 예외 구분\n",
    "list_num = [1, 2, 3, 4, 5]\n",
    "\n",
    "try:\n",
    "    i = int(input(\"정수 입력:\"))\n",
    "    print(f\"{i}번째 요소:{list_num[i]}\")\n",
    "\n",
    "except Exception as e:\n",
    "    print(type(e))\n",
    "    print(e)"
   ]
  },
  {
   "cell_type": "code",
   "execution_count": 9,
   "metadata": {},
   "outputs": [
    {
     "name": "stdout",
     "output_type": "stream",
     "text": [
      "<class 'IndexError'>\n",
      "list index out of range\n"
     ]
    }
   ],
   "source": [
    "# 예외 구분\n",
    "list_num = [1, 2, 3, 4, 5]\n",
    "\n",
    "try:\n",
    "    i = int(input(\"정수 입력:\"))\n",
    "    print(f\"{i}번째 요소:{list_num[i]}\")\n",
    "\n",
    "except Exception as e:\n",
    "    print(type(e))\n",
    "    print(e)"
   ]
  },
  {
   "cell_type": "code",
   "execution_count": 11,
   "metadata": {},
   "outputs": [
    {
     "name": "stdout",
     "output_type": "stream",
     "text": [
      "value eror\n",
      "<class 'ValueError'>\n",
      "invalid literal for int() with base 10: 'q'\n"
     ]
    }
   ],
   "source": [
    "# 예외 구분\n",
    "list_num = [1, 2, 3, 4, 5]\n",
    "\n",
    "try:\n",
    "    i = int(input(\"정수 입력:\"))\n",
    "    print(f\"{i}번째 요소:{list_num[i]}\")\n",
    "\n",
    "# 여러 에러 종류 구분 가능\n",
    "except ValueError as e:\n",
    "    print('value eror')\n",
    "    print(type(e))\n",
    "    print(e)\n",
    "\n",
    "except IndexError as i:\n",
    "    print('인덱스에러')"
   ]
  },
  {
   "cell_type": "code",
   "execution_count": 12,
   "metadata": {},
   "outputs": [
    {
     "name": "stdout",
     "output_type": "stream",
     "text": [
      "value eror\n",
      "<class 'ValueError'>\n",
      "invalid literal for int() with base 10: '-'\n"
     ]
    }
   ],
   "source": [
    "\n",
    "list_num = [1, 2, 3, 4, 5]\n",
    "\n",
    "try:\n",
    "    i = int(input(\"정수 입력:\"))\n",
    "    print(f\"{i}번째 요소:{list_num[i]}\")\n",
    "\n",
    "except ValueError as e:\n",
    "    print('value eror')\n",
    "    print(type(e))\n",
    "    print(e)\n",
    "\n",
    "except IndexError as i:\n",
    "    print('인덱스에러')\n",
    "\n",
    "# 마지막에 전체 에러에 대한 exception을 넣어서 예상치 못한 에러도 고려\n",
    "except Exception as e:\n",
    "    print('예상치 못한 에러')"
   ]
  },
  {
   "cell_type": "code",
   "execution_count": null,
   "metadata": {},
   "outputs": [],
   "source": []
  }
 ],
 "metadata": {
  "kernelspec": {
   "display_name": "kaggle",
   "language": "python",
   "name": "python3"
  },
  "language_info": {
   "codemirror_mode": {
    "name": "ipython",
    "version": 3
   },
   "file_extension": ".py",
   "mimetype": "text/x-python",
   "name": "python",
   "nbconvert_exporter": "python",
   "pygments_lexer": "ipython3",
   "version": "3.12.2"
  }
 },
 "nbformat": 4,
 "nbformat_minor": 2
}
