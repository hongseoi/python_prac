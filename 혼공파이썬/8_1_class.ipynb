{
 "cells": [
  {
   "cell_type": "markdown",
   "metadata": {},
   "source": [
    "### 클래스\n",
    "- 객체 지향 프로그래밍: class를 기반으로 객체(object)(인스턴스)를 만들고 객체들의 상호작용을 중심으로 개발하는 방법론\n",
    "- 추상화(abstraction): 복잡한 자료, 모듈, 시스템으로부터 핵심적인 개념 또는 기능만으로 간추려 객체를 표현하는 것\n",
    "- 클래스의 경우 Camel case로 작성할 것\n",
    "- 생성자(constructor): 클래스 이름과 같은 함수\n",
    "- __init__: 객체 생성시 처리할 내용 작성\n",
    "- __del__: 객체 소멸시 호출되는 함수. 소멸자(destructor). 프로그램 종료시 호출됨"
   ]
  },
  {
   "cell_type": "code",
   "execution_count": 1,
   "metadata": {},
   "outputs": [],
   "source": [
    "class Student:\n",
    "    def __init__(self, name, korean, math, english, science):\n",
    "        self.name = name\n",
    "        self.korean = korean\n",
    "        self.math = math\n",
    "        self.english = english\n",
    "        self.science = science\n"
   ]
  },
  {
   "cell_type": "code",
   "execution_count": 2,
   "metadata": {},
   "outputs": [],
   "source": [
    "# 학생 리스트 선언\n",
    "students = [\n",
    "    Student('윤인성', 87, 88, 88, 99),\n",
    "    Student('홍서이', 23, 44, 55, 66)\n",
    "]"
   ]
  },
  {
   "cell_type": "code",
   "execution_count": 4,
   "metadata": {},
   "outputs": [
    {
     "name": "stdout",
     "output_type": "stream",
     "text": [
      "윤인성\n",
      "홍서이\n"
     ]
    }
   ],
   "source": [
    "# Studnet 인스턴스 속성에 접근하는 법\n",
    "print(students[0].name)\n",
    "print(students[1].name)"
   ]
  },
  {
   "cell_type": "markdown",
   "metadata": {},
   "source": [
    "### 메소드\n",
    "- 클래스가 가지고 있는 함수\n",
    "- 멤버 함수, 인스턴스 함수라고도 불림\n"
   ]
  },
  {
   "cell_type": "code",
   "execution_count": 5,
   "metadata": {},
   "outputs": [],
   "source": [
    "class Student:\n",
    "    def __init__(self, name, korean, math, english, science):\n",
    "        self.name = name\n",
    "        self.korean = korean\n",
    "        self.math = math\n",
    "        self.english = english\n",
    "        self.science = science\n",
    "    \n",
    "    def get_sum(self):\n",
    "        return self.korean + self.math + self.english + self.science\n",
    "    \n",
    "    def get_average(self):\n",
    "        return self.get_sum()/4\n",
    "    \n",
    "    def to_string(self):\n",
    "        return self.name, self.get_average()"
   ]
  },
  {
   "cell_type": "code",
   "execution_count": 6,
   "metadata": {},
   "outputs": [],
   "source": [
    "# 학생 리스트 선언\n",
    "students = [\n",
    "    Student('윤인성', 87, 88, 88, 99),\n",
    "    Student('홍서이', 23, 44, 55, 66)\n",
    "]"
   ]
  },
  {
   "cell_type": "code",
   "execution_count": 7,
   "metadata": {},
   "outputs": [
    {
     "name": "stdout",
     "output_type": "stream",
     "text": [
      "<bound method Student.to_string of <__main__.Student object at 0x000001CC43FEE9C0>>\n",
      "<bound method Student.to_string of <__main__.Student object at 0x000001CC441DC2C0>>\n"
     ]
    }
   ],
   "source": [
    "for student in students:\n",
    "    print(student.to_string)"
   ]
  },
  {
   "cell_type": "code",
   "execution_count": null,
   "metadata": {},
   "outputs": [],
   "source": []
  }
 ],
 "metadata": {
  "kernelspec": {
   "display_name": "kaggle",
   "language": "python",
   "name": "python3"
  },
  "language_info": {
   "codemirror_mode": {
    "name": "ipython",
    "version": 3
   },
   "file_extension": ".py",
   "mimetype": "text/x-python",
   "name": "python",
   "nbconvert_exporter": "python",
   "pygments_lexer": "ipython3",
   "version": "3.12.2"
  }
 },
 "nbformat": 4,
 "nbformat_minor": 2
}
