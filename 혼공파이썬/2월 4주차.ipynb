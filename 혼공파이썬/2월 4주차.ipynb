{
 "cells": [
  {
   "cell_type": "code",
   "execution_count": 2,
   "metadata": {},
   "outputs": [],
   "source": [
    "products_list = [\n",
    "    {'상품': '상품1', '가격': 1000},\n",
    "    {'상품': '상품2', '가격': 2000},\n",
    "    {'상품': '상품3', '가격': 3000},\n",
    "    {'상품': '상품4', '가격': 4000},\n",
    "    {'상품': '상품5', '가격': 5000}\n",
    "]\n"
   ]
  },
  {
   "cell_type": "code",
   "execution_count": 3,
   "metadata": {},
   "outputs": [],
   "source": [
    "def 가격추출(상품):\n",
    "    return 상품['가격']"
   ]
  },
  {
   "cell_type": "code",
   "execution_count": 4,
   "metadata": {},
   "outputs": [
    {
     "name": "stdout",
     "output_type": "stream",
     "text": [
      "{'상품': '상품1', '가격': 1000}\n"
     ]
    }
   ],
   "source": [
    "print(min(products_list, key=가격추출))"
   ]
  },
  {
   "cell_type": "code",
   "execution_count": 5,
   "metadata": {},
   "outputs": [
    {
     "name": "stdout",
     "output_type": "stream",
     "text": [
      "{'상품': '상품5', '가격': 5000}\n"
     ]
    }
   ],
   "source": [
    "print(max(products_list, key=가격추출)) # 딕셔너리, key=함수"
   ]
  },
  {
   "cell_type": "code",
   "execution_count": 6,
   "metadata": {},
   "outputs": [
    {
     "name": "stdout",
     "output_type": "stream",
     "text": [
      "{'상품': '상품1', '가격': 1000}\n"
     ]
    }
   ],
   "source": [
    "print(min(products_list, key=lambda x: x['가격'] ))"
   ]
  },
  {
   "cell_type": "code",
   "execution_count": 7,
   "metadata": {},
   "outputs": [
    {
     "name": "stdout",
     "output_type": "stream",
     "text": [
      "{'상품': '상품5', '가격': 5000}\n"
     ]
    }
   ],
   "source": [
    "print(max(products_list, key=lambda x:x['가격']))"
   ]
  },
  {
   "cell_type": "code",
   "execution_count": 9,
   "metadata": {},
   "outputs": [
    {
     "name": "stdout",
     "output_type": "stream",
     "text": [
      "{'상품': '상품1', '가격': 1000}\n",
      "{'상품': '상품2', '가격': 2000}\n",
      "{'상품': '상품3', '가격': 3000}\n",
      "{'상품': '상품4', '가격': 4000}\n",
      "{'상품': '상품5', '가격': 5000}\n"
     ]
    }
   ],
   "source": [
    "# 딕셔너리의 리스트와 같이 복합적인 리스트 정렬이 필요할때\n",
    "products_list.sort(key=lambda x:x['가격'])\n",
    "for product in products_list:\n",
    "    print(product)"
   ]
  },
  {
   "cell_type": "code",
   "execution_count": 10,
   "metadata": {},
   "outputs": [],
   "source": [
    "products_list.sort(reverse=True, key=lambda x:x['가격'])"
   ]
  },
  {
   "cell_type": "code",
   "execution_count": 11,
   "metadata": {},
   "outputs": [
    {
     "name": "stdout",
     "output_type": "stream",
     "text": [
      "{'상품': '상품5', '가격': 5000}\n",
      "{'상품': '상품4', '가격': 4000}\n",
      "{'상품': '상품3', '가격': 3000}\n",
      "{'상품': '상품2', '가격': 2000}\n",
      "{'상품': '상품1', '가격': 1000}\n"
     ]
    }
   ],
   "source": [
    "for i in products_list:\n",
    "    print(i)"
   ]
  },
  {
   "cell_type": "markdown",
   "metadata": {},
   "source": [
    "# ch6. 예외처리(exception handling)\n",
    "- 프로그램 실행 전 발생하는 오류: 구문 오류(syntax error)\n",
    "    - 문법 오류\n",
    "    - 해결하지 않으면 프로그램 실행 안됨\n",
    "- 프로그램 실행 중 발생하는 오류: 런타임 에러 or 예외(exception)\n",
    "\n",
    "예외는 다음 2가지 방법을 이용해 처리한다.\n",
    "\n",
    "- 기본 예외 처리: 조건문\n",
    "- try 구문\n"
   ]
  },
  {
   "cell_type": "code",
   "execution_count": 16,
   "metadata": {},
   "outputs": [
    {
     "name": "stdout",
     "output_type": "stream",
     "text": [
      "2.11\n",
      "정수가 아닙니다.\n"
     ]
    }
   ],
   "source": [
    "# 기본 예외 처리\n",
    "num_input_a = input('정수 입력:')\n",
    "if num_input_a.isdigit(): # 숫자로만 구성되어 있는지\n",
    "    print(num_input_a)\n",
    "else:\n",
    "    print(num_input_a)\n",
    "    print('정수가 아닙니다.')\n"
   ]
  },
  {
   "cell_type": "code",
   "execution_count": null,
   "metadata": {},
   "outputs": [],
   "source": []
  }
 ],
 "metadata": {
  "kernelspec": {
   "display_name": "Python 3",
   "language": "python",
   "name": "python3"
  },
  "language_info": {
   "codemirror_mode": {
    "name": "ipython",
    "version": 3
   },
   "file_extension": ".py",
   "mimetype": "text/x-python",
   "name": "python",
   "nbconvert_exporter": "python",
   "pygments_lexer": "ipython3",
   "version": "3.11.5"
  }
 },
 "nbformat": 4,
 "nbformat_minor": 2
}
