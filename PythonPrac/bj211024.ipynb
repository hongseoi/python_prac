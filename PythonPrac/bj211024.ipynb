{
  "nbformat": 4,
  "nbformat_minor": 0,
  "metadata": {
    "colab": {
      "name": "bj211024.ipynb",
      "provenance": [],
      "authorship_tag": "ABX9TyMO3z7/5kmtOzP7fJ6ln7o3",
      "include_colab_link": true
    },
    "kernelspec": {
      "name": "python3",
      "display_name": "Python 3"
    },
    "language_info": {
      "name": "python"
    }
  },
  "cells": [
    {
      "cell_type": "markdown",
      "metadata": {
        "id": "view-in-github",
        "colab_type": "text"
      },
      "source": [
        "<a href=\"https://colab.research.google.com/github/SEOLLLL/std2021-2/blob/main/bj211024.ipynb\" target=\"_parent\"><img src=\"https://colab.research.google.com/assets/colab-badge.svg\" alt=\"Open In Colab\"/></a>"
      ]
    },
    {
      "cell_type": "code",
      "metadata": {
        "colab": {
          "base_uri": "https://localhost:8080/"
        },
        "id": "nfl_xxmg-1Oo",
        "outputId": "e56371c6-cc70-4ab5-b525-9319cc052ac9"
      },
      "source": [
        "#2577\n",
        "#a, b, c = list(map(int,input().split())) 줄마다 입력해야 한다.\n",
        "\n",
        "a = int(input())\n",
        "b = int(input())\n",
        "c = int(input())\n",
        "\n",
        "#num = (a*b*c).split() #int형은 split 사용 불가능\n",
        "\n",
        "num = list(str(a*b*c))\n",
        "\n",
        "for i in range(10):\n",
        "  print(num.count(str(i)))\n",
        "\n",
        "\n"
      ],
      "execution_count": 12,
      "outputs": [
        {
          "output_type": "stream",
          "name": "stdout",
          "text": [
            "150 266 427\n",
            "3\n",
            "1\n",
            "0\n",
            "2\n",
            "0\n",
            "0\n",
            "0\n",
            "2\n",
            "0\n",
            "0\n"
          ]
        }
      ]
    },
    {
      "cell_type": "code",
      "metadata": {
        "colab": {
          "base_uri": "https://localhost:8080/"
        },
        "id": "kLc5R2WwDTok",
        "outputId": "b80aec66-7c58-4011-b37c-ee1821665096"
      },
      "source": [
        "#3052\n",
        "lst = []\n",
        "\n",
        "for i in range(10):\n",
        "  n = int(input())\n",
        "  lst.append(n%42)\n",
        "\n",
        "lst = set(lst) #자료형의 중복 제거\n",
        "print(len(lst))"
      ],
      "execution_count": 16,
      "outputs": [
        {
          "output_type": "stream",
          "name": "stdout",
          "text": [
            "1\n",
            "2\n",
            "3\n",
            "4\n",
            "5\n",
            "66\n",
            "3\n",
            "55\n",
            "66\n",
            "4444\n",
            "8\n"
          ]
        }
      ]
    }
  ]
}