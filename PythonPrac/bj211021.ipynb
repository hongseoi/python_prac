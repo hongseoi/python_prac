{
  "nbformat": 4,
  "nbformat_minor": 0,
  "metadata": {
    "colab": {
      "name": "bj211021.ipynb",
      "provenance": [],
      "authorship_tag": "ABX9TyPZ9C8loGmNuXYge657HM5g",
      "include_colab_link": true
    },
    "kernelspec": {
      "name": "python3",
      "display_name": "Python 3"
    },
    "language_info": {
      "name": "python"
    }
  },
  "cells": [
    {
      "cell_type": "markdown",
      "metadata": {
        "id": "view-in-github",
        "colab_type": "text"
      },
      "source": [
        "<a href=\"https://colab.research.google.com/github/SEOLLLL/std2021-2/blob/main/bj211021.ipynb\" target=\"_parent\"><img src=\"https://colab.research.google.com/assets/colab-badge.svg\" alt=\"Open In Colab\"/></a>"
      ]
    },
    {
      "cell_type": "code",
      "metadata": {
        "id": "PflqlnIkU4PJ"
      },
      "source": [
        "#1110\n",
        "n = int(input())\n",
        "cycle = 0\n",
        "new_n = 0\n",
        "\n",
        "while n == new_n:\n",
        "  new_n=n//10+n%10\n",
        "  cycle +=1\n",
        "  \n",
        "\n",
        "print(cycle)"
      ],
      "execution_count": null,
      "outputs": []
    },
    {
      "cell_type": "code",
      "metadata": {
        "id": "iios3phGV1zh"
      },
      "source": [
        "#1110 solution\n",
        "\n",
        "n = int(input())\n",
        "\n",
        "num = n\n",
        "\n",
        "cycle = 0\n",
        "while True:\n",
        "  a=n//10+n%10\n",
        "  \n"
      ],
      "execution_count": null,
      "outputs": []
    },
    {
      "cell_type": "code",
      "metadata": {
        "id": "DQqjjnUoYMPF"
      },
      "source": [
        "#10818\n",
        "count = int(input())\n",
        "nums = list(map(int, input().split()))\n",
        "\n",
        "print(max(nums), min(nums))"
      ],
      "execution_count": null,
      "outputs": []
    },
    {
      "cell_type": "code",
      "metadata": {
        "id": "lgsUxPUZaMMi"
      },
      "source": [
        "#10818\n",
        "count = int(input())\n",
        "nums = list(map(int, input().split()))\n",
        "\n",
        "max = nums[0]\n",
        "min = nums[0]\n",
        "\n",
        "for i in nums[1:]:\n",
        "  if i>max:\n",
        "    max = i\n",
        "  elif i<min:\n",
        "    min = i\n",
        "\n",
        "print(max, min)"
      ],
      "execution_count": null,
      "outputs": []
    },
    {
      "cell_type": "code",
      "metadata": {
        "colab": {
          "base_uri": "https://localhost:8080/"
        },
        "id": "3ERlQcBScdiR",
        "outputId": "1de20444-5b90-4983-84c9-cd34348df522"
      },
      "source": [
        "#2562\n",
        "\n",
        "lst = []\n",
        "\n",
        "for i in range(9):\n",
        "  n = int(input())  #lst.append(int(iput()))으로 줄일 수 있다. \n",
        "  lst.append(n)\n",
        "\n",
        "max = 0\n",
        "\n",
        "for i in lst:\n",
        "  if max<i:\n",
        "    max = i\n",
        "    cnt = lst.index(i)+1 #lst에서 i일때 인덱스값\n",
        "\n",
        "print(max)\n",
        "print(cnt)\n",
        "\n"
      ],
      "execution_count": 5,
      "outputs": [
        {
          "output_type": "stream",
          "name": "stdout",
          "text": [
            "4\n",
            "33\n",
            "55\n",
            "2\n",
            "44\n",
            "5555\n",
            "3\n",
            "22\n",
            "143\n",
            "5555\n",
            "6\n"
          ]
        }
      ]
    }
  ]
}