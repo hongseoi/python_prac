{
  "nbformat": 4,
  "nbformat_minor": 0,
  "metadata": {
    "colab": {
      "name": "bj211018.ipynb",
      "provenance": [],
      "authorship_tag": "ABX9TyMaTxPUrj+Rx/psCZ5uRYlM",
      "include_colab_link": true
    },
    "kernelspec": {
      "name": "python3",
      "display_name": "Python 3"
    },
    "language_info": {
      "name": "python"
    }
  },
  "cells": [
    {
      "cell_type": "markdown",
      "metadata": {
        "id": "view-in-github",
        "colab_type": "text"
      },
      "source": [
        "<a href=\"https://colab.research.google.com/github/SEOLLLL/std2021-2/blob/main/bj211018.ipynb\" target=\"_parent\"><img src=\"https://colab.research.google.com/assets/colab-badge.svg\" alt=\"Open In Colab\"/></a>"
      ]
    },
    {
      "cell_type": "code",
      "metadata": {
        "colab": {
          "base_uri": "https://localhost:8080/"
        },
        "id": "yP8-AfyRVFnP",
        "outputId": "7d6b365e-0699-4b94-ffff-ad46372b4e75"
      },
      "source": [
        "#10952\n",
        "while True:\n",
        "  a, b = map(int,input().split())\n",
        "  if a==0 and b==0:\n",
        "    break\n",
        "  else:\n",
        "    print(a+b)"
      ],
      "execution_count": null,
      "outputs": [
        {
          "name": "stdout",
          "output_type": "stream",
          "text": [
            "5 7\n",
            "12\n",
            "0 0\n"
          ]
        }
      ]
    },
    {
      "cell_type": "code",
      "metadata": {
        "colab": {
          "base_uri": "https://localhost:8080/"
        },
        "id": "RZKL74n4WBJr",
        "outputId": "b90b7049-a56b-4efb-e219-157abfbd438b"
      },
      "source": [
        "#10951\n",
        "\n",
        "\"\"\"\n",
        "while True:\n",
        "  a, b = map(int, input().split())\n",
        "  print(a+b)\n",
        "\"\"\"\n",
        "\n",
        "while True:\n",
        "  try:\n",
        "    a, b = map(int, input().split())\n",
        "  except:\n",
        "    break\n",
        "  print(a+b)"
      ],
      "execution_count": null,
      "outputs": [
        {
          "name": "stdout",
          "output_type": "stream",
          "text": [
            "3 5\n",
            "8\n",
            "6 7\n",
            "13\n",
            "bsfsd\n"
          ]
        }
      ]
    },
    {
      "cell_type": "code",
      "metadata": {
        "colab": {
          "base_uri": "https://localhost:8080/",
          "height": 269
        },
        "id": "Sedokya1XVRR",
        "outputId": "87d137c5-019b-455c-c6a1-684c3ba76afc"
      },
      "source": [
        "#1110\n",
        "\"\"\"\"\n",
        "n = int(input())\n",
        "cycle = 0\n",
        "\n",
        "while True:\n",
        "  a= n//10 + n%10 \n",
        "  if a == n:\n",
        "    cycle +=1\n",
        "    print(cycle)\n",
        "  else:\n",
        "    n = a\n",
        "\"\"\"\""
      ],
      "execution_count": 1,
      "outputs": [
        {
          "name": "stdout",
          "output_type": "stream",
          "text": [
            "45\n"
          ]
        },
        {
          "output_type": "error",
          "ename": "KeyboardInterrupt",
          "evalue": "ignored",
          "traceback": [
            "\u001b[0;31m---------------------------------------------------------------------------\u001b[0m",
            "\u001b[0;31mKeyboardInterrupt\u001b[0m                         Traceback (most recent call last)",
            "\u001b[0;32m<ipython-input-1-b75492fec0b3>\u001b[0m in \u001b[0;36m<module>\u001b[0;34m()\u001b[0m\n\u001b[1;32m      5\u001b[0m \u001b[0;34m\u001b[0m\u001b[0m\n\u001b[1;32m      6\u001b[0m \u001b[0;32mwhile\u001b[0m \u001b[0;32mTrue\u001b[0m\u001b[0;34m:\u001b[0m\u001b[0;34m\u001b[0m\u001b[0;34m\u001b[0m\u001b[0m\n\u001b[0;32m----> 7\u001b[0;31m   \u001b[0ma\u001b[0m\u001b[0;34m=\u001b[0m \u001b[0mn\u001b[0m\u001b[0;34m/\u001b[0m\u001b[0;36m10\u001b[0m \u001b[0;34m+\u001b[0m \u001b[0mn\u001b[0m\u001b[0;34m%\u001b[0m\u001b[0;36m10\u001b[0m\u001b[0;34m\u001b[0m\u001b[0;34m\u001b[0m\u001b[0m\n\u001b[0m\u001b[1;32m      8\u001b[0m   \u001b[0;32mif\u001b[0m \u001b[0ma\u001b[0m \u001b[0;34m==\u001b[0m \u001b[0mn\u001b[0m\u001b[0;34m:\u001b[0m\u001b[0;34m\u001b[0m\u001b[0;34m\u001b[0m\u001b[0m\n\u001b[1;32m      9\u001b[0m     \u001b[0mcycle\u001b[0m \u001b[0;34m+=\u001b[0m\u001b[0;36m1\u001b[0m\u001b[0;34m\u001b[0m\u001b[0;34m\u001b[0m\u001b[0m\n",
            "\u001b[0;31mKeyboardInterrupt\u001b[0m: "
          ]
        }
      ]
    },
    {
      "cell_type": "code",
      "metadata": {
        "colab": {
          "base_uri": "https://localhost:8080/",
          "height": 139
        },
        "id": "lmJn0jxbxUta",
        "outputId": "c80646d5-da88-407e-8e8a-db8c4c23f61e"
      },
      "source": [
        "#10818\n",
        "n = int(input())\n",
        "lst = []\n",
        "for i in range(n):\n",
        "  input().split() = lst.append()\n"
      ],
      "execution_count": 4,
      "outputs": [
        {
          "output_type": "error",
          "ename": "SyntaxError",
          "evalue": "ignored",
          "traceback": [
            "\u001b[0;36m  File \u001b[0;32m\"<ipython-input-4-01dd3bf35994>\"\u001b[0;36m, line \u001b[0;32m5\u001b[0m\n\u001b[0;31m    input().split() = lst.append()\u001b[0m\n\u001b[0m    ^\u001b[0m\n\u001b[0;31mSyntaxError\u001b[0m\u001b[0;31m:\u001b[0m can't assign to function call\n"
          ]
        }
      ]
    }
  ]
}