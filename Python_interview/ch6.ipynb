{
 "cells": [
  {
   "cell_type": "code",
   "execution_count": null,
   "metadata": {},
   "outputs": [
    {
     "ename": "SyntaxError",
     "evalue": "invalid syntax (9010890.py, line 12)",
     "output_type": "error",
     "traceback": [
      "\u001b[1;36m  Cell \u001b[1;32mIn [1], line 12\u001b[1;36m\u001b[0m\n\u001b[1;33m    if (str == back_str) print(\"true\")\u001b[0m\n\u001b[1;37m                         ^\u001b[0m\n\u001b[1;31mSyntaxError\u001b[0m\u001b[1;31m:\u001b[0m invalid syntax\n"
     ]
    }
   ],
   "source": [
    "#주어진 문자열이 팰린드롬(앞뒤를 바꿔도 똑같은 토마토)인지 확인하라. 단, 영문자와 숫자만 대상\n",
    "#입력하기\n",
    "from operator import truediv\n",
    "\n",
    "\n",
    "str = input()\n",
    "\n",
    "#뒤집기\n",
    "back_str = str[::-1]\n",
    "\n",
    "#if (입력값 == 뒤집은 값) return true else return false\n",
    "if (str == back_str) print(\"true\")\n",
    "else print(\"false\")"
   ]
  },
  {
   "cell_type": "markdown",
   "metadata": {},
   "source": [
    "**ch6**"
   ]
  },
  {
   "cell_type": "code",
   "execution_count": null,
   "metadata": {},
   "outputs": [],
   "source": []
  },
  {
   "cell_type": "code",
   "execution_count": null,
   "metadata": {},
   "outputs": [],
   "source": [
    "#125\n",
    "class Solution:\n",
    "    def isPalindrome(self, s: str) -> bool:\n",
    "    #주어진 문자열이 팰린드롬(앞뒤를 바꿔도 똑같은 토마토)인지 확인하라. 단, 영문자와 숫자만 대상이고 대      소문자 구분 안함.\n",
    "\n",
    "        #대소문자 구분하지 않는 점에 대하여 전처리\n",
    "        strs = []\n",
    "        for char in s:\n",
    "            if char.isalnum(): #isalnum() 영어, 한글, 숫자이면 true\n",
    "                strs.append(char.lower())\n",
    "            \n",
    "        #팰린드롬 여부 판별\n",
    "        while len(strs)>1:\n",
    "            if strs.pop(0) != strs.pop():\n",
    "                return False\n",
    "        return True"
   ]
  },
  {
   "cell_type": "code",
   "execution_count": null,
   "metadata": {},
   "outputs": [],
   "source": [
    "#125 using Deque\n",
    "class Solution:\n",
    "    def isPalindrome(self, s: str) -> bool:\n",
    "        #Deque를 사용해 최적화\n",
    "        strs: Deque = collections.deque()\n",
    "        for char in s:\n",
    "            if char.isalnum(): #isalnum() 영어, 한글, 숫자이면 true\n",
    "                strs.append(char.lower())\n",
    "            \n",
    "        #팰린드롬 여부 판별\n",
    "        while len(strs)>1:\n",
    "            if strs.popleft() != strs.pop():\n",
    "                return False\n",
    "        return True\n",
    "        "
   ]
  },
  {
   "cell_type": "code",
   "execution_count": null,
   "metadata": {},
   "outputs": [],
   "source": [
    "class Solution:\n",
    "    def isPalindrome(self, s: str) -> bool:\n",
    "        #3.슬라이싱 사용\n",
    "        s = s.lower()\n",
    "        #정규식 사용\n",
    "        s = re.sub('[^a-z0-9]','',s) #정규식으로 문자 필터링\n",
    "        return s == s[::-1]\n",
    "    \n",
    "        \n",
    "        \n",
    "\n",
    "        \n",
    "        '''\n",
    "        \n",
    "        #2.Deque를 사용해 최적화\n",
    "        strs: Deque = collections.deque()\n",
    "        for char in s:\n",
    "            if char.isalnum(): #isalnum() 영어, 한글, 숫자이면 true\n",
    "                strs.append(char.lower())\n",
    "            \n",
    "        #팰린드롬 여부 판별\n",
    "        while len(strs)>1:\n",
    "            if strs.popleft() != strs.pop():\n",
    "                return False\n",
    "        return True\n",
    "        \n",
    "        #주어진 문자열이 팰린드롬(앞뒤를 바꿔도 똑같은 토마토)인지 확인하라. 단, 영문자와 숫자만 대상이고 대      소문자 구분 안함.\n",
    "\n",
    "        #대소문자 구분하지 않는 점에 대하여 전처리\n",
    "        strs = []\n",
    "        for char in s:\n",
    "            if char.isalnum(): #isalnum() 영어, 한글, 숫자이면 true\n",
    "                strs.append(char.lower())\n",
    "            \n",
    "        #팰린드롬 여부 판별\n",
    "        while len(strs)>1:\n",
    "            if strs.pop(0) != strs.pop():\n",
    "                return False\n",
    "        return True\n",
    "        \n",
    "        '''\n",
    "            "
   ]
  },
  {
   "cell_type": "code",
   "execution_count": null,
   "metadata": {},
   "outputs": [
    {
     "ename": "NameError",
     "evalue": "name 'List' is not defined",
     "output_type": "error",
     "traceback": [
      "\u001b[1;31m---------------------------------------------------------------------------\u001b[0m",
      "\u001b[1;31mNameError\u001b[0m                                 Traceback (most recent call last)",
      "Cell \u001b[1;32mIn [5], line 2\u001b[0m\n\u001b[0;32m      1\u001b[0m \u001b[38;5;66;03m#344\u001b[39;00m\n\u001b[1;32m----> 2\u001b[0m \u001b[38;5;28;01mclass\u001b[39;00m \u001b[38;5;21;01mSolution\u001b[39;00m:\n\u001b[0;32m      3\u001b[0m     \u001b[38;5;28;01mdef\u001b[39;00m \u001b[38;5;21mreverseString\u001b[39m(\u001b[38;5;28mself\u001b[39m, s: List[\u001b[38;5;28mstr\u001b[39m]) \u001b[38;5;241m-\u001b[39m\u001b[38;5;241m>\u001b[39m \u001b[38;5;28;01mNone\u001b[39;00m:\n\u001b[0;32m      4\u001b[0m         \u001b[38;5;124;03m\"\"\"\u001b[39;00m\n\u001b[0;32m      5\u001b[0m \u001b[38;5;124;03m        Do not return anything, modify s in-place instead.\u001b[39;00m\n\u001b[0;32m      6\u001b[0m \u001b[38;5;124;03m        \"\"\"\u001b[39;00m\n",
      "Cell \u001b[1;32mIn [5], line 3\u001b[0m, in \u001b[0;36mSolution\u001b[1;34m()\u001b[0m\n\u001b[0;32m      2\u001b[0m \u001b[38;5;28;01mclass\u001b[39;00m \u001b[38;5;21;01mSolution\u001b[39;00m:\n\u001b[1;32m----> 3\u001b[0m     \u001b[38;5;28;01mdef\u001b[39;00m \u001b[38;5;21mreverseString\u001b[39m(\u001b[38;5;28mself\u001b[39m, s: \u001b[43mList\u001b[49m[\u001b[38;5;28mstr\u001b[39m]) \u001b[38;5;241m-\u001b[39m\u001b[38;5;241m>\u001b[39m \u001b[38;5;28;01mNone\u001b[39;00m:\n\u001b[0;32m      4\u001b[0m         \u001b[38;5;124;03m\"\"\"\u001b[39;00m\n\u001b[0;32m      5\u001b[0m \u001b[38;5;124;03m        Do not return anything, modify s in-place instead.\u001b[39;00m\n\u001b[0;32m      6\u001b[0m \u001b[38;5;124;03m        \"\"\"\u001b[39;00m\n\u001b[0;32m      8\u001b[0m         \u001b[38;5;66;03m#1. 투포인터 사용\u001b[39;00m\n",
      "\u001b[1;31mNameError\u001b[0m: name 'List' is not defined"
     ]
    }
   ],
   "source": [
    "#344\n",
    "class Solution:\n",
    "    def reverseString(self, s: List[str]) -> None:\n",
    "        \"\"\"\n",
    "        Do not return anything, modify s in-place instead.\n",
    "        \"\"\"\n",
    "        \n",
    "        #1. 투포인터 사용\n",
    "        left, right = 0, len(s)-1\n",
    "        while left<right:\n",
    "            s[left], s[right] = s[right],s[left]\n",
    "            left += 1\n",
    "            right -= 1\n",
    "            \n",
    "        #2. 파이썬다운 방식\n",
    "        #s.reverse()\n"
   ]
  },
  {
   "cell_type": "code",
   "execution_count": null,
   "metadata": {},
   "outputs": [],
   "source": [
    "#3. 로그파일 재정렬\n",
    "'''\n",
    "1. 로그의 가장 앞부분은 식별자\n",
    "2. 문자로 구성된 로그가 숫자 로그보다 앞에 온다.\n",
    "3. 식별자는 순서에 영향을 끼치지 않지만 문자가 동일한경우 식별자 순\n",
    "4. 숫자 로그는 입력 순서대로\n",
    "'''\n",
    "# if 식별자 = log[0]\n",
    "# if 문자  = append\n",
    "# if 숫자 = 입력순\n",
    "## 식별자 문자 숫자\n",
    "\n",
    "letters, digits = [], []\n",
    "for log in logs:\n",
    "    if log.split()[1].isdigit():\n",
    "        digits.append(log)\n",
    "    else:\n",
    "        letters.append(log)\n",
    "\n",
    "#2개 키를 람다 표현식으로 정렬\n",
    "letters.sort(key=lambda x: (x.split()[1:], x.spilt()[0]))\n",
    "return letters + digits\n",
    "\n"
   ]
  },
  {
   "cell_type": "code",
   "execution_count": null,
   "metadata": {},
   "outputs": [],
   "source": [
    "#6-4. 가장 흔한 단어\n",
    "'''\n",
    "금지된 단어를 제외한 가장 흔하게 등장하는 단어를 출력하라.\n",
    "대소문자 구분은 하지 않으며, 구두점도 무시한다.\n",
    "\n",
    "<input>\n",
    "paragraph = \"Bob hit a ball, the hit BALL flew far after it was hit.\"\n",
    "banned =['hit']\n",
    "\n",
    "<output>\n",
    "\"ball\"\n",
    "\n",
    "'''\n",
    "\n",
    "# paragraph 나누기 > lower()이용해 소문자로 전부 변경하기\n",
    "class Solution:\n",
    "    def mostCommonWord(self, paragraph: str, banned: List[str]) -> str:\n",
    "        words = [word for word in re.sub(r'[^\\w]',\" \", paragraph).lower().split() \n",
    "        if word not in banned]\n",
    "\n",
    "        counts = collections.Counter(words)\n",
    "        return counts.most_common(1)[0][0]\n",
    "\n",
    "# 개수별 숫자로 변경해서 리스트로 만들기\n",
    "\n",
    "# 가장 큰 원소를 가진 인덱스로 해당 문자열 불러오기"
   ]
  },
  {
   "cell_type": "code",
   "execution_count": null,
   "metadata": {},
   "outputs": [],
   "source": [
    "#6.5: 문자열 배열을 받아 그룹 단위로 그룹핑하라\n",
    "#1. 받고 정렬\n",
    "\n",
    "#2. for문, if문 써서 비교\n",
    "class Solution:\n",
    "    def groupAnagrams(self, strs: List[str]) -> List[List[str]]:\n",
    "        anagrams = collections.defaultdict(list)\n",
    "\n",
    "        for word in strs:\n",
    "            anagrams[''.join(sorted(word))].append(word)\n",
    "        return anagrams.values()"
   ]
  },
  {
   "cell_type": "markdown",
   "metadata": {},
   "source": [
    "여러가지 정렬 방법\n"
   ]
  },
  {
   "cell_type": "code",
   "execution_count": null,
   "metadata": {},
   "outputs": [],
   "source": [
    "a  = [2,3,1,9,7]\n",
    "sorted(a)\n",
    "a"
   ]
  },
  {
   "cell_type": "code",
   "execution_count": null,
   "metadata": {},
   "outputs": [],
   "source": [
    "a  = [2,3,1,9,7]\n",
    "print(sorted(a)) #결과 리스트로 출력\n"
   ]
  },
  {
   "cell_type": "code",
   "execution_count": null,
   "metadata": {},
   "outputs": [],
   "source": [
    "#sorted()의 결과를 하나의 문자열로 묶어서 출력하는 법\n",
    "b = 'alskdjfl'\n",
    "\"\".join(sorted(b))"
   ]
  },
  {
   "cell_type": "code",
   "execution_count": null,
   "metadata": {},
   "outputs": [],
   "source": [
    "#sort(): sorted함수는 리턴값 제공. sort는 리턴 없이 그대로 덮어씀\n",
    "#sorted()는 정렬을 위함 키 또는 함수를 별도로 지정할 수 있음\n",
    "c = ['cc','aaaa','ddddd','bb']\n",
    "sorted(c, key=len)"
   ]
  },
  {
   "cell_type": "code",
   "execution_count": null,
   "metadata": {},
   "outputs": [],
   "source": [
    "a = ['cbe', 'cfc', 'abc']\n",
    "sorted(a, key=lambda s:(s[0],s[-1]))"
   ]
  },
  {
   "cell_type": "code",
   "execution_count": 1,
   "metadata": {},
   "outputs": [],
   "source": [
    "#5\n",
    "class Solution:\n",
    "    def longestPalindrome(self, s: str) -> str:\n",
    "        #팰린드롬 판별 및 투포인터 확장\n",
    "        def expand(left:int, right:int)->str:\n",
    "            while left>= 0 and right<= len(s) and s[left]==s[right-1]:\n",
    "                left -=1\n",
    "                right +=1\n",
    "            return s[left +1:right-1]\n",
    "\n",
    "        #해당사항 없을 때 빠르게 리턴\n",
    "        if len(s)<2 or s ==s[::-1]:\n",
    "            return s\n",
    "        result =''\n",
    "        #슬라이딩 윈도우 우측으로 이동\n",
    "        for i in range(len(s)-1):\n",
    "            result = max(result, expand(i, i+1), expand(i,i+2), key=len)\n",
    "        return result"
   ]
  },
  {
   "cell_type": "code",
   "execution_count": null,
   "metadata": {},
   "outputs": [],
   "source": [
    "#leetcode"
   ]
  }
 ],
 "metadata": {
  "kernelspec": {
   "display_name": "Python 3.9.13 64-bit (microsoft store)",
   "language": "python",
   "name": "python3"
  },
  "language_info": {
   "codemirror_mode": {
    "name": "ipython",
    "version": 3
   },
   "file_extension": ".py",
   "mimetype": "text/x-python",
   "name": "python",
   "nbconvert_exporter": "python",
   "pygments_lexer": "ipython3",
   "version": "3.9.13"
  },
  "orig_nbformat": 4,
  "vscode": {
   "interpreter": {
    "hash": "2a271c975db27fcc5bd6750a79133d9113f00bd235921e6e5adc9df326ae1af1"
   }
  }
 },
 "nbformat": 4,
 "nbformat_minor": 2
}
