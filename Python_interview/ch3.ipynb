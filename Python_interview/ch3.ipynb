{
 "cells": [
  {
   "cell_type": "code",
   "execution_count": 1,
   "metadata": {},
   "outputs": [
    {
     "data": {
      "text/plain": [
       "[11, 12, 13]"
      ]
     },
     "execution_count": 1,
     "metadata": {},
     "output_type": "execute_result"
    }
   ],
   "source": [
    "# list comprehension\n",
    "list(map(lambda x: x+10, [1,2,3]))"
   ]
  },
  {
   "cell_type": "code",
   "execution_count": 2,
   "metadata": {},
   "outputs": [
    {
     "data": {
      "text/plain": [
       "[2, 6, 10, 14, 18]"
      ]
     },
     "execution_count": 2,
     "metadata": {},
     "output_type": "execute_result"
    }
   ],
   "source": [
    "# 홀수인 경우 2를 곱해 출력\n",
    "[n*2 for n in range(1,10+1) if n%2==1]"
   ]
  },
  {
   "cell_type": "code",
   "execution_count": 4,
   "metadata": {},
   "outputs": [
    {
     "data": {
      "text/plain": [
       "{'a': 1, 'd': 3}"
      ]
     },
     "execution_count": 4,
     "metadata": {},
     "output_type": "execute_result"
    }
   ],
   "source": [
    "original = {\"a\":1, \"d\":3}\n",
    "{key:value for key,value in original.items()}"
   ]
  },
  {
   "cell_type": "markdown",
   "metadata": {},
   "source": [
    "제너레이터: 루프의 반복 동작을 제어할 수 있는 루틴 형태\n"
   ]
  },
  {
   "cell_type": "code",
   "execution_count": 5,
   "metadata": {},
   "outputs": [],
   "source": [
    "def get_natural_num():\n",
    "    n = 0\n",
    "    while True:\n",
    "        n += 1\n",
    "        yield n # 여기까지 실행중이던 값을 내보내고 return과 다르게 끝에 도달할 때까지 수행"
   ]
  },
  {
   "cell_type": "code",
   "execution_count": 7,
   "metadata": {},
   "outputs": [
    {
     "data": {
      "text/plain": [
       "<generator object get_natural_num at 0x0000015EAA8EB510>"
      ]
     },
     "execution_count": 7,
     "metadata": {},
     "output_type": "execute_result"
    }
   ],
   "source": [
    "get_natural_num()"
   ]
  },
  {
   "cell_type": "code",
   "execution_count": 8,
   "metadata": {},
   "outputs": [
    {
     "name": "stdout",
     "output_type": "stream",
     "text": [
      "1\n",
      "2\n",
      "3\n",
      "4\n",
      "5\n",
      "6\n",
      "7\n",
      "8\n",
      "9\n",
      "10\n",
      "11\n",
      "12\n",
      "13\n",
      "14\n",
      "15\n",
      "16\n",
      "17\n",
      "18\n",
      "19\n",
      "20\n",
      "21\n",
      "22\n",
      "23\n",
      "24\n",
      "25\n",
      "26\n",
      "27\n",
      "28\n",
      "29\n",
      "30\n",
      "31\n",
      "32\n",
      "33\n",
      "34\n",
      "35\n",
      "36\n",
      "37\n",
      "38\n",
      "39\n",
      "40\n",
      "41\n",
      "42\n",
      "43\n",
      "44\n",
      "45\n",
      "46\n",
      "47\n",
      "48\n",
      "49\n",
      "50\n",
      "51\n",
      "52\n",
      "53\n",
      "54\n",
      "55\n",
      "56\n",
      "57\n",
      "58\n",
      "59\n",
      "60\n",
      "61\n",
      "62\n",
      "63\n",
      "64\n",
      "65\n",
      "66\n",
      "67\n",
      "68\n",
      "69\n",
      "70\n",
      "71\n",
      "72\n",
      "73\n",
      "74\n",
      "75\n",
      "76\n",
      "77\n",
      "78\n",
      "79\n",
      "80\n",
      "81\n",
      "82\n",
      "83\n",
      "84\n",
      "85\n",
      "86\n",
      "87\n",
      "88\n",
      "89\n",
      "90\n",
      "91\n",
      "92\n",
      "93\n",
      "94\n",
      "95\n",
      "96\n",
      "97\n",
      "98\n",
      "99\n",
      "100\n"
     ]
    }
   ],
   "source": [
    "# yield의 값 next()로 추출\n",
    "g = get_natural_num()\n",
    "for _ in range(0,100):\n",
    "    print(next(g))"
   ]
  },
  {
   "cell_type": "code",
   "execution_count": 9,
   "metadata": {},
   "outputs": [
    {
     "data": {
      "text/plain": [
       "<generator object generator at 0x0000015EAA8F03C0>"
      ]
     },
     "execution_count": 9,
     "metadata": {},
     "output_type": "execute_result"
    }
   ],
   "source": [
    "# 제너레이터는 여러 타입의 값을 하나의 함수에서 생성하는 것도 가능\n",
    "def generator():\n",
    "    yield 1\n",
    "    yield 'string'\n",
    "    yield True\n",
    "\n",
    "g = generator()\n",
    "g"
   ]
  },
  {
   "cell_type": "code",
   "execution_count": 10,
   "metadata": {},
   "outputs": [
    {
     "data": {
      "text/plain": [
       "1"
      ]
     },
     "execution_count": 10,
     "metadata": {},
     "output_type": "execute_result"
    }
   ],
   "source": [
    "next(g)"
   ]
  },
  {
   "cell_type": "code",
   "execution_count": 11,
   "metadata": {},
   "outputs": [
    {
     "data": {
      "text/plain": [
       "'string'"
      ]
     },
     "execution_count": 11,
     "metadata": {},
     "output_type": "execute_result"
    }
   ],
   "source": [
    "next(g)"
   ]
  },
  {
   "cell_type": "code",
   "execution_count": 12,
   "metadata": {},
   "outputs": [
    {
     "data": {
      "text/plain": [
       "True"
      ]
     },
     "execution_count": 12,
     "metadata": {},
     "output_type": "execute_result"
    }
   ],
   "source": [
    "next(g)"
   ]
  },
  {
   "cell_type": "code",
   "execution_count": 13,
   "metadata": {},
   "outputs": [
    {
     "data": {
      "text/plain": [
       "[0, 1, 2, 3, 4]"
      ]
     },
     "execution_count": 13,
     "metadata": {},
     "output_type": "execute_result"
    }
   ],
   "source": [
    "# range: 제너레이터의 방식을 활용하는 대표적인 함수\n",
    "list(range(5))"
   ]
  },
  {
   "cell_type": "code",
   "execution_count": 5,
   "metadata": {},
   "outputs": [
    {
     "name": "stdout",
     "output_type": "stream",
     "text": [
      "10000\n",
      "10000\n",
      "True\n"
     ]
    }
   ],
   "source": [
    "# range함수의 효용성: 숫자 100만개를 생성하는 방법\n",
    "a = [n for n in range(10000)]\n",
    "b = range(10000)\n",
    "\n",
    "print(len(a))\n",
    "print(len(b))\n",
    "print(len(a)==len(b))"
   ]
  },
  {
   "cell_type": "code",
   "execution_count": 6,
   "metadata": {},
   "outputs": [
    {
     "data": {
      "text/plain": [
       "range(0, 10000)"
      ]
     },
     "execution_count": 6,
     "metadata": {},
     "output_type": "execute_result"
    }
   ],
   "source": [
    "# a는 이미 생성된 값이 담겨있고 b는 생성해야한다는 조건만\n",
    "b\n"
   ]
  },
  {
   "cell_type": "code",
   "execution_count": 8,
   "metadata": {},
   "outputs": [
    {
     "data": {
      "text/plain": [
       "range"
      ]
     },
     "execution_count": 8,
     "metadata": {},
     "output_type": "execute_result"
    }
   ],
   "source": [
    "type(b)"
   ]
  },
  {
   "cell_type": "code",
   "execution_count": 10,
   "metadata": {},
   "outputs": [
    {
     "name": "stdout",
     "output_type": "stream",
     "text": [
      "85176\n",
      "48\n"
     ]
    }
   ],
   "source": [
    "#메모리 점유율\n",
    "print(sys.getsizeof(a))\n",
    "print(sys.getsizeof(b))"
   ]
  },
  {
   "cell_type": "markdown",
   "metadata": {},
   "source": [
    "enumerate()\n",
    "\n",
    "순서가 있는 자료형(list, set, tuple 등)을 인덱스를 포함한 enumerate 객체로 리턴"
   ]
  },
  {
   "cell_type": "code",
   "execution_count": 11,
   "metadata": {},
   "outputs": [
    {
     "data": {
      "text/plain": [
       "<enumerate at 0x1e7c31c3200>"
      ]
     },
     "execution_count": 11,
     "metadata": {},
     "output_type": "execute_result"
    }
   ],
   "source": [
    "a = [1,2,3,4,5,6,6]\n",
    "enumerate(a)"
   ]
  },
  {
   "cell_type": "code",
   "execution_count": 12,
   "metadata": {},
   "outputs": [
    {
     "data": {
      "text/plain": [
       "[(0, 1), (1, 2), (2, 3), (3, 4), (4, 5), (5, 6), (6, 6)]"
      ]
     },
     "execution_count": 12,
     "metadata": {},
     "output_type": "execute_result"
    }
   ],
   "source": [
    "list(enumerate(a))"
   ]
  },
  {
   "cell_type": "code",
   "execution_count": 13,
   "metadata": {},
   "outputs": [
    {
     "name": "stdout",
     "output_type": "stream",
     "text": [
      "0 a1\n",
      "1 b2\n",
      "2 c3\n"
     ]
    }
   ],
   "source": [
    "a = ['a1','b2','c3']\n",
    "\n",
    "for i in range(len(a)):\n",
    "    print(i, a[i])"
   ]
  },
  {
   "cell_type": "code",
   "execution_count": 14,
   "metadata": {},
   "outputs": [
    {
     "name": "stdout",
     "output_type": "stream",
     "text": [
      "0 a1\n",
      "1 b2\n",
      "2 c3\n"
     ]
    }
   ],
   "source": [
    "i = 0\n",
    "for v in a:\n",
    "    print(i,v)\n",
    "    i+=1"
   ]
  },
  {
   "cell_type": "code",
   "execution_count": 15,
   "metadata": {},
   "outputs": [
    {
     "name": "stdout",
     "output_type": "stream",
     "text": [
      "0 a1\n",
      "1 b2\n",
      "2 c3\n"
     ]
    }
   ],
   "source": [
    "# 가장 깔끔한 방법\n",
    "for i,v in enumerate(a):\n",
    "    print(i,v)"
   ]
  },
  {
   "cell_type": "markdown",
   "metadata": {},
   "source": [
    "print()"
   ]
  },
  {
   "cell_type": "code",
   "execution_count": 17,
   "metadata": {},
   "outputs": [
    {
     "name": "stdout",
     "output_type": "stream",
     "text": [
      "a,b\n"
     ]
    }
   ],
   "source": [
    "print('a','b', sep=\",\")"
   ]
  },
  {
   "cell_type": "code",
   "execution_count": 18,
   "metadata": {},
   "outputs": [
    {
     "name": "stdout",
     "output_type": "stream",
     "text": [
      "aa bb\n"
     ]
    }
   ],
   "source": [
    "print(\"aa\", end=\" \")\n",
    "print(\"bb\")"
   ]
  },
  {
   "cell_type": "code",
   "execution_count": 21,
   "metadata": {},
   "outputs": [
    {
     "name": "stdout",
     "output_type": "stream",
     "text": [
      "A B\n"
     ]
    }
   ],
   "source": [
    "#리스트 출력시 join()으로 묶어서\n",
    "\n",
    "a = ['A','B']\n",
    "print(' '.join(a))"
   ]
  },
  {
   "cell_type": "code",
   "execution_count": 22,
   "metadata": {},
   "outputs": [
    {
     "name": "stdout",
     "output_type": "stream",
     "text": [
      "2:apple\n"
     ]
    }
   ],
   "source": [
    "# 인덱스와 함께 사용\n",
    "idx = 1\n",
    "fruit = 'apple'\n",
    "\n",
    "print('{}:{}'.format(idx+1, fruit))"
   ]
  },
  {
   "cell_type": "code",
   "execution_count": 24,
   "metadata": {},
   "outputs": [
    {
     "name": "stdout",
     "output_type": "stream",
     "text": [
      "2:apple\n"
     ]
    }
   ],
   "source": [
    "# f-string 추천! 파이썬 3.6 이상\n",
    "print(f'{idx+1}:{fruit}')"
   ]
  },
  {
   "cell_type": "markdown",
   "metadata": {},
   "source": [
    "**pass**\n",
    "<br>\n",
    "일단 코드의 전체 골격을 잡아놓고 내부에서 처리할 내용을 차근차근 만들 때\n",
    "<br>\n",
    "함수 내 아무내용 없으면 오류나니까 pass로 오류 막음 "
   ]
  },
  {
   "cell_type": "code",
   "execution_count": 27,
   "metadata": {},
   "outputs": [],
   "source": [
    "class MyClass(object):\n",
    "    def method_a(self):\n",
    "        pass\n",
    "    def method_b(self):\n",
    "        print(\"method_b\")\n",
    "\n",
    "c = MyClass()"
   ]
  },
  {
   "cell_type": "markdown",
   "metadata": {},
   "source": [
    "**locals()**\n",
    "* 로컬 심볼 테이블 딕셔너리를 가져오는 메소드\n",
    "* 로컬에 선언된 모든 변수 조회 가능\n",
    "* 클래스의 특정 메소드 내부에서나 함수 내부의 로컬 정보를 조회해 잘못 선언한 부분 있는지 확인할 수 있다."
   ]
  },
  {
   "cell_type": "code",
   "execution_count": 28,
   "metadata": {},
   "outputs": [
    {
     "name": "stdout",
     "output_type": "stream",
     "text": [
      "{'In': ['',\n",
      "        '# range함수의 효용성: 숫자 100만개를 생성하는 방법\\n'\n",
      "        'a = [n for n in range(10000)]\\n'\n",
      "        'b = range(10000)',\n",
      "        '# range함수의 효용성: 숫자 100만개를 생성하는 방법\\n'\n",
      "        'a = [n for n in range(10000)]\\n'\n",
      "        'b = range(10000)\\n'\n",
      "        '\\n'\n",
      "        'print(len(a))\\n'\n",
      "        'print(len(b))',\n",
      "        '# range함수의 효용성: 숫자 100만개를 생성하는 방법\\n'\n",
      "        'a = [n for n in range(10000)]\\n'\n",
      "        'b = range(10000)\\n'\n",
      "        '\\n'\n",
      "        'print(len(a))\\n'\n",
      "        'print(len(b))\\n'\n",
      "        'pirnt(len(a)==len(B))',\n",
      "        '# range함수의 효용성: 숫자 100만개를 생성하는 방법\\n'\n",
      "        'a = [n for n in range(10000)]\\n'\n",
      "        'b = range(10000)\\n'\n",
      "        '\\n'\n",
      "        'print(len(a))\\n'\n",
      "        'print(len(b))\\n'\n",
      "        'pirnt(len(a)==len(b))',\n",
      "        '# range함수의 효용성: 숫자 100만개를 생성하는 방법\\n'\n",
      "        'a = [n for n in range(10000)]\\n'\n",
      "        'b = range(10000)\\n'\n",
      "        '\\n'\n",
      "        'print(len(a))\\n'\n",
      "        'print(len(b))\\n'\n",
      "        'print(len(a)==len(b))',\n",
      "        '# a는 이미 생성된 값이 담겨있고 b는 생성해야한다는 조건만\\nb',\n",
      "        'type(B)',\n",
      "        'type(b)',\n",
      "        'print(sys.getsizeof(a))\\nprint(sys.getsizeof(b))',\n",
      "        '#메모리 점유율\\nprint(sys.getsizeof(a))\\nprint(sys.getsizeof(b))',\n",
      "        'a = [1,2,3,4,5,6,6]\\nenumerate(a)',\n",
      "        'list(enumerate(a))',\n",
      "        \"a = ['a1','b2','c3']\\n\\nfor i in range(len(a)):\\n    print(i, a[i])\",\n",
      "        'i = 0\\nfor v in a:\\n    print(i,v)\\n    i+=1',\n",
      "        '# 가장 깔끔한 방법\\nfor i,v in enumerate(a):\\n    print(i,v)',\n",
      "        'print(\\'a\\',\\'b\\', sep-\",\")',\n",
      "        'print(\\'a\\',\\'b\\', sep=\",\")',\n",
      "        'print(\"aa\", end=\" \")\\nprint(\"bb\")',\n",
      "        \"#리스트 출력시 join()으로 묶어서\\n\\na = ['A','B']\\nprint(' '.join(a))\",\n",
      "        \"#리스트 출력시 join()으로 묶어서\\n\\na = ['A','B']\\nprint(''.join(a))\",\n",
      "        \"#리스트 출력시 join()으로 묶어서\\n\\na = ['A','B']\\nprint(' '.join(a))\",\n",
      "        '# 인덱스와 함께 사용\\n'\n",
      "        'idx = 1\\n'\n",
      "        \"fruit = 'apple'\\n\"\n",
      "        '\\n'\n",
      "        \"print('{}:{}'.format(idx+1, fruit))\",\n",
      "        \"# f-string 추천!\\nprint(f'{idx+1}:{fruit}')\",\n",
      "        \"# f-string 추천! 파이썬 3.6 이상\\nprint(f'{idx+1}:{fruit}')\",\n",
      "        'class MyClass(Object):\\n'\n",
      "        '    def method_a(self):\\n'\n",
      "        '        pass\\n'\n",
      "        '    def method_b(self):\\n'\n",
      "        '        print(\"method_b\")\\n'\n",
      "        '\\n'\n",
      "        'c = MyClass',\n",
      "        'class MyClass(Object):\\n'\n",
      "        '    def method_a(self):\\n'\n",
      "        '        pass\\n'\n",
      "        '    def method_b(self):\\n'\n",
      "        '        print(\"method_b\")\\n'\n",
      "        '\\n'\n",
      "        'c = MyClass()',\n",
      "        'class MyClass(object):\\n'\n",
      "        '    def method_a(self):\\n'\n",
      "        '        pass\\n'\n",
      "        '    def method_b(self):\\n'\n",
      "        '        print(\"method_b\")\\n'\n",
      "        '\\n'\n",
      "        'c = MyClass()',\n",
      "        'import pprint\\npprint.pprint(locals())'],\n",
      " 'MyClass': <class '__main__.MyClass'>,\n",
      " 'Out': {6: range(0, 10000),\n",
      "         8: <class 'range'>,\n",
      "         11: <enumerate object at 0x000001E7C31C3200>,\n",
      "         12: [(0, 1), (1, 2), (2, 3), (3, 4), (4, 5), (5, 6), (6, 6)]},\n",
      " '_': [(0, 1), (1, 2), (2, 3), (3, 4), (4, 5), (5, 6), (6, 6)],\n",
      " '_11': <enumerate object at 0x000001E7C31C3200>,\n",
      " '_12': [(0, 1), (1, 2), (2, 3), (3, 4), (4, 5), (5, 6), (6, 6)],\n",
      " '_6': range(0, 10000),\n",
      " '_8': <class 'range'>,\n",
      " '__': <enumerate object at 0x000001E7C31C3200>,\n",
      " '___': <class 'range'>,\n",
      " '__builtin__': <module 'builtins' (built-in)>,\n",
      " '__builtins__': <module 'builtins' (built-in)>,\n",
      " '__doc__': 'Automatically created module for IPython interactive environment',\n",
      " '__loader__': None,\n",
      " '__name__': '__main__',\n",
      " '__package__': None,\n",
      " '__spec__': None,\n",
      " '__vsc_ipynb_file__': 'c:\\\\Users\\\\HONG SEO '\n",
      "                       'I\\\\Desktop\\\\python_prac\\\\Python_interview\\\\ch3.ipynb',\n",
      " '_dh': ['c:\\\\Users\\\\HONG SEO I\\\\Desktop\\\\python_prac\\\\Python_interview'],\n",
      " '_i': 'class MyClass(object):\\n'\n",
      "       '    def method_a(self):\\n'\n",
      "       '        pass\\n'\n",
      "       '    def method_b(self):\\n'\n",
      "       '        print(\"method_b\")\\n'\n",
      "       '\\n'\n",
      "       'c = MyClass()',\n",
      " '_i1': '# range함수의 효용성: 숫자 100만개를 생성하는 방법\\n'\n",
      "        'a = [n for n in range(10000)]\\n'\n",
      "        'b = range(10000)',\n",
      " '_i10': '#메모리 점유율\\nprint(sys.getsizeof(a))\\nprint(sys.getsizeof(b))',\n",
      " '_i11': 'a = [1,2,3,4,5,6,6]\\nenumerate(a)',\n",
      " '_i12': 'list(enumerate(a))',\n",
      " '_i13': \"a = ['a1','b2','c3']\\n\\nfor i in range(len(a)):\\n    print(i, a[i])\",\n",
      " '_i14': 'i = 0\\nfor v in a:\\n    print(i,v)\\n    i+=1',\n",
      " '_i15': '# 가장 깔끔한 방법\\nfor i,v in enumerate(a):\\n    print(i,v)',\n",
      " '_i16': 'print(\\'a\\',\\'b\\', sep-\",\")',\n",
      " '_i17': 'print(\\'a\\',\\'b\\', sep=\",\")',\n",
      " '_i18': 'print(\"aa\", end=\" \")\\nprint(\"bb\")',\n",
      " '_i19': \"#리스트 출력시 join()으로 묶어서\\n\\na = ['A','B']\\nprint(' '.join(a))\",\n",
      " '_i2': '# range함수의 효용성: 숫자 100만개를 생성하는 방법\\n'\n",
      "        'a = [n for n in range(10000)]\\n'\n",
      "        'b = range(10000)\\n'\n",
      "        '\\n'\n",
      "        'print(len(a))\\n'\n",
      "        'print(len(b))',\n",
      " '_i20': \"#리스트 출력시 join()으로 묶어서\\n\\na = ['A','B']\\nprint(''.join(a))\",\n",
      " '_i21': \"#리스트 출력시 join()으로 묶어서\\n\\na = ['A','B']\\nprint(' '.join(a))\",\n",
      " '_i22': '# 인덱스와 함께 사용\\n'\n",
      "         'idx = 1\\n'\n",
      "         \"fruit = 'apple'\\n\"\n",
      "         '\\n'\n",
      "         \"print('{}:{}'.format(idx+1, fruit))\",\n",
      " '_i23': \"# f-string 추천!\\nprint(f'{idx+1}:{fruit}')\",\n",
      " '_i24': \"# f-string 추천! 파이썬 3.6 이상\\nprint(f'{idx+1}:{fruit}')\",\n",
      " '_i25': 'class MyClass(Object):\\n'\n",
      "         '    def method_a(self):\\n'\n",
      "         '        pass\\n'\n",
      "         '    def method_b(self):\\n'\n",
      "         '        print(\"method_b\")\\n'\n",
      "         '\\n'\n",
      "         'c = MyClass',\n",
      " '_i26': 'class MyClass(Object):\\n'\n",
      "         '    def method_a(self):\\n'\n",
      "         '        pass\\n'\n",
      "         '    def method_b(self):\\n'\n",
      "         '        print(\"method_b\")\\n'\n",
      "         '\\n'\n",
      "         'c = MyClass()',\n",
      " '_i27': 'class MyClass(object):\\n'\n",
      "         '    def method_a(self):\\n'\n",
      "         '        pass\\n'\n",
      "         '    def method_b(self):\\n'\n",
      "         '        print(\"method_b\")\\n'\n",
      "         '\\n'\n",
      "         'c = MyClass()',\n",
      " '_i28': 'import pprint\\npprint.pprint(locals())',\n",
      " '_i3': '# range함수의 효용성: 숫자 100만개를 생성하는 방법\\n'\n",
      "        'a = [n for n in range(10000)]\\n'\n",
      "        'b = range(10000)\\n'\n",
      "        '\\n'\n",
      "        'print(len(a))\\n'\n",
      "        'print(len(b))\\n'\n",
      "        'pirnt(len(a)==len(B))',\n",
      " '_i4': '# range함수의 효용성: 숫자 100만개를 생성하는 방법\\n'\n",
      "        'a = [n for n in range(10000)]\\n'\n",
      "        'b = range(10000)\\n'\n",
      "        '\\n'\n",
      "        'print(len(a))\\n'\n",
      "        'print(len(b))\\n'\n",
      "        'pirnt(len(a)==len(b))',\n",
      " '_i5': '# range함수의 효용성: 숫자 100만개를 생성하는 방법\\n'\n",
      "        'a = [n for n in range(10000)]\\n'\n",
      "        'b = range(10000)\\n'\n",
      "        '\\n'\n",
      "        'print(len(a))\\n'\n",
      "        'print(len(b))\\n'\n",
      "        'print(len(a)==len(b))',\n",
      " '_i6': '# a는 이미 생성된 값이 담겨있고 b는 생성해야한다는 조건만\\nb',\n",
      " '_i7': 'type(B)',\n",
      " '_i8': 'type(b)',\n",
      " '_i9': 'print(sys.getsizeof(a))\\nprint(sys.getsizeof(b))',\n",
      " '_ih': ['',\n",
      "         '# range함수의 효용성: 숫자 100만개를 생성하는 방법\\n'\n",
      "         'a = [n for n in range(10000)]\\n'\n",
      "         'b = range(10000)',\n",
      "         '# range함수의 효용성: 숫자 100만개를 생성하는 방법\\n'\n",
      "         'a = [n for n in range(10000)]\\n'\n",
      "         'b = range(10000)\\n'\n",
      "         '\\n'\n",
      "         'print(len(a))\\n'\n",
      "         'print(len(b))',\n",
      "         '# range함수의 효용성: 숫자 100만개를 생성하는 방법\\n'\n",
      "         'a = [n for n in range(10000)]\\n'\n",
      "         'b = range(10000)\\n'\n",
      "         '\\n'\n",
      "         'print(len(a))\\n'\n",
      "         'print(len(b))\\n'\n",
      "         'pirnt(len(a)==len(B))',\n",
      "         '# range함수의 효용성: 숫자 100만개를 생성하는 방법\\n'\n",
      "         'a = [n for n in range(10000)]\\n'\n",
      "         'b = range(10000)\\n'\n",
      "         '\\n'\n",
      "         'print(len(a))\\n'\n",
      "         'print(len(b))\\n'\n",
      "         'pirnt(len(a)==len(b))',\n",
      "         '# range함수의 효용성: 숫자 100만개를 생성하는 방법\\n'\n",
      "         'a = [n for n in range(10000)]\\n'\n",
      "         'b = range(10000)\\n'\n",
      "         '\\n'\n",
      "         'print(len(a))\\n'\n",
      "         'print(len(b))\\n'\n",
      "         'print(len(a)==len(b))',\n",
      "         '# a는 이미 생성된 값이 담겨있고 b는 생성해야한다는 조건만\\nb',\n",
      "         'type(B)',\n",
      "         'type(b)',\n",
      "         'print(sys.getsizeof(a))\\nprint(sys.getsizeof(b))',\n",
      "         '#메모리 점유율\\nprint(sys.getsizeof(a))\\nprint(sys.getsizeof(b))',\n",
      "         'a = [1,2,3,4,5,6,6]\\nenumerate(a)',\n",
      "         'list(enumerate(a))',\n",
      "         \"a = ['a1','b2','c3']\\n\\nfor i in range(len(a)):\\n    print(i, a[i])\",\n",
      "         'i = 0\\nfor v in a:\\n    print(i,v)\\n    i+=1',\n",
      "         '# 가장 깔끔한 방법\\nfor i,v in enumerate(a):\\n    print(i,v)',\n",
      "         'print(\\'a\\',\\'b\\', sep-\",\")',\n",
      "         'print(\\'a\\',\\'b\\', sep=\",\")',\n",
      "         'print(\"aa\", end=\" \")\\nprint(\"bb\")',\n",
      "         \"#리스트 출력시 join()으로 묶어서\\n\\na = ['A','B']\\nprint(' '.join(a))\",\n",
      "         \"#리스트 출력시 join()으로 묶어서\\n\\na = ['A','B']\\nprint(''.join(a))\",\n",
      "         \"#리스트 출력시 join()으로 묶어서\\n\\na = ['A','B']\\nprint(' '.join(a))\",\n",
      "         '# 인덱스와 함께 사용\\n'\n",
      "         'idx = 1\\n'\n",
      "         \"fruit = 'apple'\\n\"\n",
      "         '\\n'\n",
      "         \"print('{}:{}'.format(idx+1, fruit))\",\n",
      "         \"# f-string 추천!\\nprint(f'{idx+1}:{fruit}')\",\n",
      "         \"# f-string 추천! 파이썬 3.6 이상\\nprint(f'{idx+1}:{fruit}')\",\n",
      "         'class MyClass(Object):\\n'\n",
      "         '    def method_a(self):\\n'\n",
      "         '        pass\\n'\n",
      "         '    def method_b(self):\\n'\n",
      "         '        print(\"method_b\")\\n'\n",
      "         '\\n'\n",
      "         'c = MyClass',\n",
      "         'class MyClass(Object):\\n'\n",
      "         '    def method_a(self):\\n'\n",
      "         '        pass\\n'\n",
      "         '    def method_b(self):\\n'\n",
      "         '        print(\"method_b\")\\n'\n",
      "         '\\n'\n",
      "         'c = MyClass()',\n",
      "         'class MyClass(object):\\n'\n",
      "         '    def method_a(self):\\n'\n",
      "         '        pass\\n'\n",
      "         '    def method_b(self):\\n'\n",
      "         '        print(\"method_b\")\\n'\n",
      "         '\\n'\n",
      "         'c = MyClass()',\n",
      "         'import pprint\\npprint.pprint(locals())'],\n",
      " '_ii': 'class MyClass(Object):\\n'\n",
      "        '    def method_a(self):\\n'\n",
      "        '        pass\\n'\n",
      "        '    def method_b(self):\\n'\n",
      "        '        print(\"method_b\")\\n'\n",
      "        '\\n'\n",
      "        'c = MyClass()',\n",
      " '_iii': 'class MyClass(Object):\\n'\n",
      "         '    def method_a(self):\\n'\n",
      "         '        pass\\n'\n",
      "         '    def method_b(self):\\n'\n",
      "         '        print(\"method_b\")\\n'\n",
      "         '\\n'\n",
      "         'c = MyClass',\n",
      " '_oh': {6: range(0, 10000),\n",
      "         8: <class 'range'>,\n",
      "         11: <enumerate object at 0x000001E7C31C3200>,\n",
      "         12: [(0, 1), (1, 2), (2, 3), (3, 4), (4, 5), (5, 6), (6, 6)]},\n",
      " 'a': ['A', 'B'],\n",
      " 'b': range(0, 10000),\n",
      " 'c': <__main__.MyClass object at 0x000001E7C32954C0>,\n",
      " 'exit': <IPython.core.autocall.ZMQExitAutocall object at 0x000001E7C3258BE0>,\n",
      " 'fruit': 'apple',\n",
      " 'get_ipython': <bound method InteractiveShell.get_ipython of <ipykernel.zmqshell.ZMQInteractiveShell object at 0x000001E7C3258190>>,\n",
      " 'i': 2,\n",
      " 'idx': 1,\n",
      " 'os': <module 'os' from 'c:\\\\Users\\\\HONG SEO I\\\\AppData\\\\Local\\\\Programs\\\\Python\\\\Python39\\\\lib\\\\os.py'>,\n",
      " 'pprint': <module 'pprint' from 'c:\\\\Users\\\\HONG SEO I\\\\AppData\\\\Local\\\\Programs\\\\Python\\\\Python39\\\\lib\\\\pprint.py'>,\n",
      " 'quit': <IPython.core.autocall.ZMQExitAutocall object at 0x000001E7C3258BE0>,\n",
      " 'sys': <module 'sys' (built-in)>,\n",
      " 'v': 'c3'}\n"
     ]
    }
   ],
   "source": [
    "import pprint\n",
    "pprint.pprint(locals())\n",
    "\n",
    "#클래스 메소드 내부의 모든 로컬변수 출력"
   ]
  },
  {
   "cell_type": "code",
   "execution_count": null,
   "metadata": {},
   "outputs": [],
   "source": []
  }
 ],
 "metadata": {
  "kernelspec": {
   "display_name": "Python 3.9.7 64-bit",
   "language": "python",
   "name": "python3"
  },
  "language_info": {
   "codemirror_mode": {
    "name": "ipython",
    "version": 3
   },
   "file_extension": ".py",
   "mimetype": "text/x-python",
   "name": "python",
   "nbconvert_exporter": "python",
   "pygments_lexer": "ipython3",
   "version": "3.9.7"
  },
  "orig_nbformat": 4,
  "vscode": {
   "interpreter": {
    "hash": "2072e913e0c2d0fff5da7d355ca0971239f82f43b0f47ffa4085376f6be431f4"
   }
  }
 },
 "nbformat": 4,
 "nbformat_minor": 2
}
