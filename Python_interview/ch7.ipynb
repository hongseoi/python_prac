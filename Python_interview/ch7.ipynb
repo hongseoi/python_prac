{
 "cells": [
  {
   "cell_type": "code",
   "execution_count": 3,
   "metadata": {},
   "outputs": [
    {
     "name": "stdout",
     "output_type": "stream",
     "text": [
      "0 1\n",
      "1 0\n"
     ]
    }
   ],
   "source": [
    "# 덧셈하여 target이 되는 배열의 두 숫자 인덱스 return하라\n",
    "\n",
    "nums = [2, 7, 11, 15]\n",
    "target = 9\n",
    "\n",
    "# 브루트 포스로 계산\n",
    "for i in range(len(nums)):\n",
    "    for j in range(len(nums)):\n",
    "        if nums[i] + nums[j] == target:\n",
    "            print(i, j)\n",
    "            break"
   ]
  },
  {
   "cell_type": "code",
   "execution_count": 6,
   "metadata": {},
   "outputs": [
    {
     "name": "stdout",
     "output_type": "stream",
     "text": [
      "0 1\n"
     ]
    }
   ],
   "source": [
    "# target - n으로 생각해서 계산\n",
    "\n",
    "for i, n in enumerate(nums):\n",
    "    value = target - n\n",
    "\n",
    "    if value in nums[i+1:]:\n",
    "        print(nums.index(n), nums.index(value))\n"
   ]
  },
  {
   "cell_type": "code",
   "execution_count": 8,
   "metadata": {},
   "outputs": [
    {
     "name": "stdout",
     "output_type": "stream",
     "text": [
      "0 1\n",
      "1 0\n"
     ]
    }
   ],
   "source": [
    "# 딕셔너리를 활용한 시간복잡도 개선\n",
    "nums_map = {}\n",
    "\n",
    "for i, num in enumerate(nums):\n",
    "    nums_map[num] = i\n",
    "\n",
    "for i, num in enumerate(nums):\n",
    "    if target - num in nums_map and i != nums_map[target - num]:\n",
    "        print(nums.index(num), nums_map[target-num])"
   ]
  },
  {
   "cell_type": "code",
   "execution_count": null,
   "metadata": {},
   "outputs": [],
   "source": []
  }
 ],
 "metadata": {
  "kernelspec": {
   "display_name": "Python 3",
   "language": "python",
   "name": "python3"
  },
  "language_info": {
   "codemirror_mode": {
    "name": "ipython",
    "version": 3
   },
   "file_extension": ".py",
   "mimetype": "text/x-python",
   "name": "python",
   "nbconvert_exporter": "python",
   "pygments_lexer": "ipython3",
   "version": "3.11.5"
  }
 },
 "nbformat": 4,
 "nbformat_minor": 2
}
