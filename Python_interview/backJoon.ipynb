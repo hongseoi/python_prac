{
 "cells": [
  {
   "cell_type": "code",
   "execution_count": 1,
   "metadata": {},
   "outputs": [],
   "source": [
    "#1193\n",
    "\n",
    "n = int(input())\n",
    "\n",
    "line = 0 #사선라인\n",
    "end = 0 #n의 라인에서 가장 큰 숫자(마지막 숫자)\n",
    "\n",
    "while n > end:\n",
    "    line += 1\n",
    "    end += line\n",
    "\n",
    "gap = end - n\n",
    "\n",
    "if line%2 == 0: #짝수인경우\n",
    "    top = line - gap #분모\n",
    "    under = gap + 1 #분자\n",
    "else: #홀수인경우\n",
    "    top = gap + 1 #분모\n",
    "    under = line - gap #분자\n",
    "print(f'{top}/{under}')\n"
   ]
  },
  {
   "cell_type": "code",
   "execution_count": 1,
   "metadata": {},
   "outputs": [],
   "source": [
    "#2869\n",
    "a,b,v = map(int, input().split())\n",
    "\n",
    "k = (v-b)/(a-b)\n",
    "print(int(k) if k==int(k) else int(k)+1)"
   ]
  },
  {
   "cell_type": "code",
   "execution_count": null,
   "metadata": {},
   "outputs": [],
   "source": [
    "#2750\n",
    "N = int(input())\n",
    "\n",
    "list = []\n",
    "\n",
    "for i in range(N):\n",
    "    list.append(int(input()))\n",
    "\n",
    "list = sorted(list)\n",
    "\n",
    "for i in range(len(list)):\n",
    "    print(list[i])"
   ]
  },
  {
   "cell_type": "code",
   "execution_count": null,
   "metadata": {},
   "outputs": [],
   "source": [
    "A, B = [], []\n",
    "\n",
    "N, M = map(int, input().split())\n",
    "\n",
    "for row in range(N):\n",
    "    row = list(map(int, input().split()))\n",
    "    A.append(row)\n",
    "\n",
    "for row in range(N):\n",
    "    row = list(map(int, input().split()))\n",
    "    B.append(row)\n",
    "    \n",
    "for row in range(N):\n",
    "    for col in range(M):\n",
    "        print(A[row][col] + B[row][col], end=' ')\n",
    "    print()"
   ]
  }
 ],
 "metadata": {
  "kernelspec": {
   "display_name": "Python 3",
   "language": "python",
   "name": "python3"
  },
  "language_info": {
   "codemirror_mode": {
    "name": "ipython",
    "version": 3
   },
   "file_extension": ".py",
   "mimetype": "text/x-python",
   "name": "python",
   "nbconvert_exporter": "python",
   "pygments_lexer": "ipython3",
   "version": "3.9.13"
  },
  "orig_nbformat": 4,
  "vscode": {
   "interpreter": {
    "hash": "2a271c975db27fcc5bd6750a79133d9113f00bd235921e6e5adc9df326ae1af1"
   }
  }
 },
 "nbformat": 4,
 "nbformat_minor": 2
}
