{
 "cells": [
  {
   "cell_type": "code",
   "execution_count": 1,
   "metadata": {},
   "outputs": [
    {
     "name": "stdout",
     "output_type": "stream",
     "text": [
      "5/4\n"
     ]
    }
   ],
   "source": [
    "#1193\n",
    "\n",
    "n = int(input())\n",
    "\n",
    "line = 0 #사선라인\n",
    "end = 0 #n의 라인에서 가장 큰 숫자(마지막 숫자)\n",
    "\n",
    "while n > end:\n",
    "    line += 1\n",
    "    end += line\n",
    "\n",
    "gap = end - n\n",
    "\n",
    "if line%2 == 0: #짝수인경우\n",
    "    top = line - gap #분모\n",
    "    under = gap + 1 #분자\n",
    "else: #홀수인경우\n",
    "    top = gap + 1 #분모\n",
    "    under = line - gap #분자\n",
    "print(f'{top}/{under}')\n"
   ]
  },
  {
   "cell_type": "code",
   "execution_count": 1,
   "metadata": {},
   "outputs": [],
   "source": [
    "#2869\n",
    "a,b,v = map(int, input().split())\n",
    "\n",
    "k = (v-b)/(a-b)\n",
    "print(int(k) if k==int(k) else int(k)+1)"
   ]
  },
  {
   "cell_type": "code",
   "execution_count": null,
   "metadata": {},
   "outputs": [],
   "source": [
    "#2750\n",
    "N = int(input())\n",
    "\n",
    "list = []\n",
    "\n",
    "for i in range(N):\n",
    "    list.append(int(input()))\n",
    "\n",
    "list = sorted(list)\n",
    "\n",
    "for i in range(len(list)):\n",
    "    print(list[i])"
   ]
  },
  {
   "cell_type": "code",
   "execution_count": 1,
   "metadata": {},
   "outputs": [
    {
     "ename": "ValueError",
     "evalue": "not enough values to unpack (expected 2, got 0)",
     "output_type": "error",
     "traceback": [
      "\u001b[1;31m---------------------------------------------------------------------------\u001b[0m",
      "\u001b[1;31mValueError\u001b[0m                                Traceback (most recent call last)",
      "\u001b[1;32mc:\\Users\\HONG SEO I\\Desktop\\Programming\\python_prac\\Python_interview\\backJoon.ipynb 셀 4\u001b[0m in \u001b[0;36m3\n\u001b[0;32m      <a href='vscode-notebook-cell:/c%3A/Users/HONG%20SEO%20I/Desktop/Programming/python_prac/Python_interview/backJoon.ipynb#W3sZmlsZQ%3D%3D?line=0'>1</a>\u001b[0m A, B \u001b[39m=\u001b[39m [], []\n\u001b[1;32m----> <a href='vscode-notebook-cell:/c%3A/Users/HONG%20SEO%20I/Desktop/Programming/python_prac/Python_interview/backJoon.ipynb#W3sZmlsZQ%3D%3D?line=2'>3</a>\u001b[0m N, M \u001b[39m=\u001b[39m \u001b[39mmap\u001b[39m(\u001b[39mint\u001b[39m, \u001b[39minput\u001b[39m()\u001b[39m.\u001b[39msplit())\n\u001b[0;32m      <a href='vscode-notebook-cell:/c%3A/Users/HONG%20SEO%20I/Desktop/Programming/python_prac/Python_interview/backJoon.ipynb#W3sZmlsZQ%3D%3D?line=4'>5</a>\u001b[0m \u001b[39mfor\u001b[39;00m row \u001b[39min\u001b[39;00m \u001b[39mrange\u001b[39m(N):\n\u001b[0;32m      <a href='vscode-notebook-cell:/c%3A/Users/HONG%20SEO%20I/Desktop/Programming/python_prac/Python_interview/backJoon.ipynb#W3sZmlsZQ%3D%3D?line=5'>6</a>\u001b[0m     row \u001b[39m=\u001b[39m \u001b[39mlist\u001b[39m(\u001b[39mmap\u001b[39m(\u001b[39mint\u001b[39m, \u001b[39minput\u001b[39m()\u001b[39m.\u001b[39msplit()))\n",
      "\u001b[1;31mValueError\u001b[0m: not enough values to unpack (expected 2, got 0)"
     ]
    }
   ],
   "source": [
    "A, B = [], []\n",
    "\n",
    "N, M = map(int, input().split())\n",
    "\n",
    "for row in range(N):\n",
    "    row = list(map(int, input().split()))\n",
    "    A.append(row)\n",
    "\n",
    "for row in range(N):\n",
    "    row = list(map(int, input().split()))\n",
    "    B.append(row)\n",
    "    \n",
    "for row in range(N):\n",
    "    for col in range(M):\n",
    "        print(A[row][col] + B[row][col], end=' ')\n",
    "    print()"
   ]
  },
  {
   "cell_type": "code",
   "execution_count": 7,
   "metadata": {},
   "outputs": [
    {
     "ename": "ValueError",
     "evalue": "invalid literal for int() with base 10: ''",
     "output_type": "error",
     "traceback": [
      "\u001b[1;31m---------------------------------------------------------------------------\u001b[0m",
      "\u001b[1;31mValueError\u001b[0m                                Traceback (most recent call last)",
      "\u001b[1;32mc:\\Users\\HONG SEO I\\Desktop\\Programming\\python_prac\\Python_interview\\backJoon.ipynb 셀 5\u001b[0m in \u001b[0;36m6\n\u001b[0;32m      <a href='vscode-notebook-cell:/c%3A/Users/HONG%20SEO%20I/Desktop/Programming/python_prac/Python_interview/backJoon.ipynb#W4sZmlsZQ%3D%3D?line=2'>3</a>\u001b[0m \u001b[39mfor\u001b[39;00m i \u001b[39min\u001b[39;00m \u001b[39mrange\u001b[39m(\u001b[39m0\u001b[39m,num):\n\u001b[0;32m      <a href='vscode-notebook-cell:/c%3A/Users/HONG%20SEO%20I/Desktop/Programming/python_prac/Python_interview/backJoon.ipynb#W4sZmlsZQ%3D%3D?line=3'>4</a>\u001b[0m     lst \u001b[39m=\u001b[39m \u001b[39mlist\u001b[39m(\u001b[39mmap\u001b[39m(\u001b[39mint\u001b[39m, \u001b[39minput\u001b[39m()\u001b[39m.\u001b[39msplit()))\n\u001b[1;32m----> <a href='vscode-notebook-cell:/c%3A/Users/HONG%20SEO%20I/Desktop/Programming/python_prac/Python_interview/backJoon.ipynb#W4sZmlsZQ%3D%3D?line=5'>6</a>\u001b[0m target \u001b[39m=\u001b[39m \u001b[39mint\u001b[39m(\u001b[39minput\u001b[39m())\n\u001b[0;32m      <a href='vscode-notebook-cell:/c%3A/Users/HONG%20SEO%20I/Desktop/Programming/python_prac/Python_interview/backJoon.ipynb#W4sZmlsZQ%3D%3D?line=6'>7</a>\u001b[0m count \u001b[39m=\u001b[39m \u001b[39m0\u001b[39m\n\u001b[0;32m      <a href='vscode-notebook-cell:/c%3A/Users/HONG%20SEO%20I/Desktop/Programming/python_prac/Python_interview/backJoon.ipynb#W4sZmlsZQ%3D%3D?line=7'>8</a>\u001b[0m \u001b[39mfor\u001b[39;00m i \u001b[39min\u001b[39;00m lst:\n",
      "\u001b[1;31mValueError\u001b[0m: invalid literal for int() with base 10: ''"
     ]
    }
   ],
   "source": [
    "#10807: 총 n개의 정수가 주어졌을 때 정수 v가 몇개인지 구하라\n",
    "num = int(input())\n",
    "lst = list(map(int, input().split()))\n",
    "\n",
    "target = int(input())\n",
    "count = 0\n",
    "for i in lst:\n",
    "    if i == target:\n",
    "        count += 1\n",
    "\n",
    "print(count)\n"
   ]
  },
  {
   "cell_type": "code",
   "execution_count": null,
   "metadata": {},
   "outputs": [],
   "source": [
    "#10807 숏코드\n",
    "\n",
    "num = int(input())\n",
    "lst = list(map(int, input().split()))\n",
    "target = int(input())\n",
    "print(lst.count(target))"
   ]
  },
  {
   "cell_type": "code",
   "execution_count": 15,
   "metadata": {},
   "outputs": [
    {
     "ename": "ValueError",
     "evalue": "invalid literal for int() with base 10: ''",
     "output_type": "error",
     "traceback": [
      "\u001b[1;31m---------------------------------------------------------------------------\u001b[0m",
      "\u001b[1;31mValueError\u001b[0m                                Traceback (most recent call last)",
      "\u001b[1;32mc:\\Users\\HONG SEO I\\Desktop\\Programming\\python_prac\\Python_interview\\backJoon.ipynb 셀 7\u001b[0m in \u001b[0;36m6\n\u001b[0;32m      <a href='vscode-notebook-cell:/c%3A/Users/HONG%20SEO%20I/Desktop/Programming/python_prac/Python_interview/backJoon.ipynb#W6sZmlsZQ%3D%3D?line=2'>3</a>\u001b[0m students \u001b[39m=\u001b[39m [i \u001b[39mfor\u001b[39;00m i \u001b[39min\u001b[39;00m \u001b[39mrange\u001b[39m(\u001b[39m1\u001b[39m,\u001b[39m31\u001b[39m)]\n\u001b[0;32m      <a href='vscode-notebook-cell:/c%3A/Users/HONG%20SEO%20I/Desktop/Programming/python_prac/Python_interview/backJoon.ipynb#W6sZmlsZQ%3D%3D?line=4'>5</a>\u001b[0m \u001b[39mfor\u001b[39;00m _ \u001b[39min\u001b[39;00m \u001b[39mrange\u001b[39m(\u001b[39m28\u001b[39m):\n\u001b[1;32m----> <a href='vscode-notebook-cell:/c%3A/Users/HONG%20SEO%20I/Desktop/Programming/python_prac/Python_interview/backJoon.ipynb#W6sZmlsZQ%3D%3D?line=5'>6</a>\u001b[0m     applied \u001b[39m=\u001b[39m \u001b[39mint\u001b[39m(\u001b[39minput\u001b[39m())\n\u001b[0;32m      <a href='vscode-notebook-cell:/c%3A/Users/HONG%20SEO%20I/Desktop/Programming/python_prac/Python_interview/backJoon.ipynb#W6sZmlsZQ%3D%3D?line=6'>7</a>\u001b[0m     students\u001b[39m.\u001b[39mremove(applied)\n\u001b[0;32m      <a href='vscode-notebook-cell:/c%3A/Users/HONG%20SEO%20I/Desktop/Programming/python_prac/Python_interview/backJoon.ipynb#W6sZmlsZQ%3D%3D?line=8'>9</a>\u001b[0m \u001b[39mprint\u001b[39m(\u001b[39mmin\u001b[39m(students))\n",
      "\u001b[1;31mValueError\u001b[0m: invalid literal for int() with base 10: ''"
     ]
    }
   ],
   "source": [
    "#5597: 학생 1~30 중 28명만 과제 제출. 제출 안한 학생2명의 출셕번호 구하라\n",
    "\n",
    "students = [i for i in range(1,31)]\n",
    "\n",
    "for _ in range(28):\n",
    "    applied = int(input())\n",
    "    students.remove(applied)\n",
    "\n",
    "print(min(students))\n",
    "print(max(students))"
   ]
  },
  {
   "cell_type": "code",
   "execution_count": null,
   "metadata": {},
   "outputs": [],
   "source": [
    "#2743: 알파벳으로만 이루어진 단어의 길이 출력\n",
    "\n",
    "a = input()\n",
    "print(len(a))"
   ]
  },
  {
   "cell_type": "code",
   "execution_count": null,
   "metadata": {},
   "outputs": [],
   "source": [
    "# 2744\n",
    "\n",
    "a = input()\n",
    "\n",
    "print(a.swapcase())"
   ]
  },
  {
   "cell_type": "code",
   "execution_count": null,
   "metadata": {},
   "outputs": [],
   "source": [
    "#9086\n",
    "\n",
    "T = int(input())\n",
    "\n",
    "for i in range(T):\n",
    "    num = input()\n",
    "    print(num[0]+num[-1])"
   ]
  },
  {
   "cell_type": "code",
   "execution_count": null,
   "metadata": {},
   "outputs": [],
   "source": [
    "score = input()\n",
    "\n",
    "if score == 'A+':\n",
    "    print(4.3)\n",
    "elif score == 'A0':\n",
    "    print(4.0)    \n",
    "elif score == 'A-':\n",
    "    print(3.7)   \n",
    "elif score == 'B+':\n",
    "    print(3.3)\n",
    "elif score == 'B0':\n",
    "    print(3.0)\n",
    "elif score == 'B-':\n",
    "    print(2.7)\n",
    "elif score == 'C+':\n",
    "    print(2.3)\n",
    "elif score == 'C0':\n",
    "    print(2.0)   \n",
    "elif score == 'C-':\n",
    "    print(1.7)            \n",
    "elif score == 'D+':\n",
    "    print(1.3)\n",
    "elif score == 'D0':\n",
    "    print(1.0)   \n",
    "elif score == 'D-':\n",
    "    print(0.7)\n",
    "elif score == 'F':\n",
    "    print(0.0) "
   ]
  },
  {
   "cell_type": "code",
   "execution_count": null,
   "metadata": {},
   "outputs": [],
   "source": [
    "# 더 나은 풀이: 딕셔너리 이용\n",
    "dic = {'A+':'4.3', 'A0':'4.0', 'A-':'3.7',\n",
    "       'B+':'3.3', 'B0':'3.0', 'B-':'2.7',\n",
    "       'C+':'2.3', 'C0':'2.0', 'C-':'1.7',\n",
    "       'D+':'1.3', 'D0':'1.0', 'D-':'0.7',\n",
    "       'F':'0.0'}\n",
    "grade = input()\n",
    "print(dic[grade])"
   ]
  },
  {
   "cell_type": "code",
   "execution_count": null,
   "metadata": {},
   "outputs": [],
   "source": [
    "#15964\n",
    "\n",
    "a,b = map(int, input().split())\n",
    "def new_add(a,b):\n",
    "    return (a+b)*(a-b)\n",
    "print(new_add(a,b))"
   ]
  },
  {
   "cell_type": "code",
   "execution_count": 1,
   "metadata": {},
   "outputs": [
    {
     "ename": "ValueError",
     "evalue": "not enough values to unpack (expected 2, got 0)",
     "output_type": "error",
     "traceback": [
      "\u001b[1;31m---------------------------------------------------------------------------\u001b[0m",
      "\u001b[1;31mValueError\u001b[0m                                Traceback (most recent call last)",
      "\u001b[1;32mc:\\Users\\HONG SEO I\\Desktop\\Programming\\python_prac\\Python_interview\\backJoon.ipynb 셀 14\u001b[0m in \u001b[0;36m2\n\u001b[0;32m      <a href='vscode-notebook-cell:/c%3A/Users/HONG%20SEO%20I/Desktop/Programming/python_prac/Python_interview/backJoon.ipynb#X16sZmlsZQ%3D%3D?line=0'>1</a>\u001b[0m \u001b[39m# 1018\u001b[39;00m\n\u001b[1;32m----> <a href='vscode-notebook-cell:/c%3A/Users/HONG%20SEO%20I/Desktop/Programming/python_prac/Python_interview/backJoon.ipynb#X16sZmlsZQ%3D%3D?line=1'>2</a>\u001b[0m M, N \u001b[39m=\u001b[39m \u001b[39mmap\u001b[39m(\u001b[39mint\u001b[39m, \u001b[39minput\u001b[39m()\u001b[39m.\u001b[39msplit())\n\u001b[0;32m      <a href='vscode-notebook-cell:/c%3A/Users/HONG%20SEO%20I/Desktop/Programming/python_prac/Python_interview/backJoon.ipynb#X16sZmlsZQ%3D%3D?line=2'>3</a>\u001b[0m board \u001b[39m=\u001b[39m []\n\u001b[0;32m      <a href='vscode-notebook-cell:/c%3A/Users/HONG%20SEO%20I/Desktop/Programming/python_prac/Python_interview/backJoon.ipynb#X16sZmlsZQ%3D%3D?line=3'>4</a>\u001b[0m result \u001b[39m=\u001b[39m []\n",
      "\u001b[1;31mValueError\u001b[0m: not enough values to unpack (expected 2, got 0)"
     ]
    }
   ],
   "source": [
    "# 1018\n",
    "M, N = map(int, input().split())\n",
    "board = []\n",
    "result = []\n",
    "\n",
    "for _ in range(M):\n",
    "    board.append(input())\n",
    "    \n"
   ]
  },
  {
   "cell_type": "code",
   "execution_count": 3,
   "metadata": {},
   "outputs": [
    {
     "name": "stdout",
     "output_type": "stream",
     "text": [
      "|\\_/|\n",
      "|q p|   /}\n",
      "( 0 )\"\"\"\\\n",
      "|\"^\"`    |\n",
      "||_/=\\\\__|\n"
     ]
    }
   ],
   "source": [
    "# 10172\n",
    "\n",
    "print(\"|\\_/|\")\n",
    "print(\"|q p|   /}\")\n",
    "print('( 0 )\"\"\"\\\\')\n",
    "print('|\"^\"`    |')\n",
    "print('||_/=\\\\\\__|')"
   ]
  },
  {
   "cell_type": "code",
   "execution_count": 1,
   "metadata": {},
   "outputs": [
    {
     "name": "stdout",
     "output_type": "stream",
     "text": [
      "mixed\n"
     ]
    }
   ],
   "source": [
    "nums = list(map(int, input().split()))\n",
    "\n",
    "if nums == sorted(nums):\n",
    "    print(\"ascending\")\n",
    "elif nums == sorted(nums, reverse=True):\n",
    "    print('descending')\n",
    "else:\n",
    "    print(\"mixed\")"
   ]
  },
  {
   "cell_type": "code",
   "execution_count": 2,
   "metadata": {},
   "outputs": [
    {
     "name": "stdout",
     "output_type": "stream",
     "text": [
      "90\n",
      "4 6\n"
     ]
    }
   ],
   "source": [
    "# 2566\n",
    "lst = []\n",
    "max_value = 0\n",
    "\n",
    "for i in range(9):\n",
    "    new_list = list(map(int, input().split()))\n",
    "    new_max = max(new_list)\n",
    "\n",
    "    if max_value <= new_max:\n",
    "        max_value = new_max\n",
    "        max_row = i + 1\n",
    "        max_col = new_list.index(new_max) + 1\n",
    "\n",
    "\n",
    "print(max_value)\n",
    "print(max_row, max_col)\n",
    "\n"
   ]
  },
  {
   "cell_type": "code",
   "execution_count": 1,
   "metadata": {},
   "outputs": [
    {
     "ename": "IndexError",
     "evalue": "list index out of range",
     "output_type": "error",
     "traceback": [
      "\u001b[1;31m---------------------------------------------------------------------------\u001b[0m",
      "\u001b[1;31mIndexError\u001b[0m                                Traceback (most recent call last)",
      "\u001b[1;32mc:\\Users\\HONG SEO I\\Desktop\\Programming\\python_prac\\Python_interview\\backJoon.ipynb 셀 18\u001b[0m in \u001b[0;36m1\n\u001b[0;32m      <a href='vscode-notebook-cell:/c%3A/Users/HONG%20SEO%20I/Desktop/Programming/python_prac/Python_interview/backJoon.ipynb#X23sZmlsZQ%3D%3D?line=7'>8</a>\u001b[0m \u001b[39mfor\u001b[39;00m row \u001b[39min\u001b[39;00m \u001b[39mrange\u001b[39m(\u001b[39m9\u001b[39m):\n\u001b[0;32m      <a href='vscode-notebook-cell:/c%3A/Users/HONG%20SEO%20I/Desktop/Programming/python_prac/Python_interview/backJoon.ipynb#X23sZmlsZQ%3D%3D?line=8'>9</a>\u001b[0m     \u001b[39mfor\u001b[39;00m col \u001b[39min\u001b[39;00m \u001b[39mrange\u001b[39m(\u001b[39m9\u001b[39m):\n\u001b[1;32m---> <a href='vscode-notebook-cell:/c%3A/Users/HONG%20SEO%20I/Desktop/Programming/python_prac/Python_interview/backJoon.ipynb#X23sZmlsZQ%3D%3D?line=9'>10</a>\u001b[0m         \u001b[39mif\u001b[39;00m max_num \u001b[39m<\u001b[39m\u001b[39m=\u001b[39m table[row][col]:\n\u001b[0;32m     <a href='vscode-notebook-cell:/c%3A/Users/HONG%20SEO%20I/Desktop/Programming/python_prac/Python_interview/backJoon.ipynb#X23sZmlsZQ%3D%3D?line=10'>11</a>\u001b[0m             max_num \u001b[39m=\u001b[39m table[row][col]\n\u001b[0;32m     <a href='vscode-notebook-cell:/c%3A/Users/HONG%20SEO%20I/Desktop/Programming/python_prac/Python_interview/backJoon.ipynb#X23sZmlsZQ%3D%3D?line=11'>12</a>\u001b[0m             max_row \u001b[39m=\u001b[39m row \u001b[39m+\u001b[39m \u001b[39m1\u001b[39m\n",
      "\u001b[1;31mIndexError\u001b[0m: list index out of range"
     ]
    }
   ],
   "source": [
    "# 2566 slv\n",
    "\n",
    "table = [list(map(int ,input().split())) for _ in range(9)]\n",
    "\n",
    "max_num = 0\n",
    "max_row, max_col = 0,0\n",
    "\n",
    "for row in range(9):\n",
    "    for col in range(9):\n",
    "        if max_num <= table[row][col]:\n",
    "            max_num = table[row][col]\n",
    "            max_row = row + 1\n",
    "            max_col = col + 1\n",
    "\n",
    "print(max_num)\n",
    "print(max_row, max_col)"
   ]
  },
  {
   "cell_type": "code",
   "execution_count": 2,
   "metadata": {},
   "outputs": [
    {
     "ename": "ValueError",
     "evalue": "not enough values to unpack (expected 2, got 0)",
     "output_type": "error",
     "traceback": [
      "\u001b[1;31m---------------------------------------------------------------------------\u001b[0m",
      "\u001b[1;31mValueError\u001b[0m                                Traceback (most recent call last)",
      "\u001b[1;32mc:\\Users\\HONG SEO I\\Desktop\\Programming\\python_prac\\Python_interview\\backJoon.ipynb 셀 19\u001b[0m in \u001b[0;36m1\n\u001b[1;32m----> <a href='vscode-notebook-cell:/c%3A/Users/HONG%20SEO%20I/Desktop/Programming/python_prac/Python_interview/backJoon.ipynb#X24sZmlsZQ%3D%3D?line=0'>1</a>\u001b[0m n,m\u001b[39m=\u001b[39m\u001b[39mmap\u001b[39m(\u001b[39mint\u001b[39m,\u001b[39minput\u001b[39m()\u001b[39m.\u001b[39msplit())\n\u001b[0;32m      <a href='vscode-notebook-cell:/c%3A/Users/HONG%20SEO%20I/Desktop/Programming/python_prac/Python_interview/backJoon.ipynb#X24sZmlsZQ%3D%3D?line=2'>3</a>\u001b[0m mtr\u001b[39m=\u001b[39m[]\n\u001b[0;32m      <a href='vscode-notebook-cell:/c%3A/Users/HONG%20SEO%20I/Desktop/Programming/python_prac/Python_interview/backJoon.ipynb#X24sZmlsZQ%3D%3D?line=3'>4</a>\u001b[0m cnt\u001b[39m=\u001b[39m[]\n",
      "\u001b[1;31mValueError\u001b[0m: not enough values to unpack (expected 2, got 0)"
     ]
    }
   ],
   "source": [
    "n,m=map(int,input().split())\n",
    "\n",
    "mtr=[]\n",
    "cnt=[]\n",
    "for i in range(n):\n",
    "    mtr.append(input())\n",
    "    \n",
    "for a in range(n-7):\n",
    "    for b in range(m-7):#8*8로 자르기 위해, -7해준다\n",
    "        w_index=0 #흰색으로 시작\n",
    "        b_index=0 #검은색으로 시작\n",
    "        for i in range(a,a+8):#시작지점\n",
    "            for j in range(b,b+8):#시작지점\n",
    "                if (i+j)%2==0:#짝수인 경우\n",
    "                    if mtr[i][j]!='W':#W가 아니면, 즉 B이면\n",
    "                        w_index+=1#W로 칠하는 갯수\n",
    "                    else:#W일 때\n",
    "                        b_index+=1#B로 칠하는 갯수\n",
    "                else:#홀수인 경우\n",
    "                    if mtr[i][j]!='W':#W가 아니면, 즉 B이면\n",
    "                        b_index+=1#B로 칠하는 갯수\n",
    "                    else:\n",
    "                        w_index+=1#W로 칠하는 갯수\n",
    "                        \n",
    "        cnt.append(w_index) #W로 시작할 때 경우의 수\n",
    "        cnt.append(b_index) #B로 시작할 때 경우의 수\n",
    "print(min(cnt))"
   ]
  },
  {
   "cell_type": "code",
   "execution_count": 4,
   "metadata": {},
   "outputs": [
    {
     "data": {
      "text/plain": [
       "1"
      ]
     },
     "execution_count": 4,
     "metadata": {},
     "output_type": "execute_result"
    }
   ],
   "source": [
    "#15829\n",
    "ord('a') - 96"
   ]
  },
  {
   "cell_type": "code",
   "execution_count": 3,
   "metadata": {},
   "outputs": [
    {
     "data": {
      "text/plain": [
       "2"
      ]
     },
     "execution_count": 3,
     "metadata": {},
     "output_type": "execute_result"
    }
   ],
   "source": [
    "ord('b') - 96"
   ]
  },
  {
   "cell_type": "code",
   "execution_count": 12,
   "metadata": {},
   "outputs": [
    {
     "name": "stdout",
     "output_type": "stream",
     "text": [
      "25818\n"
     ]
    }
   ],
   "source": [
    "L = int(input(\"문자열의 길이를 입력하세요\"))\n",
    "words = input(\"문자열을 입력하세요\")[:L]\n",
    "hashed_value = 0\n",
    "r = 31\n",
    "\n",
    "for index, value in enumerate(words):\n",
    "    a =  ord(value)-96\n",
    "    r_squared = r**index\n",
    "    hashed_value += a*r_squared\n",
    "\n",
    "print(hashed_value)\n"
   ]
  },
  {
   "cell_type": "code",
   "execution_count": 21,
   "metadata": {},
   "outputs": [],
   "source": [
    "# 1259\n",
    "while True:\n",
    "    num1 = input()\n",
    "    num_list = list(reversed(num1))\n",
    "    num2 = int(''.join(num_list))\n",
    "\n",
    "    if num1 == \"0\":\n",
    "        break\n",
    "\n",
    "    if int(num1) == num2:\n",
    "        print(\"yes\")\n",
    "    else:\n",
    "        print(\"no\")\n",
    "\n"
   ]
  },
  {
   "cell_type": "code",
   "execution_count": null,
   "metadata": {},
   "outputs": [],
   "source": []
  }
 ],
 "metadata": {
  "kernelspec": {
   "display_name": "Python 3",
   "language": "python",
   "name": "python3"
  },
  "language_info": {
   "codemirror_mode": {
    "name": "ipython",
    "version": 3
   },
   "file_extension": ".py",
   "mimetype": "text/x-python",
   "name": "python",
   "nbconvert_exporter": "python",
   "pygments_lexer": "ipython3",
   "version": "3.9.13"
  },
  "orig_nbformat": 4,
  "vscode": {
   "interpreter": {
    "hash": "2a271c975db27fcc5bd6750a79133d9113f00bd235921e6e5adc9df326ae1af1"
   }
  }
 },
 "nbformat": 4,
 "nbformat_minor": 2
}
