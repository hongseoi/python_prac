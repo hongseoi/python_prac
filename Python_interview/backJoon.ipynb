{
 "cells": [
  {
   "cell_type": "code",
   "execution_count": 1,
   "metadata": {},
   "outputs": [],
   "source": [
    "#1193\n",
    "\n",
    "n = int(input())\n",
    "\n",
    "line = 0 #사선라인\n",
    "end = 0 #n의 라인에서 가장 큰 숫자(마지막 숫자)\n",
    "\n",
    "while n > end:\n",
    "    line += 1\n",
    "    end += line\n",
    "\n",
    "gap = end - n\n",
    "\n",
    "if line%2 == 0: #짝수인경우\n",
    "    top = line - gap #분모\n",
    "    under = gap + 1 #분자\n",
    "else: #홀수인경우\n",
    "    top = gap + 1 #분모\n",
    "    under = line - gap #분자\n",
    "print(f'{top}/{under}')\n"
   ]
  },
  {
   "cell_type": "code",
   "execution_count": 1,
   "metadata": {},
   "outputs": [],
   "source": [
    "#2869\n",
    "a,b,v = map(int, input().split())\n",
    "\n",
    "k = (v-b)/(a-b)\n",
    "print(int(k) if k==int(k) else int(k)+1)"
   ]
  },
  {
   "cell_type": "code",
   "execution_count": null,
   "metadata": {},
   "outputs": [],
   "source": [
    "#2750\n",
    "N = int(input())\n",
    "\n",
    "list = []\n",
    "\n",
    "for i in range(N):\n",
    "    list.append(int(input()))\n",
    "\n",
    "list = sorted(list)\n",
    "\n",
    "for i in range(len(list)):\n",
    "    print(list[i])"
   ]
  },
  {
   "cell_type": "code",
   "execution_count": 1,
   "metadata": {},
   "outputs": [
    {
     "ename": "ValueError",
     "evalue": "not enough values to unpack (expected 2, got 0)",
     "output_type": "error",
     "traceback": [
      "\u001b[1;31m---------------------------------------------------------------------------\u001b[0m",
      "\u001b[1;31mValueError\u001b[0m                                Traceback (most recent call last)",
      "\u001b[1;32mc:\\Users\\HONG SEO I\\Desktop\\Programming\\python_prac\\Python_interview\\backJoon.ipynb 셀 4\u001b[0m in \u001b[0;36m3\n\u001b[0;32m      <a href='vscode-notebook-cell:/c%3A/Users/HONG%20SEO%20I/Desktop/Programming/python_prac/Python_interview/backJoon.ipynb#W3sZmlsZQ%3D%3D?line=0'>1</a>\u001b[0m A, B \u001b[39m=\u001b[39m [], []\n\u001b[1;32m----> <a href='vscode-notebook-cell:/c%3A/Users/HONG%20SEO%20I/Desktop/Programming/python_prac/Python_interview/backJoon.ipynb#W3sZmlsZQ%3D%3D?line=2'>3</a>\u001b[0m N, M \u001b[39m=\u001b[39m \u001b[39mmap\u001b[39m(\u001b[39mint\u001b[39m, \u001b[39minput\u001b[39m()\u001b[39m.\u001b[39msplit())\n\u001b[0;32m      <a href='vscode-notebook-cell:/c%3A/Users/HONG%20SEO%20I/Desktop/Programming/python_prac/Python_interview/backJoon.ipynb#W3sZmlsZQ%3D%3D?line=4'>5</a>\u001b[0m \u001b[39mfor\u001b[39;00m row \u001b[39min\u001b[39;00m \u001b[39mrange\u001b[39m(N):\n\u001b[0;32m      <a href='vscode-notebook-cell:/c%3A/Users/HONG%20SEO%20I/Desktop/Programming/python_prac/Python_interview/backJoon.ipynb#W3sZmlsZQ%3D%3D?line=5'>6</a>\u001b[0m     row \u001b[39m=\u001b[39m \u001b[39mlist\u001b[39m(\u001b[39mmap\u001b[39m(\u001b[39mint\u001b[39m, \u001b[39minput\u001b[39m()\u001b[39m.\u001b[39msplit()))\n",
      "\u001b[1;31mValueError\u001b[0m: not enough values to unpack (expected 2, got 0)"
     ]
    }
   ],
   "source": [
    "A, B = [], []\n",
    "\n",
    "N, M = map(int, input().split())\n",
    "\n",
    "for row in range(N):\n",
    "    row = list(map(int, input().split()))\n",
    "    A.append(row)\n",
    "\n",
    "for row in range(N):\n",
    "    row = list(map(int, input().split()))\n",
    "    B.append(row)\n",
    "    \n",
    "for row in range(N):\n",
    "    for col in range(M):\n",
    "        print(A[row][col] + B[row][col], end=' ')\n",
    "    print()"
   ]
  },
  {
   "cell_type": "code",
   "execution_count": 7,
   "metadata": {},
   "outputs": [
    {
     "ename": "ValueError",
     "evalue": "invalid literal for int() with base 10: ''",
     "output_type": "error",
     "traceback": [
      "\u001b[1;31m---------------------------------------------------------------------------\u001b[0m",
      "\u001b[1;31mValueError\u001b[0m                                Traceback (most recent call last)",
      "\u001b[1;32mc:\\Users\\HONG SEO I\\Desktop\\Programming\\python_prac\\Python_interview\\backJoon.ipynb 셀 5\u001b[0m in \u001b[0;36m6\n\u001b[0;32m      <a href='vscode-notebook-cell:/c%3A/Users/HONG%20SEO%20I/Desktop/Programming/python_prac/Python_interview/backJoon.ipynb#W4sZmlsZQ%3D%3D?line=2'>3</a>\u001b[0m \u001b[39mfor\u001b[39;00m i \u001b[39min\u001b[39;00m \u001b[39mrange\u001b[39m(\u001b[39m0\u001b[39m,num):\n\u001b[0;32m      <a href='vscode-notebook-cell:/c%3A/Users/HONG%20SEO%20I/Desktop/Programming/python_prac/Python_interview/backJoon.ipynb#W4sZmlsZQ%3D%3D?line=3'>4</a>\u001b[0m     lst \u001b[39m=\u001b[39m \u001b[39mlist\u001b[39m(\u001b[39mmap\u001b[39m(\u001b[39mint\u001b[39m, \u001b[39minput\u001b[39m()\u001b[39m.\u001b[39msplit()))\n\u001b[1;32m----> <a href='vscode-notebook-cell:/c%3A/Users/HONG%20SEO%20I/Desktop/Programming/python_prac/Python_interview/backJoon.ipynb#W4sZmlsZQ%3D%3D?line=5'>6</a>\u001b[0m target \u001b[39m=\u001b[39m \u001b[39mint\u001b[39m(\u001b[39minput\u001b[39m())\n\u001b[0;32m      <a href='vscode-notebook-cell:/c%3A/Users/HONG%20SEO%20I/Desktop/Programming/python_prac/Python_interview/backJoon.ipynb#W4sZmlsZQ%3D%3D?line=6'>7</a>\u001b[0m count \u001b[39m=\u001b[39m \u001b[39m0\u001b[39m\n\u001b[0;32m      <a href='vscode-notebook-cell:/c%3A/Users/HONG%20SEO%20I/Desktop/Programming/python_prac/Python_interview/backJoon.ipynb#W4sZmlsZQ%3D%3D?line=7'>8</a>\u001b[0m \u001b[39mfor\u001b[39;00m i \u001b[39min\u001b[39;00m lst:\n",
      "\u001b[1;31mValueError\u001b[0m: invalid literal for int() with base 10: ''"
     ]
    }
   ],
   "source": [
    "#10807: 총 n개의 정수가 주어졌을 때 정수 v가 몇개인지 구하라\n",
    "num = int(input())\n",
    "lst = list(map(int, input().split()))\n",
    "\n",
    "target = int(input())\n",
    "count = 0\n",
    "for i in lst:\n",
    "    if i == target:\n",
    "        count += 1\n",
    "\n",
    "print(count)\n"
   ]
  },
  {
   "cell_type": "code",
   "execution_count": null,
   "metadata": {},
   "outputs": [],
   "source": [
    "#10807 숏코드\n",
    "\n",
    "num = int(input())\n",
    "lst = list(map(int, input().split()))\n",
    "target = int(input())\n",
    "print(lst.count(target))"
   ]
  },
  {
   "cell_type": "code",
   "execution_count": 15,
   "metadata": {},
   "outputs": [
    {
     "ename": "ValueError",
     "evalue": "invalid literal for int() with base 10: ''",
     "output_type": "error",
     "traceback": [
      "\u001b[1;31m---------------------------------------------------------------------------\u001b[0m",
      "\u001b[1;31mValueError\u001b[0m                                Traceback (most recent call last)",
      "\u001b[1;32mc:\\Users\\HONG SEO I\\Desktop\\Programming\\python_prac\\Python_interview\\backJoon.ipynb 셀 7\u001b[0m in \u001b[0;36m6\n\u001b[0;32m      <a href='vscode-notebook-cell:/c%3A/Users/HONG%20SEO%20I/Desktop/Programming/python_prac/Python_interview/backJoon.ipynb#W6sZmlsZQ%3D%3D?line=2'>3</a>\u001b[0m students \u001b[39m=\u001b[39m [i \u001b[39mfor\u001b[39;00m i \u001b[39min\u001b[39;00m \u001b[39mrange\u001b[39m(\u001b[39m1\u001b[39m,\u001b[39m31\u001b[39m)]\n\u001b[0;32m      <a href='vscode-notebook-cell:/c%3A/Users/HONG%20SEO%20I/Desktop/Programming/python_prac/Python_interview/backJoon.ipynb#W6sZmlsZQ%3D%3D?line=4'>5</a>\u001b[0m \u001b[39mfor\u001b[39;00m _ \u001b[39min\u001b[39;00m \u001b[39mrange\u001b[39m(\u001b[39m28\u001b[39m):\n\u001b[1;32m----> <a href='vscode-notebook-cell:/c%3A/Users/HONG%20SEO%20I/Desktop/Programming/python_prac/Python_interview/backJoon.ipynb#W6sZmlsZQ%3D%3D?line=5'>6</a>\u001b[0m     applied \u001b[39m=\u001b[39m \u001b[39mint\u001b[39m(\u001b[39minput\u001b[39m())\n\u001b[0;32m      <a href='vscode-notebook-cell:/c%3A/Users/HONG%20SEO%20I/Desktop/Programming/python_prac/Python_interview/backJoon.ipynb#W6sZmlsZQ%3D%3D?line=6'>7</a>\u001b[0m     students\u001b[39m.\u001b[39mremove(applied)\n\u001b[0;32m      <a href='vscode-notebook-cell:/c%3A/Users/HONG%20SEO%20I/Desktop/Programming/python_prac/Python_interview/backJoon.ipynb#W6sZmlsZQ%3D%3D?line=8'>9</a>\u001b[0m \u001b[39mprint\u001b[39m(\u001b[39mmin\u001b[39m(students))\n",
      "\u001b[1;31mValueError\u001b[0m: invalid literal for int() with base 10: ''"
     ]
    }
   ],
   "source": [
    "#5597: 학생 1~30 중 28명만 과제 제출. 제출 안한 학생2명의 출셕번호 구하라\n",
    "\n",
    "students = [i for i in range(1,31)]\n",
    "\n",
    "for _ in range(28):\n",
    "    applied = int(input())\n",
    "    students.remove(applied)\n",
    "\n",
    "print(min(students))\n",
    "print(max(students))"
   ]
  },
  {
   "cell_type": "code",
   "execution_count": null,
   "metadata": {},
   "outputs": [],
   "source": [
    "#2743: 알파벳으로만 이루어진 단어의 길이 출력\n",
    "\n",
    "a = input()\n",
    "print(len(a))"
   ]
  },
  {
   "cell_type": "code",
   "execution_count": null,
   "metadata": {},
   "outputs": [],
   "source": [
    "# 2744\n",
    "\n",
    "a = input()\n",
    "\n",
    "print(a.swapcase())"
   ]
  },
  {
   "cell_type": "code",
   "execution_count": null,
   "metadata": {},
   "outputs": [],
   "source": [
    "#9086\n",
    "\n",
    "T = int(input())\n",
    "\n",
    "for i in range(T):\n",
    "    num = input()\n",
    "    print(num[0]+num[-1])"
   ]
  },
  {
   "cell_type": "code",
   "execution_count": null,
   "metadata": {},
   "outputs": [],
   "source": [
    "score = input()\n",
    "\n",
    "if score == 'A+':\n",
    "    print(4.3)\n",
    "elif score == 'A0':\n",
    "    print(4.0)    \n",
    "elif score == 'A-':\n",
    "    print(3.7)   \n",
    "elif score == 'B+':\n",
    "    print(3.3)\n",
    "elif score == 'B0':\n",
    "    print(3.0)\n",
    "elif score == 'B-':\n",
    "    print(2.7)\n",
    "elif score == 'C+':\n",
    "    print(2.3)\n",
    "elif score == 'C0':\n",
    "    print(2.0)   \n",
    "elif score == 'C-':\n",
    "    print(1.7)            \n",
    "elif score == 'D+':\n",
    "    print(1.3)\n",
    "elif score == 'D0':\n",
    "    print(1.0)   \n",
    "elif score == 'D-':\n",
    "    print(0.7)\n",
    "elif score == 'F':\n",
    "    print(0.0) "
   ]
  },
  {
   "cell_type": "code",
   "execution_count": null,
   "metadata": {},
   "outputs": [],
   "source": [
    "# 더 나은 풀이: 딕셔너리 이용\n",
    "dic = {'A+':'4.3', 'A0':'4.0', 'A-':'3.7',\n",
    "       'B+':'3.3', 'B0':'3.0', 'B-':'2.7',\n",
    "       'C+':'2.3', 'C0':'2.0', 'C-':'1.7',\n",
    "       'D+':'1.3', 'D0':'1.0', 'D-':'0.7',\n",
    "       'F':'0.0'}\n",
    "grade = input()\n",
    "print(dic[grade])"
   ]
  },
  {
   "cell_type": "code",
   "execution_count": null,
   "metadata": {},
   "outputs": [],
   "source": [
    "#15964\n",
    "\n",
    "a,b = map(int, input().split())\n",
    "def new_add(a,b):\n",
    "    return (a+b)*(a-b)\n",
    "print(new_add(a,b))"
   ]
  },
  {
   "cell_type": "code",
   "execution_count": null,
   "metadata": {},
   "outputs": [],
   "source": []
  }
 ],
 "metadata": {
  "kernelspec": {
   "display_name": "Python 3",
   "language": "python",
   "name": "python3"
  },
  "language_info": {
   "codemirror_mode": {
    "name": "ipython",
    "version": 3
   },
   "file_extension": ".py",
   "mimetype": "text/x-python",
   "name": "python",
   "nbconvert_exporter": "python",
   "pygments_lexer": "ipython3",
   "version": "3.9.13"
  },
  "orig_nbformat": 4,
  "vscode": {
   "interpreter": {
    "hash": "2a271c975db27fcc5bd6750a79133d9113f00bd235921e6e5adc9df326ae1af1"
   }
  }
 },
 "nbformat": 4,
 "nbformat_minor": 2
}
