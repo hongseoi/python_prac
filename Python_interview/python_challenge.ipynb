{
 "cells": [
  {
   "cell_type": "code",
   "execution_count": 1,
   "metadata": {},
   "outputs": [
    {
     "name": "stdout",
     "output_type": "stream",
     "text": [
      "Heollo \n"
     ]
    }
   ],
   "source": [
    "name = input()\n",
    "print('Heollo', name)"
   ]
  },
  {
   "cell_type": "code",
   "execution_count": 2,
   "metadata": {},
   "outputs": [
    {
     "name": "stdout",
     "output_type": "stream",
     "text": [
      "Heollo seoi hong\n"
     ]
    }
   ],
   "source": [
    "#2\n",
    "name = input()\n",
    "first_name = input()\n",
    "print('Heollo', name, first_name)"
   ]
  },
  {
   "cell_type": "code",
   "execution_count": 3,
   "metadata": {},
   "outputs": [
    {
     "name": "stdout",
     "output_type": "stream",
     "text": [
      "what do you call a bear with no teeth? \n",
      " A gummy bear\n"
     ]
    }
   ],
   "source": [
    "#3\n",
    "print('what do you call a bear with no teeth? \\n A gummy bear')"
   ]
  },
  {
   "cell_type": "code",
   "execution_count": 6,
   "metadata": {},
   "outputs": [
    {
     "ename": "TypeError",
     "evalue": "'builtin_function_or_method' object is not iterable",
     "output_type": "error",
     "traceback": [
      "\u001b[1;31m---------------------------------------------------------------------------\u001b[0m",
      "\u001b[1;31mTypeError\u001b[0m                                 Traceback (most recent call last)",
      "\u001b[1;32mc:\\Users\\HONG SEO I\\Desktop\\Programming\\python_prac\\Python_interview\\python_challenge.ipynb 셀 4\u001b[0m in \u001b[0;36m2\n\u001b[0;32m      <a href='vscode-notebook-cell:/c%3A/Users/HONG%20SEO%20I/Desktop/Programming/python_prac/Python_interview/python_challenge.ipynb#W3sZmlsZQ%3D%3D?line=0'>1</a>\u001b[0m \u001b[39m#4\u001b[39;00m\n\u001b[1;32m----> <a href='vscode-notebook-cell:/c%3A/Users/HONG%20SEO%20I/Desktop/Programming/python_prac/Python_interview/python_challenge.ipynb#W3sZmlsZQ%3D%3D?line=1'>2</a>\u001b[0m a,b \u001b[39m=\u001b[39m \u001b[39mmap\u001b[39m(\u001b[39mint\u001b[39m, \u001b[39minput\u001b[39m()\u001b[39m.\u001b[39msplit)\n\u001b[0;32m      <a href='vscode-notebook-cell:/c%3A/Users/HONG%20SEO%20I/Desktop/Programming/python_prac/Python_interview/python_challenge.ipynb#W3sZmlsZQ%3D%3D?line=2'>3</a>\u001b[0m \u001b[39mprint\u001b[39m(\u001b[39mf\u001b[39m\u001b[39m'\u001b[39m\u001b[39mthe total is \u001b[39m\u001b[39m{\u001b[39;00ma\u001b[39m+\u001b[39mb\u001b[39m}\u001b[39;00m\u001b[39m'\u001b[39m)\n",
      "\u001b[1;31mTypeError\u001b[0m: 'builtin_function_or_method' object is not iterable"
     ]
    }
   ],
   "source": [
    "#4\n",
    "a,b = map(int, input().split)\n",
    "print(f'the total is {a+b}')"
   ]
  },
  {
   "cell_type": "code",
   "execution_count": 7,
   "metadata": {},
   "outputs": [
    {
     "ename": "TypeError",
     "evalue": "'builtin_function_or_method' object is not iterable",
     "output_type": "error",
     "traceback": [
      "\u001b[1;31m---------------------------------------------------------------------------\u001b[0m",
      "\u001b[1;31mTypeError\u001b[0m                                 Traceback (most recent call last)",
      "\u001b[1;32mc:\\Users\\HONG SEO I\\Desktop\\Programming\\python_prac\\Python_interview\\python_challenge.ipynb 셀 5\u001b[0m in \u001b[0;36m2\n\u001b[0;32m      <a href='vscode-notebook-cell:/c%3A/Users/HONG%20SEO%20I/Desktop/Programming/python_prac/Python_interview/python_challenge.ipynb#W4sZmlsZQ%3D%3D?line=0'>1</a>\u001b[0m \u001b[39m#5\u001b[39;00m\n\u001b[1;32m----> <a href='vscode-notebook-cell:/c%3A/Users/HONG%20SEO%20I/Desktop/Programming/python_prac/Python_interview/python_challenge.ipynb#W4sZmlsZQ%3D%3D?line=1'>2</a>\u001b[0m a,b,c \u001b[39m=\u001b[39m \u001b[39mmap\u001b[39m(\u001b[39mint\u001b[39m, \u001b[39minput\u001b[39m()\u001b[39m.\u001b[39msplit)\n\u001b[0;32m      <a href='vscode-notebook-cell:/c%3A/Users/HONG%20SEO%20I/Desktop/Programming/python_prac/Python_interview/python_challenge.ipynb#W4sZmlsZQ%3D%3D?line=2'>3</a>\u001b[0m \u001b[39mprint\u001b[39m(\u001b[39mf\u001b[39m\u001b[39m'\u001b[39m\u001b[39mthe total is \u001b[39m\u001b[39m{\u001b[39;00ma\u001b[39m*\u001b[39mb\u001b[39m*\u001b[39mc\u001b[39m}\u001b[39;00m\u001b[39m'\u001b[39m)\n",
      "\u001b[1;31mTypeError\u001b[0m: 'builtin_function_or_method' object is not iterable"
     ]
    }
   ],
   "source": [
    "#5\n",
    "a,b,c = map(int, input().split)\n",
    "print(f'the total is {a*b*c}')"
   ]
  },
  {
   "cell_type": "code",
   "execution_count": 8,
   "metadata": {},
   "outputs": [
    {
     "name": "stdout",
     "output_type": "stream",
     "text": [
      "남은 피자 조각 개수는 1\n"
     ]
    }
   ],
   "source": [
    "#6\n",
    "pizza = int(input(\"원래 갖고 있던 피자 수?\"))\n",
    "ate = int(input(\"먹은 피자 조각수?\"))\n",
    "\n",
    "print(f'남은 피자 조각 개수는 {pizza - ate}')\n"
   ]
  },
  {
   "cell_type": "code",
   "execution_count": 9,
   "metadata": {},
   "outputs": [
    {
     "name": "stdout",
     "output_type": "stream",
     "text": [
      "next birthday you will be  56\n"
     ]
    }
   ],
   "source": [
    "#7\n",
    "name = input(\"이름?\")\n",
    "age = int(input(\"나이?\"))\n",
    "\n",
    "print(\"next birthday you will be \", age+1)"
   ]
  },
  {
   "cell_type": "code",
   "execution_count": 10,
   "metadata": {},
   "outputs": [
    {
     "name": "stdout",
     "output_type": "stream",
     "text": [
      "25000.0\n"
     ]
    }
   ],
   "source": [
    "#8\n",
    "total_price = int(input(\"총 금액?\"))\n",
    "num_people = int(input(\"사람 수?\"))\n",
    "\n",
    "print(total_price/num_people)"
   ]
  },
  {
   "cell_type": "code",
   "execution_count": 1,
   "metadata": {},
   "outputs": [],
   "source": [
    "#9\n"
   ]
  },
  {
   "cell_type": "code",
   "execution_count": 2,
   "metadata": {},
   "outputs": [
    {
     "name": "stdout",
     "output_type": "stream",
     "text": [
      "13.611615245009073\n"
     ]
    }
   ],
   "source": [
    "#10\n",
    "kg = int(input())\n",
    "pound = kg / 2.204 \n",
    "print(pound)"
   ]
  },
  {
   "cell_type": "code",
   "execution_count": 3,
   "metadata": {},
   "outputs": [
    {
     "name": "stdout",
     "output_type": "stream",
     "text": [
      "15\n"
     ]
    }
   ],
   "source": [
    "# 11\n",
    "a = int(input(\"100 이상의 숫자를 입력하세요\"))\n",
    "b = int(input(\"10 미만의 숫자 하나를 입력하세요\"))\n",
    "\n",
    "print(int(a/b))"
   ]
  },
  {
   "cell_type": "code",
   "execution_count": 7,
   "metadata": {},
   "outputs": [
    {
     "name": "stdout",
     "output_type": "stream",
     "text": [
      "3 4\n"
     ]
    }
   ],
   "source": [
    "# 12\n",
    "a,b = map(int, input().split())\n",
    "\n",
    "if a > b:\n",
    "    print(b, a)\n",
    "else:\n",
    "    print(a,b)"
   ]
  },
  {
   "cell_type": "code",
   "execution_count": 9,
   "metadata": {},
   "outputs": [
    {
     "name": "stdout",
     "output_type": "stream",
     "text": [
      "too high\n"
     ]
    }
   ],
   "source": [
    "# 13\n",
    "num = int(input(\"20보다 작은 숫자를 입력하세요:\"))\n",
    "if num >= 20:\n",
    "    print('too high')\n",
    "else:\n",
    "    print(\"thx\")"
   ]
  },
  {
   "cell_type": "code",
   "execution_count": 1,
   "metadata": {},
   "outputs": [
    {
     "name": "stdout",
     "output_type": "stream",
     "text": [
      "incorrect\n"
     ]
    }
   ],
   "source": [
    "# 14\n",
    "num = int(input(\"10~20 사이의 값을 입력하세요:\"))\n",
    "if 10 < num <=20:\n",
    "    print(\"thx\")\n",
    "else:\n",
    "    print(\"incorrect\")"
   ]
  },
  {
   "cell_type": "code",
   "execution_count": 2,
   "metadata": {},
   "outputs": [
    {
     "name": "stdout",
     "output_type": "stream",
     "text": [
      "me too\n"
     ]
    }
   ],
   "source": [
    "#15\n",
    "color = input(\"what is ur favorite color?\")\n",
    "if str.lower(color) == 'red':\n",
    "    print(\"me too\")\n",
    "else:\n",
    "    print(\"not me\")"
   ]
  },
  {
   "cell_type": "code",
   "execution_count": 3,
   "metadata": {},
   "outputs": [
    {
     "name": "stdout",
     "output_type": "stream",
     "text": [
      "8\n"
     ]
    }
   ],
   "source": [
    "#20\n",
    "\n",
    "name = input(\"name?\")\n",
    "print(len(name))"
   ]
  },
  {
   "cell_type": "code",
   "execution_count": 1,
   "metadata": {},
   "outputs": [
    {
     "name": "stdout",
     "output_type": "stream",
     "text": [
      "gig dfs 7\n"
     ]
    }
   ],
   "source": [
    "# 21\n",
    "first_name = input()\n",
    "last_name = input()\n",
    "\n",
    "print(first_name, last_name, len(first_name)+len(last_name)+1)"
   ]
  },
  {
   "cell_type": "code",
   "execution_count": 2,
   "metadata": {},
   "outputs": [
    {
     "ename": "SyntaxError",
     "evalue": "invalid syntax (3210984502.py, line 3)",
     "output_type": "error",
     "traceback": [
      "\u001b[1;36m  Cell \u001b[1;32mIn [2], line 3\u001b[1;36m\u001b[0m\n\u001b[1;33m    name =\u001b[0m\n\u001b[1;37m          ^\u001b[0m\n\u001b[1;31mSyntaxError\u001b[0m\u001b[1;31m:\u001b[0m invalid syntax\n"
     ]
    }
   ],
   "source": [
    "#22: 첫번째 글자만 대문자로: .title()\n",
    "\n",
    "name =\n"
   ]
  },
  {
   "cell_type": "code",
   "execution_count": 3,
   "metadata": {},
   "outputs": [
    {
     "name": "stdout",
     "output_type": "stream",
     "text": [
      "31\n",
      "skd\n"
     ]
    }
   ],
   "source": [
    "#23\n",
    "song = input(\"자장가의 첫줄을 입력하세요:\")\n",
    "print(len(song))\n",
    "start = int(input(\"시작인덱스:\"))\n",
    "last = int(input(\"마지막 인덱스:\"))\n",
    "print(song[start:last])"
   ]
  },
  {
   "cell_type": "code",
   "execution_count": 4,
   "metadata": {},
   "outputs": [
    {
     "name": "stdout",
     "output_type": "stream",
     "text": [
      "LSDKJLSKFJSLD\n"
     ]
    }
   ],
   "source": [
    "#24\n",
    "name = input()\n",
    "print(name.upper())"
   ]
  },
  {
   "cell_type": "code",
   "execution_count": 5,
   "metadata": {},
   "outputs": [
    {
     "name": "stdout",
     "output_type": "stream",
     "text": [
      "hongseoi\n"
     ]
    }
   ],
   "source": [
    "#25\n",
    "name = input()\n",
    "\n",
    "if len(name) < 5:\n",
    "    sung = input(\"성을 입력하세요\")\n",
    "    print((name+sung).upper())\n",
    "else:\n",
    "    print(name.lower())"
   ]
  },
  {
   "cell_type": "code",
   "execution_count": 8,
   "metadata": {},
   "outputs": [
    {
     "name": "stdout",
     "output_type": "stream",
     "text": [
      "ananabay\n"
     ]
    }
   ],
   "source": [
    "#26\n",
    "n = input()\n",
    "result = 0\n",
    "\n",
    "if n[0] in ['a', 'i','e','o']:\n",
    "    result = n+'way'\n",
    "else:\n",
    "    result = n[1:]+n[0]+'ay'\n",
    "\n",
    "print(result.lower())"
   ]
  },
  {
   "attachments": {},
   "cell_type": "markdown",
   "metadata": {},
   "source": [
    "## 수학함수"
   ]
  },
  {
   "cell_type": "code",
   "execution_count": 5,
   "metadata": {},
   "outputs": [
    {
     "name": "stdout",
     "output_type": "stream",
     "text": [
      "4.70690713092\n"
     ]
    }
   ],
   "source": [
    "#27\n",
    "num = float(input())\n",
    "print(num*2)"
   ]
  },
  {
   "cell_type": "code",
   "execution_count": 7,
   "metadata": {},
   "outputs": [
    {
     "name": "stdout",
     "output_type": "stream",
     "text": [
      "4.71\n"
     ]
    }
   ],
   "source": [
    "#28 반올림함수 round\n",
    "print(round(num*2, 2))"
   ]
  },
  {
   "cell_type": "code",
   "execution_count": 10,
   "metadata": {},
   "outputs": [
    {
     "name": "stdout",
     "output_type": "stream",
     "text": [
      "15298.02\n"
     ]
    }
   ],
   "source": [
    "#29\n",
    "import math\n",
    "\n",
    "num = int(input())\n",
    "print(round(math.sqrt(num), 2))"
   ]
  },
  {
   "cell_type": "code",
   "execution_count": 11,
   "metadata": {},
   "outputs": [
    {
     "data": {
      "text/plain": [
       "3.14"
      ]
     },
     "execution_count": 11,
     "metadata": {},
     "output_type": "execute_result"
    }
   ],
   "source": [
    "#30\n",
    "round(math.pi, 2)"
   ]
  },
  {
   "cell_type": "code",
   "execution_count": 12,
   "metadata": {},
   "outputs": [
    {
     "name": "stdout",
     "output_type": "stream",
     "text": [
      "28.274333882308138\n"
     ]
    }
   ],
   "source": [
    "#31\n",
    "radius = int(input(\"반지름 입력하라\"))\n",
    "print(math.pi * (radius**2))"
   ]
  },
  {
   "cell_type": "code",
   "execution_count": 13,
   "metadata": {},
   "outputs": [
    {
     "name": "stdout",
     "output_type": "stream",
     "text": [
      "84.823\n"
     ]
    }
   ],
   "source": [
    "#32\n",
    "radius, depth = map(int, input().split())\n",
    "volumn = radius**2 * math.pi * depth\n",
    "print(round(volumn, 3))"
   ]
  },
  {
   "cell_type": "code",
   "execution_count": 2,
   "metadata": {},
   "outputs": [
    {
     "name": "stdout",
     "output_type": "stream",
     "text": [
      "5 divided by 2 is 2 with 1 remaining\n"
     ]
    }
   ],
   "source": [
    "# 33\n",
    "a,b = map(int, input().split())\n",
    "print(f'{a} divided by {b} is {a//b} with {a%b} remaining')"
   ]
  },
  {
   "cell_type": "code",
   "execution_count": 8,
   "metadata": {},
   "outputs": [
    {
     "name": "stdout",
     "output_type": "stream",
     "text": [
      "num error\n"
     ]
    }
   ],
   "source": [
    "num = int(input('1) Square \\n2) Triangle\\nEnter a number:'))\n",
    "\n",
    "if num == 1:\n",
    "    a = int(input())\n",
    "    print(a**2)\n",
    "\n",
    "elif num == 2:\n",
    "    a = int(input())\n",
    "    print(a**2)\n",
    "\n",
    "else:\n",
    "    print('num error')"
   ]
  },
  {
   "cell_type": "code",
   "execution_count": 2,
   "metadata": {},
   "outputs": [
    {
     "name": "stdout",
     "output_type": "stream",
     "text": [
      "0.1645052171312471\n",
      "1\n",
      "70\n",
      "red\n"
     ]
    }
   ],
   "source": [
    "import random\n",
    "\n",
    "print(random.random()) # 0~1 사이의 부동소수점 수 생성\n",
    "print(random.randint(0,9)) #0~9 사이의 임의의 정수\n",
    "print(random.randrange(0,100,5)) #0부터 5씩 증가하여 100까지의 숫자들 중에 임의의 숫자 0,5,10,15...\n",
    "print(random.choice(['red', 'blue', 'purple'])) # 리스트 내 변수 중 임의 선택"
   ]
  },
  {
   "cell_type": "code",
   "execution_count": 3,
   "metadata": {},
   "outputs": [
    {
     "data": {
      "text/plain": [
       "81"
      ]
     },
     "execution_count": 3,
     "metadata": {},
     "output_type": "execute_result"
    }
   ],
   "source": [
    "# 52\n",
    "random.randint(0,100)"
   ]
  },
  {
   "cell_type": "code",
   "execution_count": 4,
   "metadata": {},
   "outputs": [
    {
     "data": {
      "text/plain": [
       "'바나나'"
      ]
     },
     "execution_count": 4,
     "metadata": {},
     "output_type": "execute_result"
    }
   ],
   "source": [
    "# 53\n",
    "fruit = ['사과', '배', '귤', '바나나']\n",
    "random.choice(fruit)\n"
   ]
  },
  {
   "cell_type": "code",
   "execution_count": 6,
   "metadata": {},
   "outputs": [
    {
     "name": "stdout",
     "output_type": "stream",
     "text": [
      "BAD LUCK\n",
      "h\n"
     ]
    }
   ],
   "source": [
    "#54\n",
    "computer = random.choice(['h', 't'])\n",
    "person = input('h와 t중 선택하세요')\n",
    "\n",
    "if computer == person:\n",
    "    print('YOU WIN')\n",
    "else:\n",
    "    print('BAD LUCK')\n",
    "\n",
    "print(computer)"
   ]
  },
  {
   "cell_type": "code",
   "execution_count": 4,
   "metadata": {},
   "outputs": [
    {
     "name": "stdout",
     "output_type": "stream",
     "text": [
      "too high\n",
      "well done\n"
     ]
    }
   ],
   "source": [
    "# 55\n",
    "import random\n",
    "num = random.randint(1, 5)\n",
    "pick = int(input('1~5 사이 숫자를 입력하세요:'))\n",
    "state = False\n",
    "\n",
    "while state == False:\n",
    "    if num == pick:\n",
    "        print('well done')\n",
    "        state = True\n",
    "    elif pick > num:\n",
    "        print('too high')\n",
    "        pick = int(input('1~5 사이 숫자를 입력하세요:'))\n",
    "    elif pick < num:\n",
    "        print('too low')\n",
    "        pick = int(input('1~5 사이 숫자를 입력하세요:'))\n",
    "\n"
   ]
  },
  {
   "cell_type": "code",
   "execution_count": 6,
   "metadata": {},
   "outputs": [],
   "source": [
    "# 57\n",
    "import random\n",
    "num = int(input('1~10사이 정수를 입력하세요'))\n",
    "correct = random.randint(1,10)\n",
    "\n",
    "while num != correct:\n",
    "    num = int(input('다시입력하세요'))\n"
   ]
  },
  {
   "cell_type": "code",
   "execution_count": 7,
   "metadata": {},
   "outputs": [
    {
     "name": "stdout",
     "output_type": "stream",
     "text": [
      "5 /5\n"
     ]
    }
   ],
   "source": [
    "# 58\n",
    "import random\n",
    "\n",
    "score = 0\n",
    "\n",
    "for i in range(5):\n",
    "    num1 = random.randint(1, 50)\n",
    "    num2 = random.randint(1, 50)\n",
    "    answer = int(input(f'{num1}+{num2}='))\n",
    "    if answer == num1+num2:\n",
    "        score += 1\n",
    "\n",
    "print(score,'/5')\n",
    "\n",
    "\n",
    "    "
   ]
  },
  {
   "cell_type": "code",
   "execution_count": 11,
   "metadata": {},
   "outputs": [
    {
     "name": "stdout",
     "output_type": "stream",
     "text": [
      "alkdjlfskdlf\n",
      "alkdjlfskdlf\n",
      "alkdjlfskdlf\n",
      "alkdjlfskdlf\n",
      "Well done\n"
     ]
    }
   ],
   "source": [
    "# 59\n",
    "import random\n",
    "color = ['red', 'blue', 'black', 'whilte', 'yellow']\n",
    "\n",
    "c_choice = random.choice(color)\n",
    "tryagain = True\n",
    "\n",
    "while tryagain == True:\n",
    "    p_choice = input(f'{color} 중 하나를 선택하세요').lower()\n",
    "    if c_choice == p_choice:\n",
    "        print('Well done')\n",
    "        tryagain = False\n",
    "    else:\n",
    "        print('alkdjlfskdlf')\n",
    "\n"
   ]
  },
  {
   "attachments": {},
   "cell_type": "markdown",
   "metadata": {},
   "source": [
    "# turtle\n",
    "- 그림 그릴 수 있는 라이브러리\n",
    "- 주요 함수들\n",
    " - scr = turtle.Screen() #윈도우를 scr이름으로 정의\n",
    " - scr.bgcolor('red') # 배경색 설정\n",
    " - turtle.penup()/pendown() # 터틀이 움직여도 선 남기지 않도록함\n",
    " - turtle.pensize() # 펜두께 설정 default 1\n",
    " - turtle.forward(50) # 50만큼 앞으로 이동\n",
    " - hideturtle, showturtle\n",
    " - turtle.begin_fill() 도형 그리는 코드 앞에 입력시 모양 채움\n",
    " - turtle.color('black','red') # 도형 채우는 색 정의 검정색 외곽선, 빨간색 채우기\n",
    " - turtle.exitonclick() 윈도우 클릭시 윈도우 자동닫음"
   ]
  },
  {
   "cell_type": "code",
   "execution_count": 1,
   "metadata": {},
   "outputs": [],
   "source": [
    "import turtle\n",
    "\n",
    "turtle.shape(\"turtle\")\n",
    "\n",
    "for i in range(0,5):\n",
    "    turtle.forward(100)\n",
    "    turtle.right(72)\n",
    "\n",
    "turtle.exitonclick()"
   ]
  },
  {
   "cell_type": "code",
   "execution_count": 3,
   "metadata": {},
   "outputs": [],
   "source": [
    "import turtle\n",
    "\n",
    "for i in range(0, 10):\n",
    "    turtle.right(36)\n",
    "    for j in range(0, 5):\n",
    "        turtle.forward(100)\n",
    "        turtle.right(72)\n",
    "\n",
    "turtle.exitonclick()"
   ]
  },
  {
   "cell_type": "code",
   "execution_count": 7,
   "metadata": {},
   "outputs": [],
   "source": [
    "# 60\n",
    "import turtle\n",
    "\n",
    "for i in range(0,4):\n",
    "    turtle.forward(100)\n",
    "    turtle.right(90)\n",
    "\n",
    "turtle.exitonclick()"
   ]
  },
  {
   "cell_type": "code",
   "execution_count": 12,
   "metadata": {},
   "outputs": [],
   "source": [
    "# 62\n",
    "\n",
    "import turtle\n",
    "\n",
    "turtle.circle(100)\n",
    "\n",
    "turtle.exitonclick()"
   ]
  },
  {
   "cell_type": "code",
   "execution_count": 18,
   "metadata": {},
   "outputs": [],
   "source": [
    "# 64\n",
    "import turtle\n",
    "\n",
    "for i in range(5):\n",
    "    turtle.forward(100)\n",
    "    turtle.right(145)\n",
    "\n",
    "turtle.exitonclick()"
   ]
  },
  {
   "cell_type": "code",
   "execution_count": 29,
   "metadata": {},
   "outputs": [
    {
     "ename": "",
     "evalue": "",
     "output_type": "error",
     "traceback": [
      "\u001b[1;31m현재 셀 또는 이전 셀에서 코드를 실행하는 동안 Kernel이 충돌했습니다. 셀의 코드를 검토하여 오류의 가능한 원인을 식별하세요. 자세한 내용을 보려면 <a href='https://aka.ms/vscodeJupyterKernelCrash'> 여기 </a> 를 클릭하세요. 자세한 내용은 Jupyter <a href='command:jupyter.viewOutput'>로그</a>를 참조하세요."
     ]
    }
   ],
   "source": [
    "# 63\n",
    "import turtle\n",
    "import random\n",
    "\n",
    "for i in range(3):\n",
    "    for i in range(3):\n",
    "        turtle.begin_fill()\n",
    "        turtle.forward(100)\n",
    "        turtle.right(120)\n",
    "    turtle.penup()\n",
    "    turtle.forward(200)\n",
    "    turtle.pendown()\n",
    "        "
   ]
  },
  {
   "cell_type": "code",
   "execution_count": 3,
   "metadata": {},
   "outputs": [],
   "source": [
    "# 67\n",
    "import turtle\n",
    "\n",
    "for i in range(10):\n",
    "    for j in range(8):\n",
    "        turtle.forward(80)\n",
    "        turtle.right(45)\n",
    "    turtle.right(35)\n",
    "\n",
    "turtle.exitonclick()"
   ]
  },
  {
   "attachments": {},
   "cell_type": "markdown",
   "metadata": {},
   "source": [
    "## 튜플과 리스트, 딕셔너리\n",
    "- 튜플\n",
    "    - 변경할 필요가 없는 메뉴 항목들에서 많이 사용\n",
    "    - 프로그램이 실행되는 동안 변경 불가능\n",
    "- 리스트\n",
    "- 딕셔너리\n",
    "    - 프로그램 실행되는 동안 변경 불가능\n",
    "    "
   ]
  },
  {
   "cell_type": "code",
   "execution_count": 5,
   "metadata": {},
   "outputs": [
    {
     "name": "stdout",
     "output_type": "stream",
     "text": [
      "orange\n"
     ]
    }
   ],
   "source": [
    "# tuple\n",
    "fruit_tuple = ('banana', 'apple', 'orange', 'grape')\n",
    "fruit_tuple.index('orange') #orange의 인덱스 출력\n",
    "print(fruit_tuple[2])\n"
   ]
  },
  {
   "cell_type": "code",
   "execution_count": 6,
   "metadata": {},
   "outputs": [
    {
     "name": "stdout",
     "output_type": "stream",
     "text": [
      "['james', 'jimy', 'john', 'sam']\n"
     ]
    }
   ],
   "source": [
    "# list\n",
    "name_list = ['john', 'james', 'sam']\n",
    "\n",
    "name_list.append(input('add a name:')) # input을 통해 입력받은 값을 리스트에 추가\n",
    "\n",
    "name_list.sort() #알파벳 순서 정렬 후 저장. 서로 다른 타입의 데이터가 저장되어 있는 경우 작동 안함\n",
    "\n",
    "print(sorted(name_list)) #알파벳순서로 정렬하지만 원본 리스트의 순서는 변하지 않음\n"
   ]
  },
  {
   "cell_type": "code",
   "execution_count": 8,
   "metadata": {},
   "outputs": [
    {
     "name": "stdout",
     "output_type": "stream",
     "text": [
      "blue\n"
     ]
    }
   ],
   "source": [
    "# dictionary\n",
    "\n",
    "colors = {1:'red', '2':'blue', 3:'yellow'}\n",
    "\n",
    "print(colors['2'])\n",
    "colors['2'] = 'pink' #해당 키의 값 변경\n",
    "\n"
   ]
  },
  {
   "cell_type": "code",
   "execution_count": 10,
   "metadata": {},
   "outputs": [
    {
     "data": {
      "text/plain": [
       "[0, 1, 20, 2, 3, 5]"
      ]
     },
     "execution_count": 10,
     "metadata": {},
     "output_type": "execute_result"
    }
   ],
   "source": [
    "# num list\n",
    "\n",
    "num = [0,1,2,3,4,5]\n",
    "\n",
    "num.insert(2, 20)\n",
    "num.remove(4) # 해당 value 삭제\n",
    "num"
   ]
  },
  {
   "cell_type": "code",
   "execution_count": 5,
   "metadata": {},
   "outputs": [
    {
     "name": "stdout",
     "output_type": "stream",
     "text": [
      "('arab', 'brazil', 'canada', 'denmark')\n",
      "2\n"
     ]
    }
   ],
   "source": [
    "#69\n",
    "country = ('arab','brazil','canada','denmark')\n",
    "print(country)\n",
    "\n",
    "a = input('국가 이름 중 하나를 입력하라')\n",
    "print(country.index(a)) ## 틀림"
   ]
  },
  {
   "cell_type": "code",
   "execution_count": 6,
   "metadata": {},
   "outputs": [
    {
     "name": "stdout",
     "output_type": "stream",
     "text": [
      "('arab', 'brazil', 'canada', 'denmark')\n",
      "brazil\n"
     ]
    }
   ],
   "source": [
    "# 70\n",
    "#69\n",
    "country = ('arab','brazil','canada','denmark')\n",
    "print(country)\n",
    "\n",
    "a = int(input('pick 0 to 3'))\n",
    "print(country[a]) ## 틀림"
   ]
  },
  {
   "cell_type": "code",
   "execution_count": 8,
   "metadata": {},
   "outputs": [
    {
     "name": "stdout",
     "output_type": "stream",
     "text": [
      "['ar', 'baseball', 'soccer']\n"
     ]
    }
   ],
   "source": [
    "#71\n",
    "sport = ['soccer', 'baseball']\n",
    "user = input('what is your favorite sport?')\n",
    "sport.append(user)\n",
    "sport.sort()\n",
    "print(sport)"
   ]
  },
  {
   "cell_type": "code",
   "execution_count": 10,
   "metadata": {},
   "outputs": [
    {
     "name": "stdout",
     "output_type": "stream",
     "text": [
      "['korean', 'english', 'exercise', 'science', 'chemistry']\n"
     ]
    }
   ],
   "source": [
    "#72\n",
    "subject = ['math', 'korean', 'english', 'exercise', 'science', 'chemistry']\n",
    "\n",
    "name = input(f'{subject} in this subject, what subject do you want to delete?')\n",
    "\n",
    "subject.remove(name)\n",
    "print(subject)"
   ]
  },
  {
   "cell_type": "code",
   "execution_count": 1,
   "metadata": {},
   "outputs": [
    {
     "name": "stdout",
     "output_type": "stream",
     "text": [
      "{1: '33', 2: '22', 3: 'edlfk'}\n"
     ]
    }
   ],
   "source": [
    "#73\n",
    "food = {}\n",
    "\n",
    "food[1] = input('음식1')\n",
    "food[2] = input('음식2')\n",
    "food[3] = input('음식3')\n",
    "\n",
    "print(food)"
   ]
  },
  {
   "cell_type": "code",
   "execution_count": 2,
   "metadata": {},
   "outputs": [
    {
     "name": "stdout",
     "output_type": "stream",
     "text": [
      "['q']\n"
     ]
    }
   ],
   "source": [
    "#74\n",
    "color = ['r','g','b','q','e','t']\n",
    "front = int(input('첫번째 숫자 0~4'))\n",
    "end = int(input('마지막 숫자 5~9'))\n",
    "print(color[front:end])"
   ]
  },
  {
   "cell_type": "code",
   "execution_count": 3,
   "metadata": {},
   "outputs": [
    {
     "name": "stdout",
     "output_type": "stream",
     "text": [
      "111\n",
      "222\n",
      "333\n",
      "444\n",
      "1\n"
     ]
    }
   ],
   "source": [
    "# 75\n",
    "num = [111, 222, 333, 444]\n",
    "for i in range(len(num)):\n",
    "    print(num[i])\n",
    "\n",
    "pick = int(input('세자리 숫자를 하나 입력하세요'))\n",
    "\n",
    "if pick in num:\n",
    "    print(num.index(pick))\n",
    "else:\n",
    "    print('that is not in the list')"
   ]
  },
  {
   "cell_type": "code",
   "execution_count": null,
   "metadata": {},
   "outputs": [],
   "source": [
    "# 76\n",
    "lst = input('사람 이름 3개를 입력하세요').split()\n",
    "\n",
    "answer = input('추가할 사람이 있나요?')\n",
    "\n",
    "if answer != 'n':\n",
    "    lst.append(input('추가할 이름 입력하세요'))\n",
    "else:\n",
    "    print(len(lst))"
   ]
  }
 ],
 "metadata": {
  "kernelspec": {
   "display_name": "Python 3",
   "language": "python",
   "name": "python3"
  },
  "language_info": {
   "codemirror_mode": {
    "name": "ipython",
    "version": 3
   },
   "file_extension": ".py",
   "mimetype": "text/x-python",
   "name": "python",
   "nbconvert_exporter": "python",
   "pygments_lexer": "ipython3",
   "version": "3.9.13"
  },
  "orig_nbformat": 4
 },
 "nbformat": 4,
 "nbformat_minor": 2
}
