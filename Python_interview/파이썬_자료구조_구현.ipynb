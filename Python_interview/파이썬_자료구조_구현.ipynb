{
 "cells": [
  {
   "attachments": {},
   "cell_type": "markdown",
   "metadata": {},
   "source": [
    "## 연결 리스트\n",
    "* 단순 연결 리스트\n",
    "    - 헤더 노드가 존재하며 헤더 노드 - 다음 노드 - 다음 노드 형태로 한방향으로 연결\n",
    "* 원형 연결 리스트\n",
    "    - 헤더 노드, 테일노드가 존재\n",
    "    - 헤더 노드 - 다음 노드 - ... - 테일 노드 - 헤더노드\n",
    "* 이중 연결 리스트\n",
    "    - 헤더 노드만 존재하며 각 노드는 다음 노드를 가리키는 링크와 이전 노드를 가리키는 링크 2개를 가짐\n",
    "\n",
    "[출처](https://blex.me/@baealex/%ED%8C%8C%EC%9D%B4%EC%8D%AC%EC%9C%BC%EB%A1%9C-%EA%B5%AC%ED%98%84%ED%95%9C-%EC%9E%90%EB%A3%8C%EA%B5%AC%EC%A1%B0-%EC%8A%A4%ED%83%9D)"
   ]
  },
  {
   "cell_type": "code",
   "execution_count": 1,
   "metadata": {},
   "outputs": [],
   "source": [
    "# node: value + link의 형태를 갖춘 구조\n",
    "class Node:\n",
    "    def __init__(self, data):\n",
    "        self.data = data\n",
    "        self.next = None"
   ]
  },
  {
   "cell_type": "code",
   "execution_count": 2,
   "metadata": {},
   "outputs": [],
   "source": [
    "#다음 노드를 참조시키기\n",
    "head = Node(5)\n",
    "next_node = Node(12)\n",
    "head.next = next_node"
   ]
  },
  {
   "cell_type": "code",
   "execution_count": 4,
   "metadata": {},
   "outputs": [
    {
     "name": "stdout",
     "output_type": "stream",
     "text": [
      "<class '__main__.Node'>\n",
      "<__main__.Node object at 0x000001B6F5EFAEE0>\n"
     ]
    }
   ],
   "source": [
    "print(Node)\n",
    "print(next_node)"
   ]
  },
  {
   "attachments": {},
   "cell_type": "markdown",
   "metadata": {},
   "source": [
    "## 단순연결리스트"
   ]
  },
  {
   "cell_type": "code",
   "execution_count": 14,
   "metadata": {},
   "outputs": [],
   "source": [
    "class SingleLinkedList:\n",
    "    def __init__(self, data):\n",
    "        new_node = Node(data)\n",
    "        self.head = new_node\n",
    "        self.list_size = 1\n",
    "\n",
    "    #첫번째 노드 삽입\n",
    "    def insertFisrt(self, data):\n",
    "        new_node = Node(data) #새 노드 생성\n",
    "        temp_node = self.head #기존 head 잠시 보관\n",
    "        self.head = new_node #head 변경\n",
    "        self.head.next = temp_node # 새로 생성된 head 링크를 기존 head 링크로 변경\n",
    "        self.list_size += 1\n",
    "    \n",
    "    #노드 선택\n",
    "    def selectNode(self, num):\n",
    "        if self.list_size < num:\n",
    "            return #오버플로우\n",
    "        node = self.head\n",
    "        count = 0\n",
    "        while count < num:\n",
    "            node = node.next\n",
    "            count += 1\n",
    "        return node\n",
    "    \n",
    "    #중간노드 삽입\n",
    "    def insertMiddle(self, num, data):\n",
    "        if self.head.next == None:\n",
    "            #헤더가 만들어진 직후에 메서드를 사용하는 경우\n",
    "            insertLast(data)\n",
    "            return\n",
    "        node = self.selectNode(num)\n",
    "        new_node = Node(data)\n",
    "        temp_next = node.next\n",
    "        node.next = new_node\n",
    "        new_node.next = temp_next\n",
    "        self.list_size += 1\n",
    "\n",
    "    def insertLast(self, data):\n",
    "        node = self.head\n",
    "        while True:\n",
    "            if node.next == None: # 다음 링크가 없으면\n",
    "                break\n",
    "            node = node.next\n",
    "\n",
    "        new_node = Node(data)\n",
    "        node.next = new_node      # 마지막 노드로 링크\n",
    "        self.list_size += 1\n",
    "\n",
    "    def deleteNode(self, num):\n",
    "        if self.list_size < 1:\n",
    "            return # 언더플로우\n",
    "        elif self.list_size < num:\n",
    "            return # 오버플로우\n",
    "\n",
    "        if num == 0:\n",
    "            self.deleteHead()\n",
    "            return\n",
    "        node = self.selectNode(num - 1) # 이전 노드의 링크를 다다음 노드와 연결하기 위해\n",
    "                                        # 이전 노드를 선택하였다\n",
    "        node.next = node.next.next\n",
    "        del_node = node.next\n",
    "        del del_node\n",
    "    \n",
    "    def deleteHead(self):\n",
    "        node = self.head\n",
    "        self.head = node.next\n",
    "        del node\n",
    "\n",
    "    def size(self):\n",
    "        return str(self.list_size)\n"
   ]
  },
  {
   "cell_type": "code",
   "execution_count": 15,
   "metadata": {},
   "outputs": [
    {
     "name": "stdout",
     "output_type": "stream",
     "text": [
      "LinkedList : <__main__.SingleLinkedList object at 0x000001B6F631C5B0>\n",
      "LinkedList Size() : 3\n",
      "LinkedList SelectNode(1) : <__main__.Node object at 0x000001B6F631C4C0>\n",
      "LinkedList Insert Middle(1, 15) : <__main__.SingleLinkedList object at 0x000001B6F631C5B0>\n"
     ]
    },
    {
     "ename": "AttributeError",
     "evalue": "'SingleLinkedList' object has no attribute 'insertFirst'",
     "output_type": "error",
     "traceback": [
      "\u001b[1;31m---------------------------------------------------------------------------\u001b[0m",
      "\u001b[1;31mAttributeError\u001b[0m                            Traceback (most recent call last)",
      "Cell \u001b[1;32mIn [15], line 12\u001b[0m\n\u001b[0;32m      9\u001b[0m m_list\u001b[39m.\u001b[39minsertMiddle(\u001b[39m1\u001b[39m, \u001b[39m15\u001b[39m)\n\u001b[0;32m     10\u001b[0m \u001b[39mprint\u001b[39m(\u001b[39m'\u001b[39m\u001b[39mLinkedList Insert Middle(1, 15) :\u001b[39m\u001b[39m'\u001b[39m, m_list)\n\u001b[1;32m---> 12\u001b[0m m_list\u001b[39m.\u001b[39minsertFirst(\u001b[39m100\u001b[39m)\n\u001b[0;32m     13\u001b[0m \u001b[39mprint\u001b[39m(\u001b[39m'\u001b[39m\u001b[39mLinkedList Insert First(100) : \u001b[39m\u001b[39m'\u001b[39m, m_list)\n\u001b[0;32m     14\u001b[0m \u001b[39mprint\u001b[39m(\u001b[39m'\u001b[39m\u001b[39mLinkedList SelectNode(0) :\u001b[39m\u001b[39m'\u001b[39m, m_list\u001b[39m.\u001b[39mselectNode(\u001b[39m0\u001b[39m))\n",
      "\u001b[1;31mAttributeError\u001b[0m: 'SingleLinkedList' object has no attribute 'insertFirst'"
     ]
    }
   ],
   "source": [
    "if __name__ == \"__main__\":\n",
    "    m_list = SingleLinkedList(1)\n",
    "    m_list.insertLast(5)\n",
    "    m_list.insertLast(6)\n",
    "    print('LinkedList :', m_list)\n",
    "    print('LinkedList Size() :', m_list.size())\n",
    "    print('LinkedList SelectNode(1) :', m_list.selectNode(1))\n",
    "\n",
    "    m_list.insertMiddle(1, 15)\n",
    "    print('LinkedList Insert Middle(1, 15) :', m_list)\n",
    "\n",
    "    m_list.insertFirst(100)\n",
    "    print('LinkedList Insert First(100) : ', m_list)\n",
    "    print('LinkedList SelectNode(0) :', m_list.selectNode(0))\n",
    "\n",
    "    m_list.deleteNode(0)\n",
    "    print('LinkedList Delete Node(0) : ', m_list)\n",
    "    m_list.deleteNode(1)\n",
    "    print('LinkedList Delete Node(1) : ', m_list)"
   ]
  },
  {
   "cell_type": "code",
   "execution_count": null,
   "metadata": {},
   "outputs": [],
   "source": []
  }
 ],
 "metadata": {
  "kernelspec": {
   "display_name": "Python 3",
   "language": "python",
   "name": "python3"
  },
  "language_info": {
   "codemirror_mode": {
    "name": "ipython",
    "version": 3
   },
   "file_extension": ".py",
   "mimetype": "text/x-python",
   "name": "python",
   "nbconvert_exporter": "python",
   "pygments_lexer": "ipython3",
   "version": "3.9.13"
  },
  "orig_nbformat": 4,
  "vscode": {
   "interpreter": {
    "hash": "2a271c975db27fcc5bd6750a79133d9113f00bd235921e6e5adc9df326ae1af1"
   }
  }
 },
 "nbformat": 4,
 "nbformat_minor": 2
}
