{
 "cells": [
  {
   "attachments": {},
   "cell_type": "markdown",
   "metadata": {},
   "source": [
    "### textwrap\n",
    "- 문자열 길이 줄임\n",
    "\n",
    "## textwrap.wrap()\n",
    "- 긴 문장 줄바꿈하기"
   ]
  },
  {
   "cell_type": "code",
   "execution_count": 7,
   "metadata": {},
   "outputs": [
    {
     "data": {
      "text/plain": [
       "'태정태세 [...]'"
      ]
     },
     "execution_count": 7,
     "metadata": {},
     "output_type": "execute_result"
    }
   ],
   "source": [
    "#textwrap: 문자열 줄이기\n",
    "import textwrap\n",
    "text = \"태정태세 문단세 여성연중 인명선 광인효현 숙경영 정순헌철 고순\"\n",
    "textwrap.shorten(text, width=10)"
   ]
  },
  {
   "cell_type": "code",
   "execution_count": 8,
   "metadata": {},
   "outputs": [
    {
     "data": {
      "text/plain": [
       "'태정태세...'"
      ]
     },
     "execution_count": 8,
     "metadata": {},
     "output_type": "execute_result"
    }
   ],
   "source": [
    "textwrap.shorten(text, width=10, placeholder='...')"
   ]
  },
  {
   "cell_type": "code",
   "execution_count": 1,
   "metadata": {},
   "outputs": [
    {
     "name": "stdout",
     "output_type": "stream",
     "text": [
      "life is too long!life is too long!life is too long!life is too long!life is too long!life is too long!life is too long!life is too long!life is too long!life is too long!\n"
     ]
    }
   ],
   "source": [
    "# textwrap.wrap\n",
    "\n",
    "long_text = \"life is too long!\"*10\n",
    "print(long_text)"
   ]
  },
  {
   "cell_type": "code",
   "execution_count": 3,
   "metadata": {},
   "outputs": [
    {
     "data": {
      "text/plain": [
       "['life is too long!life is too long!life is too long!life is too',\n",
       " 'long!life is too long!life is too long!life is too long!life is too',\n",
       " 'long!life is too long!life is too long!']"
      ]
     },
     "execution_count": 3,
     "metadata": {},
     "output_type": "execute_result"
    }
   ],
   "source": [
    "import textwrap\n",
    "\n",
    "result = textwrap.wrap(long_text, width=70) #긴 문자열을 witdth 길이만큼 자르고 리스트로 반환. 자르는 기준은 단어단위이므로 단어 중간이 끊기지 않음\n",
    "result"
   ]
  },
  {
   "cell_type": "code",
   "execution_count": 4,
   "metadata": {},
   "outputs": [
    {
     "name": "stdout",
     "output_type": "stream",
     "text": [
      "life is too long!life is too long!life is too long!life is too\n",
      "long!life is too long!life is too long!life is too long!life is too\n",
      "long!life is too long!life is too long!\n"
     ]
    }
   ],
   "source": [
    "print('\\n'.join(result)) # 자른 거 합치기"
   ]
  },
  {
   "cell_type": "code",
   "execution_count": 8,
   "metadata": {},
   "outputs": [
    {
     "data": {
      "text/plain": [
       "'life is too long!life is too long!life is too long!life is too\\nlong!life is too long!life is too long!life is too long!life is too\\nlong!life is too long!life is too long!'"
      ]
     },
     "execution_count": 8,
     "metadata": {},
     "output_type": "execute_result"
    }
   ],
   "source": [
    "# wrap + '\\n'.join\n",
    "result = textwrap.fill(long_text, width=70) #한 줄 길이가 width를 넘지 않음\n",
    "result"
   ]
  },
  {
   "attachments": {},
   "cell_type": "markdown",
   "metadata": {},
   "source": [
    "## 정규표현식 re"
   ]
  },
  {
   "cell_type": "code",
   "execution_count": 3,
   "metadata": {},
   "outputs": [
    {
     "name": "stdout",
     "output_type": "stream",
     "text": [
      "홍길동의 주민등록번호는 920394-******* 입니다. 그리고 고길동의 주민번호는 636462-******* 입니다. 누가 형님일까요?\n"
     ]
    }
   ],
   "source": [
    "data = \"홍길동의 주민등록번호는 920394-2837463 입니다. 그리고 고길동의 주민번호는 636462-3847362 입니다. 누가 형님일까요?\"\n",
    "\n",
    "result = []\n",
    "\n",
    "for i in data.split(\"\\n\"):\n",
    "    word_result = []\n",
    "    for word in i.split(\" \"):\n",
    "        if len(word)==14 and word[:6].isdigit() and word[7:].isdigit():\n",
    "            word = word[:6] + \"-*******\"\n",
    "        word_result.append(word)\n",
    "    result.append(\" \".join(word_result))\n",
    "print('\\n'.join(result)) "
   ]
  },
  {
   "cell_type": "code",
   "execution_count": 7,
   "metadata": {},
   "outputs": [
    {
     "name": "stdout",
     "output_type": "stream",
     "text": [
      "홍길동의 주민등록번호는 920394-*******입니다. 그리고 고길동의 주민번호는 636462-******* 입니다. 누가 형님일까요?\n"
     ]
    }
   ],
   "source": [
    "# re 모듈 사용하여 마스킹\n",
    "import re\n",
    "\n",
    "data = \"홍길동의 주민등록번호는 920394-2837463입니다. 그리고 고길동의 주민번호는 636462-3847362 입니다. 누가 형님일까요?\"\n",
    "\n",
    "pat = re.compile(\"(\\d{6})[-]\\d{7}\") #정규표현식 객체 pat 생성\n",
    "print(pat.sub(\"\\g<1>-*******\", data)) # \\g<1> : 정규표현식 pat과 일치하는 문자열 중 첫번째 그룹. 즉 주민번호 앞부분"
   ]
  },
  {
   "attachments": {},
   "cell_type": "markdown",
   "metadata": {},
   "source": [
    "## C로 만든 데이터 다루기: struct\n",
    "- c언어로 만든 구조체 이진 데이터를 처리할 때 활용하는 모듈\n",
    "- c 구조체로 만들어진 파일을 읽거나, 네트워크로 전달되는 c 구조체 이진 데이터를 파이썬에서 처리할 때 사용\n",
    "\n",
    "'''\n",
    "typedf struct {\n",
    "    double v;\n",
    "    int t;\n",
    "    char c;\n",
    "} save_type;\n",
    "\n",
    "int main(){\n",
    "    save_type s = {7.5f, 15, 'A'};\n",
    "    FILE *f = fopen('output', 'w);\n",
    "    fwrite(&s, sizeof(save_type), 1, f);\n",
    "    fclose(f);\n",
    "    return 0\n",
    "}\n",
    "\n",
    "'''"
   ]
  },
  {
   "cell_type": "code",
   "execution_count": 1,
   "metadata": {},
   "outputs": [
    {
     "ename": "FileNotFoundError",
     "evalue": "[Errno 2] No such file or directory: 'output'",
     "output_type": "error",
     "traceback": [
      "\u001b[1;31m---------------------------------------------------------------------------\u001b[0m",
      "\u001b[1;31mFileNotFoundError\u001b[0m                         Traceback (most recent call last)",
      "Cell \u001b[1;32mIn [1], line 4\u001b[0m\n\u001b[0;32m      1\u001b[0m \u001b[39m# 구조체 데이터 output를 struct를 이용해 읽어보자\u001b[39;00m\n\u001b[0;32m      3\u001b[0m \u001b[39mimport\u001b[39;00m \u001b[39mstruct\u001b[39;00m\n\u001b[1;32m----> 4\u001b[0m \u001b[39mwith\u001b[39;00m \u001b[39mopen\u001b[39m(\u001b[39m'\u001b[39m\u001b[39moutput\u001b[39m\u001b[39m'\u001b[39m, \u001b[39m'\u001b[39m\u001b[39mrb\u001b[39m\u001b[39m'\u001b[39m) \u001b[39mas\u001b[39;00m f:\n\u001b[0;32m      5\u001b[0m     chunk \u001b[39m=\u001b[39m f\u001b[39m.\u001b[39mread(\u001b[39m16\u001b[39m)\n\u001b[0;32m      6\u001b[0m     result \u001b[39m=\u001b[39m struct\u001b[39m.\u001b[39munpack(\u001b[39m'\u001b[39m\u001b[39mdiccc\u001b[39m\u001b[39m'\u001b[39m, chunk)\n",
      "\u001b[1;31mFileNotFoundError\u001b[0m: [Errno 2] No such file or directory: 'output'"
     ]
    }
   ],
   "source": [
    "# 구조체 데이터 output를 struct를 이용해 읽어보자\n",
    "\n",
    "import struct\n",
    "with open('output', 'rb') as f:\n",
    "    chunk = f.read(16)\n",
    "    result = struct.unpack('diccc', chunk) #double 1개, int 1개, char 3ro\n",
    "    print(result)"
   ]
  },
  {
   "attachments": {},
   "cell_type": "markdown",
   "metadata": {},
   "source": [
    "## datetime.date\n",
    "- 년, 월, 일로 날짜를 표현할 때 사용하는 모듈"
   ]
  },
  {
   "cell_type": "code",
   "execution_count": 2,
   "metadata": {},
   "outputs": [
    {
     "name": "stdout",
     "output_type": "stream",
     "text": [
      "2019-12-14\n"
     ]
    }
   ],
   "source": [
    "import datetime\n",
    "\n",
    "day1 = datetime.date(2019, 12, 14)\n",
    "print(day1)"
   ]
  },
  {
   "cell_type": "code",
   "execution_count": 4,
   "metadata": {},
   "outputs": [
    {
     "data": {
      "text/plain": [
       "datetime.date(2021, 6, 5)"
      ]
     },
     "execution_count": 4,
     "metadata": {},
     "output_type": "execute_result"
    }
   ],
   "source": [
    "day2 = datetime.date(2021, 6, 5)\n",
    "day2"
   ]
  },
  {
   "cell_type": "code",
   "execution_count": 6,
   "metadata": {},
   "outputs": [
    {
     "data": {
      "text/plain": [
       "datetime.timedelta(days=539)"
      ]
     },
     "execution_count": 6,
     "metadata": {},
     "output_type": "execute_result"
    }
   ],
   "source": [
    "diff = day2 - day1\n",
    "diff"
   ]
  },
  {
   "cell_type": "code",
   "execution_count": 7,
   "metadata": {},
   "outputs": [
    {
     "data": {
      "text/plain": [
       "539"
      ]
     },
     "execution_count": 7,
     "metadata": {},
     "output_type": "execute_result"
    }
   ],
   "source": [
    "diff.days"
   ]
  },
  {
   "cell_type": "code",
   "execution_count": 8,
   "metadata": {},
   "outputs": [
    {
     "data": {
      "text/plain": [
       "5"
      ]
     },
     "execution_count": 8,
     "metadata": {},
     "output_type": "execute_result"
    }
   ],
   "source": [
    "import datetime\n",
    "\n",
    "day = datetime.date(2019, 12, 14)\n",
    "day.weekday()"
   ]
  },
  {
   "cell_type": "code",
   "execution_count": 9,
   "metadata": {},
   "outputs": [
    {
     "data": {
      "text/plain": [
       "6"
      ]
     },
     "execution_count": 9,
     "metadata": {},
     "output_type": "execute_result"
    }
   ],
   "source": [
    "day.isoweekday()"
   ]
  },
  {
   "cell_type": "code",
   "execution_count": 1,
   "metadata": {},
   "outputs": [
    {
     "data": {
      "text/plain": [
       "datetime.date(2023, 3, 5)"
      ]
     },
     "execution_count": 1,
     "metadata": {},
     "output_type": "execute_result"
    }
   ],
   "source": [
    "# datetime.timedelta(): 두 날짜의 차이 계산\n",
    "import datetime\n",
    "today = datetime.date.today() #오늘 날짜 반환\n",
    "today"
   ]
  },
  {
   "cell_type": "code",
   "execution_count": 2,
   "metadata": {},
   "outputs": [
    {
     "data": {
      "text/plain": [
       "datetime.timedelta(days=100)"
      ]
     },
     "execution_count": 2,
     "metadata": {},
     "output_type": "execute_result"
    }
   ],
   "source": [
    "diff_days = datetime.timedelta(days=100)\n",
    "diff_days"
   ]
  },
  {
   "cell_type": "code",
   "execution_count": 3,
   "metadata": {},
   "outputs": [
    {
     "data": {
      "text/plain": [
       "datetime.date(2023, 6, 13)"
      ]
     },
     "execution_count": 3,
     "metadata": {},
     "output_type": "execute_result"
    }
   ],
   "source": [
    "today + diff_days"
   ]
  },
  {
   "cell_type": "code",
   "execution_count": 4,
   "metadata": {},
   "outputs": [
    {
     "data": {
      "text/plain": [
       "datetime.date(2022, 11, 25)"
      ]
     },
     "execution_count": 4,
     "metadata": {},
     "output_type": "execute_result"
    }
   ],
   "source": [
    "today - diff_days"
   ]
  },
  {
   "attachments": {},
   "cell_type": "markdown",
   "metadata": {},
   "source": [
    "## calendar.isleep()\n",
    "인수로 입력한 연도가 윤년인지 확인"
   ]
  },
  {
   "cell_type": "code",
   "execution_count": 1,
   "metadata": {},
   "outputs": [],
   "source": [
    "#구현\n",
    "def is_leap_year(year):\n",
    "    if year%4 == 0:\n",
    "        return True\n",
    "    if year%100 == 0:\n",
    "        return False\n",
    "    if year%400 == 0:\n",
    "        return True\n",
    "    return False"
   ]
  },
  {
   "cell_type": "code",
   "execution_count": 3,
   "metadata": {},
   "outputs": [
    {
     "data": {
      "text/plain": [
       "False"
      ]
     },
     "execution_count": 3,
     "metadata": {},
     "output_type": "execute_result"
    }
   ],
   "source": [
    "# 이미 함수 있음\n",
    "import calendar\n",
    "calendar.isleap(2022)"
   ]
  },
  {
   "attachments": {},
   "cell_type": "markdown",
   "metadata": {},
   "source": [
    "## collections.deque()\n",
    "- deque\n",
    "    - 앞뒤로 데이터 처리가 가능한 양방향 자료형\n",
    "    - 리스트보다 fast\n",
    "- deque 자료형을 생성하는 모듈"
   ]
  },
  {
   "cell_type": "code",
   "execution_count": 4,
   "metadata": {},
   "outputs": [
    {
     "name": "stdout",
     "output_type": "stream",
     "text": [
      "[4, 5, 1, 2, 3]\n"
     ]
    }
   ],
   "source": [
    "# 시계 방향으로 회전하는 다이얼 a=[1,2,3,4,5]가 있다고 할 때 \n",
    "# 이 다이얼을 2칸 돌려 눈금이 4가 되도록 하라\n",
    "\n",
    "from collections import deque\n",
    "a = [1,2,3,4,5]\n",
    "q = deque(a)\n",
    "q.rotate(2) # 시계방향으로 2칸\n",
    "print(list(q))\n"
   ]
  },
  {
   "cell_type": "code",
   "execution_count": 5,
   "metadata": {},
   "outputs": [
    {
     "name": "stdout",
     "output_type": "stream",
     "text": [
      "append: deque([1, 2, 3, 4, 5, 6])\n",
      "appendleft: deque([7, 1, 2, 3, 4, 5, 6])\n",
      "pop: 6\n"
     ]
    }
   ],
   "source": [
    "# deque의 함수들\n",
    "from collections import deque\n",
    "d = deque([1,2,3,4,5])\n",
    "d.append(6)\n",
    "print('append:',d)\n",
    "\n",
    "d.appendleft(7)\n",
    "print('appendleft:',d)\n",
    "\n",
    "print('pop:',d.pop())\n",
    "\n",
    "\n",
    "\n"
   ]
  },
  {
   "cell_type": "code",
   "execution_count": null,
   "metadata": {},
   "outputs": [],
   "source": []
  }
 ],
 "metadata": {
  "kernelspec": {
   "display_name": "Python 3",
   "language": "python",
   "name": "python3"
  },
  "language_info": {
   "codemirror_mode": {
    "name": "ipython",
    "version": 3
   },
   "file_extension": ".py",
   "mimetype": "text/x-python",
   "name": "python",
   "nbconvert_exporter": "python",
   "pygments_lexer": "ipython3",
   "version": "3.9.13"
  },
  "orig_nbformat": 4,
  "vscode": {
   "interpreter": {
    "hash": "2a271c975db27fcc5bd6750a79133d9113f00bd235921e6e5adc9df326ae1af1"
   }
  }
 },
 "nbformat": 4,
 "nbformat_minor": 2
}
