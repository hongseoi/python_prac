{
 "cells": [
  {
   "attachments": {},
   "cell_type": "markdown",
   "metadata": {},
   "source": [
    "### textwrap\n",
    "- 문자열 길이 줄임\n",
    "\n",
    "## textwrap.wrap()\n",
    "- 긴 문장 줄바꿈하기"
   ]
  },
  {
   "cell_type": "code",
   "execution_count": 7,
   "metadata": {},
   "outputs": [
    {
     "data": {
      "text/plain": [
       "'태정태세 [...]'"
      ]
     },
     "execution_count": 7,
     "metadata": {},
     "output_type": "execute_result"
    }
   ],
   "source": [
    "#textwrap: 문자열 줄이기\n",
    "import textwrap\n",
    "text = \"태정태세 문단세 여성연중 인명선 광인효현 숙경영 정순헌철 고순\"\n",
    "textwrap.shorten(text, width=10)"
   ]
  },
  {
   "cell_type": "code",
   "execution_count": 8,
   "metadata": {},
   "outputs": [
    {
     "data": {
      "text/plain": [
       "'태정태세...'"
      ]
     },
     "execution_count": 8,
     "metadata": {},
     "output_type": "execute_result"
    }
   ],
   "source": [
    "textwrap.shorten(text, width=10, placeholder='...')"
   ]
  },
  {
   "cell_type": "code",
   "execution_count": 1,
   "metadata": {},
   "outputs": [
    {
     "name": "stdout",
     "output_type": "stream",
     "text": [
      "life is too long!life is too long!life is too long!life is too long!life is too long!life is too long!life is too long!life is too long!life is too long!life is too long!\n"
     ]
    }
   ],
   "source": [
    "# textwrap.wrap\n",
    "\n",
    "long_text = \"life is too long!\"*10\n",
    "print(long_text)"
   ]
  },
  {
   "cell_type": "code",
   "execution_count": 3,
   "metadata": {},
   "outputs": [
    {
     "data": {
      "text/plain": [
       "['life is too long!life is too long!life is too long!life is too',\n",
       " 'long!life is too long!life is too long!life is too long!life is too',\n",
       " 'long!life is too long!life is too long!']"
      ]
     },
     "execution_count": 3,
     "metadata": {},
     "output_type": "execute_result"
    }
   ],
   "source": [
    "import textwrap\n",
    "\n",
    "result = textwrap.wrap(long_text, width=70) #긴 문자열을 witdth 길이만큼 자르고 리스트로 반환. 자르는 기준은 단어단위이므로 단어 중간이 끊기지 않음\n",
    "result"
   ]
  },
  {
   "cell_type": "code",
   "execution_count": 4,
   "metadata": {},
   "outputs": [
    {
     "name": "stdout",
     "output_type": "stream",
     "text": [
      "life is too long!life is too long!life is too long!life is too\n",
      "long!life is too long!life is too long!life is too long!life is too\n",
      "long!life is too long!life is too long!\n"
     ]
    }
   ],
   "source": [
    "print('\\n'.join(result)) # 자른 거 합치기"
   ]
  },
  {
   "cell_type": "code",
   "execution_count": 8,
   "metadata": {},
   "outputs": [
    {
     "data": {
      "text/plain": [
       "'life is too long!life is too long!life is too long!life is too\\nlong!life is too long!life is too long!life is too long!life is too\\nlong!life is too long!life is too long!'"
      ]
     },
     "execution_count": 8,
     "metadata": {},
     "output_type": "execute_result"
    }
   ],
   "source": [
    "# wrap + '\\n'.join\n",
    "result = textwrap.fill(long_text, width=70) #한 줄 길이가 width를 넘지 않음\n",
    "result"
   ]
  },
  {
   "attachments": {},
   "cell_type": "markdown",
   "metadata": {},
   "source": [
    "## 정규표현식 re"
   ]
  },
  {
   "cell_type": "code",
   "execution_count": 3,
   "metadata": {},
   "outputs": [
    {
     "name": "stdout",
     "output_type": "stream",
     "text": [
      "홍길동의 주민등록번호는 920394-******* 입니다. 그리고 고길동의 주민번호는 636462-******* 입니다. 누가 형님일까요?\n"
     ]
    }
   ],
   "source": [
    "data = \"홍길동의 주민등록번호는 920394-2837463 입니다. 그리고 고길동의 주민번호는 636462-3847362 입니다. 누가 형님일까요?\"\n",
    "\n",
    "result = []\n",
    "\n",
    "for i in data.split(\"\\n\"):\n",
    "    word_result = []\n",
    "    for word in i.split(\" \"):\n",
    "        if len(word)==14 and word[:6].isdigit() and word[7:].isdigit():\n",
    "            word = word[:6] + \"-*******\"\n",
    "        word_result.append(word)\n",
    "    result.append(\" \".join(word_result))\n",
    "print('\\n'.join(result)) "
   ]
  },
  {
   "cell_type": "code",
   "execution_count": 7,
   "metadata": {},
   "outputs": [
    {
     "name": "stdout",
     "output_type": "stream",
     "text": [
      "홍길동의 주민등록번호는 920394-*******입니다. 그리고 고길동의 주민번호는 636462-******* 입니다. 누가 형님일까요?\n"
     ]
    }
   ],
   "source": [
    "# re 모듈 사용하여 마스킹\n",
    "import re\n",
    "\n",
    "data = \"홍길동의 주민등록번호는 920394-2837463입니다. 그리고 고길동의 주민번호는 636462-3847362 입니다. 누가 형님일까요?\"\n",
    "\n",
    "pat = re.compile(\"(\\d{6})[-]\\d{7}\") #정규표현식 객체 pat 생성\n",
    "print(pat.sub(\"\\g<1>-*******\", data)) # \\g<1> : 정규표현식 pat과 일치하는 문자열 중 첫번째 그룹. 즉 주민번호 앞부분"
   ]
  },
  {
   "cell_type": "code",
   "execution_count": null,
   "metadata": {},
   "outputs": [],
   "source": []
  }
 ],
 "metadata": {
  "kernelspec": {
   "display_name": "Python 3",
   "language": "python",
   "name": "python3"
  },
  "language_info": {
   "codemirror_mode": {
    "name": "ipython",
    "version": 3
   },
   "file_extension": ".py",
   "mimetype": "text/x-python",
   "name": "python",
   "nbconvert_exporter": "python",
   "pygments_lexer": "ipython3",
   "version": "3.9.13"
  },
  "orig_nbformat": 4,
  "vscode": {
   "interpreter": {
    "hash": "2a271c975db27fcc5bd6750a79133d9113f00bd235921e6e5adc9df326ae1af1"
   }
  }
 },
 "nbformat": 4,
 "nbformat_minor": 2
}
