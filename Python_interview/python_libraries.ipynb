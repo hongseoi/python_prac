{
 "cells": [
  {
   "attachments": {},
   "cell_type": "markdown",
   "metadata": {},
   "source": [
    "### textwrap\n",
    "- 문자열 길이 줄임\n",
    "\n",
    "## textwrap.wrap()\n",
    "- 긴 문장 줄바꿈하기"
   ]
  },
  {
   "cell_type": "code",
   "execution_count": 7,
   "metadata": {},
   "outputs": [
    {
     "data": {
      "text/plain": [
       "'태정태세 [...]'"
      ]
     },
     "execution_count": 7,
     "metadata": {},
     "output_type": "execute_result"
    }
   ],
   "source": [
    "#textwrap: 문자열 줄이기\n",
    "import textwrap\n",
    "text = \"태정태세 문단세 여성연중 인명선 광인효현 숙경영 정순헌철 고순\"\n",
    "textwrap.shorten(text, width=10)"
   ]
  },
  {
   "cell_type": "code",
   "execution_count": 8,
   "metadata": {},
   "outputs": [
    {
     "data": {
      "text/plain": [
       "'태정태세...'"
      ]
     },
     "execution_count": 8,
     "metadata": {},
     "output_type": "execute_result"
    }
   ],
   "source": [
    "textwrap.shorten(text, width=10, placeholder='...')"
   ]
  },
  {
   "cell_type": "code",
   "execution_count": 1,
   "metadata": {},
   "outputs": [
    {
     "name": "stdout",
     "output_type": "stream",
     "text": [
      "life is too long!life is too long!life is too long!life is too long!life is too long!life is too long!life is too long!life is too long!life is too long!life is too long!\n"
     ]
    }
   ],
   "source": [
    "# textwrap.wrap\n",
    "\n",
    "long_text = \"life is too long!\"*10\n",
    "print(long_text)"
   ]
  },
  {
   "cell_type": "code",
   "execution_count": 3,
   "metadata": {},
   "outputs": [
    {
     "data": {
      "text/plain": [
       "['life is too long!life is too long!life is too long!life is too',\n",
       " 'long!life is too long!life is too long!life is too long!life is too',\n",
       " 'long!life is too long!life is too long!']"
      ]
     },
     "execution_count": 3,
     "metadata": {},
     "output_type": "execute_result"
    }
   ],
   "source": [
    "import textwrap\n",
    "\n",
    "result = textwrap.wrap(long_text, width=70) #긴 문자열을 witdth 길이만큼 자르고 리스트로 반환. 자르는 기준은 단어단위이므로 단어 중간이 끊기지 않음\n",
    "result"
   ]
  },
  {
   "cell_type": "code",
   "execution_count": 4,
   "metadata": {},
   "outputs": [
    {
     "name": "stdout",
     "output_type": "stream",
     "text": [
      "life is too long!life is too long!life is too long!life is too\n",
      "long!life is too long!life is too long!life is too long!life is too\n",
      "long!life is too long!life is too long!\n"
     ]
    }
   ],
   "source": [
    "print('\\n'.join(result)) # 자른 거 합치기"
   ]
  },
  {
   "cell_type": "code",
   "execution_count": 8,
   "metadata": {},
   "outputs": [
    {
     "data": {
      "text/plain": [
       "'life is too long!life is too long!life is too long!life is too\\nlong!life is too long!life is too long!life is too long!life is too\\nlong!life is too long!life is too long!'"
      ]
     },
     "execution_count": 8,
     "metadata": {},
     "output_type": "execute_result"
    }
   ],
   "source": [
    "# wrap + '\\n'.join\n",
    "result = textwrap.fill(long_text, width=70) #한 줄 길이가 width를 넘지 않음\n",
    "result"
   ]
  },
  {
   "attachments": {},
   "cell_type": "markdown",
   "metadata": {},
   "source": [
    "## 정규표현식 re"
   ]
  },
  {
   "cell_type": "code",
   "execution_count": 3,
   "metadata": {},
   "outputs": [
    {
     "name": "stdout",
     "output_type": "stream",
     "text": [
      "홍길동의 주민등록번호는 920394-******* 입니다. 그리고 고길동의 주민번호는 636462-******* 입니다. 누가 형님일까요?\n"
     ]
    }
   ],
   "source": [
    "data = \"홍길동의 주민등록번호는 920394-2837463 입니다. 그리고 고길동의 주민번호는 636462-3847362 입니다. 누가 형님일까요?\"\n",
    "\n",
    "result = []\n",
    "\n",
    "for i in data.split(\"\\n\"):\n",
    "    word_result = []\n",
    "    for word in i.split(\" \"):\n",
    "        if len(word)==14 and word[:6].isdigit() and word[7:].isdigit():\n",
    "            word = word[:6] + \"-*******\"\n",
    "        word_result.append(word)\n",
    "    result.append(\" \".join(word_result))\n",
    "print('\\n'.join(result)) "
   ]
  },
  {
   "cell_type": "code",
   "execution_count": 7,
   "metadata": {},
   "outputs": [
    {
     "name": "stdout",
     "output_type": "stream",
     "text": [
      "홍길동의 주민등록번호는 920394-*******입니다. 그리고 고길동의 주민번호는 636462-******* 입니다. 누가 형님일까요?\n"
     ]
    }
   ],
   "source": [
    "# re 모듈 사용하여 마스킹\n",
    "import re\n",
    "\n",
    "data = \"홍길동의 주민등록번호는 920394-2837463입니다. 그리고 고길동의 주민번호는 636462-3847362 입니다. 누가 형님일까요?\"\n",
    "\n",
    "pat = re.compile(\"(\\d{6})[-]\\d{7}\") #정규표현식 객체 pat 생성\n",
    "print(pat.sub(\"\\g<1>-*******\", data)) # \\g<1> : 정규표현식 pat과 일치하는 문자열 중 첫번째 그룹. 즉 주민번호 앞부분"
   ]
  },
  {
   "attachments": {},
   "cell_type": "markdown",
   "metadata": {},
   "source": [
    "## C로 만든 데이터 다루기: struct\n",
    "- c언어로 만든 구조체 이진 데이터를 처리할 때 활용하는 모듈\n",
    "- c 구조체로 만들어진 파일을 읽거나, 네트워크로 전달되는 c 구조체 이진 데이터를 파이썬에서 처리할 때 사용\n",
    "\n",
    "'''\n",
    "typedf struct {\n",
    "    double v;\n",
    "    int t;\n",
    "    char c;\n",
    "} save_type;\n",
    "\n",
    "int main(){\n",
    "    save_type s = {7.5f, 15, 'A'};\n",
    "    FILE *f = fopen('output', 'w);\n",
    "    fwrite(&s, sizeof(save_type), 1, f);\n",
    "    fclose(f);\n",
    "    return 0\n",
    "}\n",
    "\n",
    "'''"
   ]
  },
  {
   "cell_type": "code",
   "execution_count": 1,
   "metadata": {},
   "outputs": [
    {
     "ename": "FileNotFoundError",
     "evalue": "[Errno 2] No such file or directory: 'output'",
     "output_type": "error",
     "traceback": [
      "\u001b[1;31m---------------------------------------------------------------------------\u001b[0m",
      "\u001b[1;31mFileNotFoundError\u001b[0m                         Traceback (most recent call last)",
      "Cell \u001b[1;32mIn [1], line 4\u001b[0m\n\u001b[0;32m      1\u001b[0m \u001b[39m# 구조체 데이터 output를 struct를 이용해 읽어보자\u001b[39;00m\n\u001b[0;32m      3\u001b[0m \u001b[39mimport\u001b[39;00m \u001b[39mstruct\u001b[39;00m\n\u001b[1;32m----> 4\u001b[0m \u001b[39mwith\u001b[39;00m \u001b[39mopen\u001b[39m(\u001b[39m'\u001b[39m\u001b[39moutput\u001b[39m\u001b[39m'\u001b[39m, \u001b[39m'\u001b[39m\u001b[39mrb\u001b[39m\u001b[39m'\u001b[39m) \u001b[39mas\u001b[39;00m f:\n\u001b[0;32m      5\u001b[0m     chunk \u001b[39m=\u001b[39m f\u001b[39m.\u001b[39mread(\u001b[39m16\u001b[39m)\n\u001b[0;32m      6\u001b[0m     result \u001b[39m=\u001b[39m struct\u001b[39m.\u001b[39munpack(\u001b[39m'\u001b[39m\u001b[39mdiccc\u001b[39m\u001b[39m'\u001b[39m, chunk)\n",
      "\u001b[1;31mFileNotFoundError\u001b[0m: [Errno 2] No such file or directory: 'output'"
     ]
    }
   ],
   "source": [
    "# 구조체 데이터 output를 struct를 이용해 읽어보자\n",
    "\n",
    "import struct\n",
    "with open('output', 'rb') as f:\n",
    "    chunk = f.read(16)\n",
    "    result = struct.unpack('diccc', chunk) #double 1개, int 1개, char 3ro\n",
    "    print(result)"
   ]
  },
  {
   "attachments": {},
   "cell_type": "markdown",
   "metadata": {},
   "source": [
    "## datetime.date\n",
    "- 년, 월, 일로 날짜를 표현할 때 사용하는 모듈"
   ]
  },
  {
   "cell_type": "code",
   "execution_count": 2,
   "metadata": {},
   "outputs": [
    {
     "name": "stdout",
     "output_type": "stream",
     "text": [
      "2019-12-14\n"
     ]
    }
   ],
   "source": [
    "import datetime\n",
    "\n",
    "day1 = datetime.date(2019, 12, 14)\n",
    "print(day1)"
   ]
  },
  {
   "cell_type": "code",
   "execution_count": 4,
   "metadata": {},
   "outputs": [
    {
     "data": {
      "text/plain": [
       "datetime.date(2021, 6, 5)"
      ]
     },
     "execution_count": 4,
     "metadata": {},
     "output_type": "execute_result"
    }
   ],
   "source": [
    "day2 = datetime.date(2021, 6, 5)\n",
    "day2"
   ]
  },
  {
   "cell_type": "code",
   "execution_count": 6,
   "metadata": {},
   "outputs": [
    {
     "data": {
      "text/plain": [
       "datetime.timedelta(days=539)"
      ]
     },
     "execution_count": 6,
     "metadata": {},
     "output_type": "execute_result"
    }
   ],
   "source": [
    "diff = day2 - day1\n",
    "diff"
   ]
  },
  {
   "cell_type": "code",
   "execution_count": 7,
   "metadata": {},
   "outputs": [
    {
     "data": {
      "text/plain": [
       "539"
      ]
     },
     "execution_count": 7,
     "metadata": {},
     "output_type": "execute_result"
    }
   ],
   "source": [
    "diff.days"
   ]
  },
  {
   "cell_type": "code",
   "execution_count": 8,
   "metadata": {},
   "outputs": [
    {
     "data": {
      "text/plain": [
       "5"
      ]
     },
     "execution_count": 8,
     "metadata": {},
     "output_type": "execute_result"
    }
   ],
   "source": [
    "import datetime\n",
    "\n",
    "day = datetime.date(2019, 12, 14)\n",
    "day.weekday()"
   ]
  },
  {
   "cell_type": "code",
   "execution_count": 9,
   "metadata": {},
   "outputs": [
    {
     "data": {
      "text/plain": [
       "6"
      ]
     },
     "execution_count": 9,
     "metadata": {},
     "output_type": "execute_result"
    }
   ],
   "source": [
    "day.isoweekday()"
   ]
  },
  {
   "cell_type": "code",
   "execution_count": 1,
   "metadata": {},
   "outputs": [
    {
     "data": {
      "text/plain": [
       "datetime.date(2023, 3, 5)"
      ]
     },
     "execution_count": 1,
     "metadata": {},
     "output_type": "execute_result"
    }
   ],
   "source": [
    "# datetime.timedelta(): 두 날짜의 차이 계산\n",
    "import datetime\n",
    "today = datetime.date.today() #오늘 날짜 반환\n",
    "today"
   ]
  },
  {
   "cell_type": "code",
   "execution_count": 2,
   "metadata": {},
   "outputs": [
    {
     "data": {
      "text/plain": [
       "datetime.timedelta(days=100)"
      ]
     },
     "execution_count": 2,
     "metadata": {},
     "output_type": "execute_result"
    }
   ],
   "source": [
    "diff_days = datetime.timedelta(days=100)\n",
    "diff_days"
   ]
  },
  {
   "cell_type": "code",
   "execution_count": 3,
   "metadata": {},
   "outputs": [
    {
     "data": {
      "text/plain": [
       "datetime.date(2023, 6, 13)"
      ]
     },
     "execution_count": 3,
     "metadata": {},
     "output_type": "execute_result"
    }
   ],
   "source": [
    "today + diff_days"
   ]
  },
  {
   "cell_type": "code",
   "execution_count": 4,
   "metadata": {},
   "outputs": [
    {
     "data": {
      "text/plain": [
       "datetime.date(2022, 11, 25)"
      ]
     },
     "execution_count": 4,
     "metadata": {},
     "output_type": "execute_result"
    }
   ],
   "source": [
    "today - diff_days"
   ]
  },
  {
   "attachments": {},
   "cell_type": "markdown",
   "metadata": {},
   "source": [
    "## calendar.isleep()\n",
    "인수로 입력한 연도가 윤년인지 확인"
   ]
  },
  {
   "cell_type": "code",
   "execution_count": 1,
   "metadata": {},
   "outputs": [],
   "source": [
    "#구현\n",
    "def is_leap_year(year):\n",
    "    if year%4 == 0:\n",
    "        return True\n",
    "    if year%100 == 0:\n",
    "        return False\n",
    "    if year%400 == 0:\n",
    "        return True\n",
    "    return False"
   ]
  },
  {
   "cell_type": "code",
   "execution_count": 3,
   "metadata": {},
   "outputs": [
    {
     "data": {
      "text/plain": [
       "False"
      ]
     },
     "execution_count": 3,
     "metadata": {},
     "output_type": "execute_result"
    }
   ],
   "source": [
    "# 이미 함수 있음\n",
    "import calendar\n",
    "calendar.isleap(2022)"
   ]
  },
  {
   "attachments": {},
   "cell_type": "markdown",
   "metadata": {},
   "source": [
    "## collections.deque()\n",
    "- deque\n",
    "    - 앞뒤로 데이터 처리가 가능한 양방향 자료형\n",
    "    - 리스트보다 fast\n",
    "- deque 자료형을 생성하는 모듈"
   ]
  },
  {
   "cell_type": "code",
   "execution_count": 4,
   "metadata": {},
   "outputs": [
    {
     "name": "stdout",
     "output_type": "stream",
     "text": [
      "[4, 5, 1, 2, 3]\n"
     ]
    }
   ],
   "source": [
    "# 시계 방향으로 회전하는 다이얼 a=[1,2,3,4,5]가 있다고 할 때 \n",
    "# 이 다이얼을 2칸 돌려 눈금이 4가 되도록 하라\n",
    "\n",
    "from collections import deque\n",
    "a = [1,2,3,4,5]\n",
    "q = deque(a)\n",
    "q.rotate(2) # 시계방향으로 2칸\n",
    "print(list(q))\n"
   ]
  },
  {
   "cell_type": "code",
   "execution_count": 5,
   "metadata": {},
   "outputs": [
    {
     "name": "stdout",
     "output_type": "stream",
     "text": [
      "append: deque([1, 2, 3, 4, 5, 6])\n",
      "appendleft: deque([7, 1, 2, 3, 4, 5, 6])\n",
      "pop: 6\n"
     ]
    }
   ],
   "source": [
    "# deque의 함수들\n",
    "from collections import deque\n",
    "d = deque([1,2,3,4,5])\n",
    "d.append(6)\n",
    "print('append:',d)\n",
    "\n",
    "d.appendleft(7)\n",
    "print('appendleft:',d)\n",
    "\n",
    "print('pop:',d.pop())\n",
    "\n",
    "\n",
    "\n"
   ]
  },
  {
   "attachments": {},
   "cell_type": "markdown",
   "metadata": {},
   "source": [
    "## collections.namedtuple\n",
    "\n",
    "- namedtuple: 튜플과는 다르게 인덱스 뿐만 아니라 key로도 데이터에 접근가능한 자료형\n"
   ]
  },
  {
   "cell_type": "code",
   "execution_count": 4,
   "metadata": {},
   "outputs": [],
   "source": [
    "data = [\n",
    "    ('홍길동', 23, '110294234234'),\n",
    "    ('홍서이', 34, '23234823492'),\n",
    "    ('홍당무', 23, '2349234342837')\n",
    "]"
   ]
  },
  {
   "cell_type": "code",
   "execution_count": 5,
   "metadata": {},
   "outputs": [
    {
     "name": "stdout",
     "output_type": "stream",
     "text": [
      "('홍길동', 23, '110294234234')\n"
     ]
    }
   ],
   "source": [
    "emp = data[0]\n",
    "print(emp)\n"
   ]
  },
  {
   "cell_type": "code",
   "execution_count": 8,
   "metadata": {},
   "outputs": [],
   "source": [
    "# name이 employee이고 name, age, cell 속성을 가진 namedtuple 생성\n",
    "from collections import namedtuple\n",
    "\n",
    "employee = namedtuple('employee', 'name, age, cell')"
   ]
  },
  {
   "cell_type": "code",
   "execution_count": 10,
   "metadata": {},
   "outputs": [
    {
     "data": {
      "text/plain": [
       "[employee(name='홍길동', age=23, cell='110294234234'),\n",
       " employee(name='홍서이', age=34, cell='23234823492'),\n",
       " employee(name='홍당무', age=23, cell='2349234342837')]"
      ]
     },
     "execution_count": 10,
     "metadata": {},
     "output_type": "execute_result"
    }
   ],
   "source": [
    "data = [employee(emp[0], emp[1], emp[2]) for emp in data]\n",
    "data"
   ]
  },
  {
   "cell_type": "code",
   "execution_count": 11,
   "metadata": {},
   "outputs": [
    {
     "data": {
      "text/plain": [
       "[employee(name='홍길동', age=23, cell='110294234234'),\n",
       " employee(name='홍서이', age=34, cell='23234823492'),\n",
       " employee(name='홍당무', age=23, cell='2349234342837')]"
      ]
     },
     "execution_count": 11,
     "metadata": {},
     "output_type": "execute_result"
    }
   ],
   "source": [
    "# _make() 사용해 쉽게 변환\n",
    "data = [employee._make(emp) for emp in data]\n",
    "data"
   ]
  },
  {
   "cell_type": "code",
   "execution_count": 14,
   "metadata": {},
   "outputs": [
    {
     "data": {
      "text/plain": [
       "'홍길동'"
      ]
     },
     "execution_count": 14,
     "metadata": {},
     "output_type": "execute_result"
    }
   ],
   "source": [
    "# 'name'으로 접근 가능\n",
    "emp = data[0]\n",
    "emp.name"
   ]
  },
  {
   "cell_type": "code",
   "execution_count": 15,
   "metadata": {},
   "outputs": [
    {
     "data": {
      "text/plain": [
       "{'name': '홍길동', 'age': 23, 'cell': '110294234234'}"
      ]
     },
     "execution_count": 15,
     "metadata": {},
     "output_type": "execute_result"
    }
   ],
   "source": [
    "# namedtuple은 dictionary로 변환 가능\n",
    "emp._asdict()"
   ]
  },
  {
   "cell_type": "code",
   "execution_count": 16,
   "metadata": {},
   "outputs": [
    {
     "data": {
      "text/plain": [
       "'110294234234'"
      ]
     },
     "execution_count": 16,
     "metadata": {},
     "output_type": "execute_result"
    }
   ],
   "source": [
    "# 인덱스로 접근 가능\n",
    "emp[2]"
   ]
  },
  {
   "cell_type": "code",
   "execution_count": 18,
   "metadata": {},
   "outputs": [
    {
     "data": {
      "text/plain": [
       "employee(name='박길동', age=23, cell='110294234234')"
      ]
     },
     "execution_count": 18,
     "metadata": {},
     "output_type": "execute_result"
    }
   ],
   "source": [
    "# 튜플이므로 삭제 불가. _replace를 이용해 새 객체 생성 후 반환은 가능\n",
    "new_emp = emp._replace(name='박길동')\n",
    "new_emp"
   ]
  },
  {
   "attachments": {},
   "cell_type": "markdown",
   "metadata": {},
   "source": [
    "## collections.Counter\n",
    "- 리스트, 문자열에서 값이 같은 요소가 몇개인지 확인"
   ]
  },
  {
   "cell_type": "code",
   "execution_count": 1,
   "metadata": {},
   "outputs": [],
   "source": [
    "data = \"\"\"\n",
    "\n",
    "산에는 꽃 피네\n",
    "\n",
    "꽃이 피네.\n",
    "\n",
    "갈 봄 여름 없이\n",
    "\n",
    "꽃이 피네.\n",
    "\n",
    "산에\n",
    "\n",
    "산에\n",
    "\n",
    "피는 꽃은\n",
    "\n",
    "저만치 혼자서 피어 있네.\n",
    "\n",
    "\n",
    "산에서 우는 작은 새여.\n",
    "\n",
    "꽃이 좋아\n",
    "\n",
    "산에서\n",
    "\n",
    "사노라네.\n",
    "\n",
    "\n",
    "산에는 꽃 지네\n",
    "\n",
    "꽃이 지네.\n",
    "\n",
    "갈 봄 여름 없이\n",
    "\n",
    "꽃이 지네.\n",
    "\n",
    "\"\"\""
   ]
  },
  {
   "cell_type": "code",
   "execution_count": 2,
   "metadata": {},
   "outputs": [
    {
     "name": "stdout",
     "output_type": "stream",
     "text": [
      "[('꽃이', 5)]\n"
     ]
    }
   ],
   "source": [
    "#위 시에서 가장 많이 사용된 단어와 사용된 횟수를 알아보자\n",
    "\n",
    "from collections import Counter\n",
    "import re\n",
    "\n",
    "words = re.findall(f'\\w+',data) #문장을 단어별(\\w+)로 나눔. 리스트로 반환\n",
    "counter = Counter(words)\n",
    "print(counter.most_common(1))"
   ]
  },
  {
   "cell_type": "code",
   "execution_count": 3,
   "metadata": {},
   "outputs": [
    {
     "name": "stdout",
     "output_type": "stream",
     "text": [
      "Counter({'꽃이': 5, '피네': 3, '지네': 3, '산에는': 2, '꽃': 2, '갈': 2, '봄': 2, '여름': 2, '없이': 2, '산에': 2, '산에서': 2, '피는': 1, '꽃은': 1, '저만치': 1, '혼자서': 1, '피어': 1, '있네': 1, '우는': 1, '작은': 1, '새여': 1, '좋아': 1, '사노라네': 1})\n"
     ]
    }
   ],
   "source": [
    "print(counter)"
   ]
  },
  {
   "attachments": {},
   "cell_type": "markdown",
   "metadata": {},
   "source": [
    "# collections.defaultdict()\n",
    "- 딕셔너리를 한 번에 초기화"
   ]
  },
  {
   "cell_type": "code",
   "execution_count": 5,
   "metadata": {},
   "outputs": [
    {
     "name": "stdout",
     "output_type": "stream",
     "text": [
      "{'L': 1, 'i': 2, 'f': 1, 'e': 3, ' ': 6, 's': 2, 't': 3, 'o': 5, 'h': 2, 'r': 1, ',': 1, 'y': 2, 'u': 1, 'n': 2, 'd': 1, 'p': 1, '.': 1}\n"
     ]
    }
   ],
   "source": [
    "text = \"Life is too short, you need python.\"\n",
    "\n",
    "d = dict()\n",
    "for key in text:\n",
    "    if key not in d:\n",
    "        d[key] = 0 #지정하지 않으면 key가 없으므로 keyerror 발생\n",
    "    d[key] += 1\n",
    "\n",
    "print(d)"
   ]
  },
  {
   "cell_type": "code",
   "execution_count": 8,
   "metadata": {},
   "outputs": [
    {
     "name": "stdout",
     "output_type": "stream",
     "text": [
      "defaultdict(<class 'int'>, {'L': 1, 'i': 2, 'f': 1, 'e': 3, ' ': 6, 's': 2, 't': 3, 'o': 5, 'h': 2, 'r': 1, ',': 1, 'y': 2, 'u': 1, 'n': 2, 'd': 1, 'p': 1, '.': 1})\n",
      "{'L': 1, 'i': 2, 'f': 1, 'e': 3, ' ': 6, 's': 2, 't': 3, 'o': 5, 'h': 2, 'r': 1, ',': 1, 'y': 2, 'u': 1, 'n': 2, 'd': 1, 'p': 1, '.': 1}\n"
     ]
    }
   ],
   "source": [
    "from collections import defaultdict\n",
    "\n",
    "d = defaultdict(int)\n",
    "for key in text:\n",
    "    d[key] += 1\n",
    "\n",
    "print(d)\n",
    "print(dict(d))"
   ]
  },
  {
   "attachments": {},
   "cell_type": "markdown",
   "metadata": {},
   "source": [
    "## heapq\n",
    "- 순위가 가장 높은 자료를 가장 먼저 꺼내는 우선순위 큐"
   ]
  },
  {
   "cell_type": "code",
   "execution_count": 2,
   "metadata": {},
   "outputs": [],
   "source": [
    "data = [\n",
    "    (12.23, \"강보람\"),\n",
    "    (12.31, \"김지원\"),\n",
    "    (11.98, \"박시우\"),\n",
    "    (11.99, \"장준혁\"),\n",
    "    (12.22, \"장준석\")\n",
    "]"
   ]
  },
  {
   "cell_type": "code",
   "execution_count": 10,
   "metadata": {},
   "outputs": [
    {
     "name": "stdout",
     "output_type": "stream",
     "text": [
      "(11.98, '박시우')\n",
      "(11.99, '장준혁')\n",
      "(12.22, '장준석')\n"
     ]
    }
   ],
   "source": [
    "# 방법1\n",
    "import heapq\n",
    "\n",
    "h = [] # 힙 생성\n",
    "for score in data:\n",
    "    heapq.heappush(h, score) #힙에 데이터 저장\n",
    "\n",
    "for i in range(3):\n",
    "    print(heapq.heappop(h)) #최솟값부터 반환"
   ]
  },
  {
   "cell_type": "code",
   "execution_count": 14,
   "metadata": {},
   "outputs": [
    {
     "name": "stdout",
     "output_type": "stream",
     "text": [
      "(11.98, '박시우')\n",
      "(11.99, '장준혁')\n",
      "(12.22, '장준석')\n"
     ]
    }
   ],
   "source": [
    "# 방법2\n",
    "# heapify()로 리스트 -> 힙\n",
    "heapq.heapify(data)\n",
    "\n",
    "for i in range(3):\n",
    "    print(heapq.heappop(data)) #최솟값부터 반환"
   ]
  },
  {
   "cell_type": "code",
   "execution_count": 15,
   "metadata": {},
   "outputs": [
    {
     "data": {
      "text/plain": [
       "[(12.23, '강보람'), (12.31, '김지원')]"
      ]
     },
     "execution_count": 15,
     "metadata": {},
     "output_type": "execute_result"
    }
   ],
   "source": [
    "#방법3. nsmallest()이용\n",
    "heapq.nsmallest(3, data)\n"
   ]
  },
  {
   "attachments": {},
   "cell_type": "markdown",
   "metadata": {},
   "source": [
    "## pprint()\n",
    "- json, dic과 같이 복잡한 형태의 데이터셋을 보기 좋게 출력\n"
   ]
  },
  {
   "cell_type": "code",
   "execution_count": 3,
   "metadata": {},
   "outputs": [
    {
     "name": "stdout",
     "output_type": "stream",
     "text": [
      "[(12.23, '강보람'), (12.31, '김지원'), (11.98, '박시우'), (11.99, '장준혁'), (12.22, '장준석')]\n"
     ]
    }
   ],
   "source": [
    "import pprint\n",
    "pprint.pprint(data)"
   ]
  },
  {
   "attachments": {},
   "cell_type": "markdown",
   "metadata": {},
   "source": [
    "## bisect\n",
    "- 이진탐색 알고리즘 구현한 모듈\n",
    "- 임의의 점수에 따라 학점을 매길 때"
   ]
  },
  {
   "cell_type": "code",
   "execution_count": 9,
   "metadata": {},
   "outputs": [
    {
     "ename": "TypeError",
     "evalue": "'<' not supported between instances of 'list' and 'int'",
     "output_type": "error",
     "traceback": [
      "\u001b[1;31m---------------------------------------------------------------------------\u001b[0m",
      "\u001b[1;31mTypeError\u001b[0m                                 Traceback (most recent call last)",
      "\u001b[1;32mc:\\Users\\HONG SEO I\\Desktop\\Programming\\python_prac\\Python_interview\\python_libraries.ipynb 셀 55\u001b[0m in \u001b[0;36m8\n\u001b[0;32m      <a href='vscode-notebook-cell:/c%3A/Users/HONG%20SEO%20I/Desktop/Programming/python_prac/Python_interview/python_libraries.ipynb#Y104sZmlsZQ%3D%3D?line=5'>6</a>\u001b[0m \u001b[39m# a점 이상인 경우\u001b[39;00m\n\u001b[0;32m      <a href='vscode-notebook-cell:/c%3A/Users/HONG%20SEO%20I/Desktop/Programming/python_prac/Python_interview/python_libraries.ipynb#Y104sZmlsZQ%3D%3D?line=6'>7</a>\u001b[0m \u001b[39mfor\u001b[39;00m i \u001b[39min\u001b[39;00m score:\n\u001b[1;32m----> <a href='vscode-notebook-cell:/c%3A/Users/HONG%20SEO%20I/Desktop/Programming/python_prac/Python_interview/python_libraries.ipynb#Y104sZmlsZQ%3D%3D?line=7'>8</a>\u001b[0m     pos \u001b[39m=\u001b[39m bisect\u001b[39m.\u001b[39mbisect([\u001b[39m60\u001b[39m,\u001b[39m70\u001b[39m,\u001b[39m80\u001b[39m,\u001b[39m90\u001b[39m], score) \u001b[39m#총5구간\u001b[39;00m\n\u001b[0;32m      <a href='vscode-notebook-cell:/c%3A/Users/HONG%20SEO%20I/Desktop/Programming/python_prac/Python_interview/python_libraries.ipynb#Y104sZmlsZQ%3D%3D?line=8'>9</a>\u001b[0m     grade \u001b[39m=\u001b[39m \u001b[39m'\u001b[39m\u001b[39mFDCBA\u001b[39m\u001b[39m'\u001b[39m[pos] \u001b[39m#구간 5개에 대한 점수\u001b[39;00m\n\u001b[0;32m     <a href='vscode-notebook-cell:/c%3A/Users/HONG%20SEO%20I/Desktop/Programming/python_prac/Python_interview/python_libraries.ipynb#Y104sZmlsZQ%3D%3D?line=9'>10</a>\u001b[0m     result\u001b[39m.\u001b[39mappend(grade)\n",
      "\u001b[1;31mTypeError\u001b[0m: '<' not supported between instances of 'list' and 'int'"
     ]
    }
   ],
   "source": [
    "import bisect\n",
    "\n",
    "result = []\n",
    "score = [33,99,77,70,89,90,100]\n",
    "\n",
    "# a점 이상인 경우\n",
    "for i in score:\n",
    "    pos = bisect.bisect([60,70,80,90], score) #총5구간\n",
    "    grade = 'FDCBA'[pos] #구간 5개에 대한 점수\n",
    "    result.append(grade)\n",
    "\n",
    "print(result)\n",
    "\n",
    "result_left = []\n",
    "# a점 초과인 경우\n",
    "for i in score:\n",
    "    pos = bisect.bisect_left([60,70,80,90], score) #총5구간\n",
    "    grade = 'FDCBA'[pos] #구간 5개에 대한 점수\n",
    "    result.append(grade)\n",
    "\n",
    "print(result_left)"
   ]
  },
  {
   "attachments": {},
   "cell_type": "markdown",
   "metadata": {},
   "source": [
    "## enum\n",
    "- 서로 관련 있는 여러 개의 상수집합을 정의"
   ]
  },
  {
   "cell_type": "code",
   "execution_count": 1,
   "metadata": {},
   "outputs": [
    {
     "name": "stdout",
     "output_type": "stream",
     "text": [
      "김치찌개\n"
     ]
    }
   ],
   "source": [
    "from datetime import date\n",
    "\n",
    "def get_menu(input_data):\n",
    "    weekday = input_data.isoweekday() # 1~7까지 요일별 숫자\n",
    "    if weekday == 1:\n",
    "        menu = '김치찌개'\n",
    "    elif weekday == 2:\n",
    "        menu = '비빔밥'\n",
    "    elif weekday == 3:\n",
    "        menu = '샐러드'\n",
    "    elif weekday == 4:\n",
    "        menu = '라면'\n",
    "    elif weekday == 5:\n",
    "        menu = '불고기'\n",
    "    elif weekday == 6:\n",
    "        menu = '갈비탕'\n",
    "    elif weekday == 7:\n",
    "        menu = '건빵'\n",
    "    return menu\n",
    "\n",
    "print(get_menu(date(2021, 12, 6)))\n",
    "                            "
   ]
  },
  {
   "cell_type": "code",
   "execution_count": 4,
   "metadata": {},
   "outputs": [
    {
     "name": "stdout",
     "output_type": "stream",
     "text": [
      "김치찌개\n"
     ]
    }
   ],
   "source": [
    "# 위의 코드 개선\n",
    "from datetime import date\n",
    "from enum import IntEnum\n",
    "\n",
    "class Week(IntEnum):\n",
    "    MONDAY = 1\n",
    "    TUESDAT = 2\n",
    "    WEDNESDAY = 3\n",
    "    THURSDAY = 4\n",
    "    FRIDAY = 5\n",
    "    SATURDAY = 6\n",
    "    SUNDAY = 7\n",
    "\n",
    "def get_menu(input_data):\n",
    "    menu = {\n",
    "        Week.MONDAY:'김치찌개',\n",
    "        Week.THURSDAY:'비빔밥',\n",
    "        Week.WEDNESDAY:'된장찌개',\n",
    "        Week.THURSDAY:'불고기',\n",
    "        Week.FRIDAY:'갈비탕',\n",
    "        Week.SATURDAY:'라면',\n",
    "        Week.SUNDAY:'건빵'\n",
    "    }\n",
    "\n",
    "    return menu[input_data.isoweekday()]\n",
    "\n",
    "print(get_menu(date(2021, 12, 6)))\n"
   ]
  },
  {
   "attachments": {},
   "cell_type": "markdown",
   "metadata": {},
   "source": [
    "## enum 자료형의 name과 value"
   ]
  },
  {
   "cell_type": "code",
   "execution_count": 5,
   "metadata": {},
   "outputs": [
    {
     "name": "stdout",
     "output_type": "stream",
     "text": [
      "MONDAY:1\n",
      "TUESDAT:2\n",
      "WEDNESDAY:3\n",
      "THURSDAY:4\n",
      "FRIDAY:5\n",
      "SATURDAY:6\n",
      "SUNDAY:7\n"
     ]
    }
   ],
   "source": [
    "for week in Week:\n",
    "    print(\"{}:{}\".format(week.name, week.value))"
   ]
  },
  {
   "attachments": {},
   "cell_type": "markdown",
   "metadata": {},
   "source": [
    "## graphlib.TopologicalSorter\n",
    "- 위상 정렬(Tolpological Sorting)\n",
    "    - 대학의 선수과목\n",
    "    - 특정 과목 수강 순서를 정할 때 위상 정렬을 통해 선후관계 파악 가능\n",
    "    - 그래프 순환이 없어야 위상정렬 가능(비순환 유향 그래프)\n",
    "\n",
    "### 예제\n",
    "- 학생 A는 다음과 같은 5개의 영어 수업을 모두 수강하고자 한다.\n",
    "- ['초급','중급','고급','문법','회화']\n",
    "- 선수과목 규칙은 다음과 같다.\n",
    "    1. 초급 > 중급 > 고급\n",
    "    2. 중급 > 문법 > 고급\n",
    "    3. 문법 > 회화\n",
    "- 선수과목 규칙을 만족하는 수강순서를 알려주는 프로그램을 구하라"
   ]
  },
  {
   "cell_type": "code",
   "execution_count": 3,
   "metadata": {},
   "outputs": [
    {
     "name": "stdout",
     "output_type": "stream",
     "text": [
      "['초급', '중급', '문법', '고급', '회화']\n"
     ]
    }
   ],
   "source": [
    "from graphlib import TopologicalSorter\n",
    "\n",
    "ts = TopologicalSorter()\n",
    "\n",
    "#그래프 순환 발생시 Cycle Error 발생\n",
    "\n",
    "# 규칙1\n",
    "# ts.add('고급','중급','초급') 형태로도 사용 가능\n",
    "ts.add('중급','초급') #add(노드, 선행노드) 순서\n",
    "ts.add('고급','중급')\n",
    "\n",
    "#규칙2\n",
    "ts.add('문법','중급')\n",
    "ts.add('고급','문법')\n",
    "\n",
    "#규칙3\n",
    "ts.add('회화', '문법')\n",
    "\n",
    "print(list(ts.static_order()))"
   ]
  },
  {
   "attachments": {},
   "cell_type": "markdown",
   "metadata": {},
   "source": [
    "## math.gcd\n",
    "- 최대공약수(gdc, greatest common divisor)\n",
    "- 예시\n",
    "    - 어린이집에서 사탕 60, 초콜릿 100, 젤리 80개 준비했는데, 아이들이 서로 싸우지 않도록 똑같이 나누어 봉지에 담는다고 하면 최대 몇봉까지 가능?"
   ]
  },
  {
   "cell_type": "code",
   "execution_count": 2,
   "metadata": {},
   "outputs": [
    {
     "name": "stdout",
     "output_type": "stream",
     "text": [
      "사탕, 초콜릿, 젤리는 봉지당 각각  3.0 5.0 4.0 개씩 들어감\n"
     ]
    }
   ],
   "source": [
    "import math\n",
    "math.gcd(60, 100, 80) #최대 만들 수 있는 봉지 개수.\n",
    "\n",
    "## 각각의 봉지에 들어갈 사탕, 초콜릿, 젤리양\n",
    "print('사탕, 초콜릿, 젤리는 봉지당 각각 ', 60/20, 100/20, 80/20, '개씩 들어감' )"
   ]
  },
  {
   "attachments": {},
   "cell_type": "markdown",
   "metadata": {},
   "source": [
    "## decimal.Decimal\n",
    "- 숫자를 10진수로 처리하여 정확한 소숫점 자리수 표현\n",
    "- 메모리를 많이 차지\n",
    "- 오차 허용하지 않는 금융권, 재무 회계 관련 프로그램에서 사용"
   ]
  },
  {
   "cell_type": "code",
   "execution_count": 1,
   "metadata": {},
   "outputs": [
    {
     "name": "stdout",
     "output_type": "stream",
     "text": [
      "False\n",
      "False\n"
     ]
    }
   ],
   "source": [
    "# 파이썬의 이상한 오류. 이진수 기반의 파이썬 float 연산은 미세한 오차가 발생할 수 있다.\n",
    "print(0.1*3 == 0.3)\n",
    "print(0.1*0.1 == 0.01)"
   ]
  },
  {
   "cell_type": "code",
   "execution_count": 2,
   "metadata": {},
   "outputs": [
    {
     "data": {
      "text/plain": [
       "True"
      ]
     },
     "execution_count": 2,
     "metadata": {},
     "output_type": "execute_result"
    }
   ],
   "source": [
    "# 1. == 연산자 대신 math.isclose()를 사용. 완전한 해결법은 아님\n",
    "import math\n",
    "\n",
    "math.isclose(0.1*3, 0.3) "
   ]
  },
  {
   "cell_type": "code",
   "execution_count": 4,
   "metadata": {},
   "outputs": [
    {
     "data": {
      "text/plain": [
       "Decimal('0.3')"
      ]
     },
     "execution_count": 4,
     "metadata": {},
     "output_type": "execute_result"
    }
   ],
   "source": [
    "# 2. decimal 자료형 사용하여 문제 해결\n",
    "from decimal import Decimal\n",
    "\n",
    "a = Decimal('0.1') * 3 # 함수 내부 입력은 문자열이어야 함\n",
    "a"
   ]
  },
  {
   "cell_type": "code",
   "execution_count": 8,
   "metadata": {},
   "outputs": [
    {
     "data": {
      "text/plain": [
       "True"
      ]
     },
     "execution_count": 8,
     "metadata": {},
     "output_type": "execute_result"
    }
   ],
   "source": [
    "# decimal 형태를 float 자료형으로 변환 \n",
    "float(a) == 0.3"
   ]
  },
  {
   "cell_type": "code",
   "execution_count": null,
   "metadata": {},
   "outputs": [],
   "source": []
  }
 ],
 "metadata": {
  "kernelspec": {
   "display_name": "Python 3",
   "language": "python",
   "name": "python3"
  },
  "language_info": {
   "codemirror_mode": {
    "name": "ipython",
    "version": 3
   },
   "file_extension": ".py",
   "mimetype": "text/x-python",
   "name": "python",
   "nbconvert_exporter": "python",
   "pygments_lexer": "ipython3",
   "version": "3.9.13"
  },
  "orig_nbformat": 4,
  "vscode": {
   "interpreter": {
    "hash": "2a271c975db27fcc5bd6750a79133d9113f00bd235921e6e5adc9df326ae1af1"
   }
  }
 },
 "nbformat": 4,
 "nbformat_minor": 2
}
