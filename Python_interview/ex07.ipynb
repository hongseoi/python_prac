{
 "cells": [
  {
   "attachments": {},
   "cell_type": "markdown",
   "metadata": {},
   "source": [
    "<pre>\n",
    "leetcode 1.Two sum\n",
    "\n",
    "책 07. 두수의 합\n",
    "\n",
    "입력: nums = [2,7,11,15], target = 9\n",
    "출력: [0, 1]\n",
    "\n",
    "더하여 target을 만들 수 있는 배열의 두 숫자 인덱스를 리턴하라 \n",
    "\n",
    "</pre>"
   ]
  },
  {
   "cell_type": "code",
   "execution_count": 1,
   "metadata": {},
   "outputs": [
    {
     "ename": "NameError",
     "evalue": "name 'List' is not defined",
     "output_type": "error",
     "traceback": [
      "\u001b[1;31m---------------------------------------------------------------------------\u001b[0m",
      "\u001b[1;31mNameError\u001b[0m                                 Traceback (most recent call last)",
      "Cell \u001b[1;32mIn [1], line 2\u001b[0m\n\u001b[0;32m      1\u001b[0m \u001b[39m#브루트포스: 가장 비효율적\u001b[39;00m\n\u001b[1;32m----> 2\u001b[0m \u001b[39mclass\u001b[39;00m \u001b[39mSolution\u001b[39;00m:\n\u001b[0;32m      3\u001b[0m     \u001b[39mdef\u001b[39;00m \u001b[39mtwoSum\u001b[39m(\u001b[39mself\u001b[39m, nums: List[\u001b[39mint\u001b[39m], target: \u001b[39mint\u001b[39m) \u001b[39m-\u001b[39m\u001b[39m>\u001b[39m List[\u001b[39mint\u001b[39m]:\n\u001b[0;32m      4\u001b[0m         \u001b[39m#nums target\u001b[39;00m\n\u001b[0;32m      5\u001b[0m         \u001b[39m#nums에서 2개 숫자 골라서 target일 경우 출력\u001b[39;00m\n\u001b[0;32m      6\u001b[0m         \u001b[39m#return은 리스트형태로\u001b[39;00m\n\u001b[0;32m      7\u001b[0m         result \u001b[39m=\u001b[39m []\n",
      "Cell \u001b[1;32mIn [1], line 3\u001b[0m, in \u001b[0;36mSolution\u001b[1;34m()\u001b[0m\n\u001b[0;32m      2\u001b[0m \u001b[39mclass\u001b[39;00m \u001b[39mSolution\u001b[39;00m:\n\u001b[1;32m----> 3\u001b[0m     \u001b[39mdef\u001b[39;00m \u001b[39mtwoSum\u001b[39m(\u001b[39mself\u001b[39m, nums: List[\u001b[39mint\u001b[39m], target: \u001b[39mint\u001b[39m) \u001b[39m-\u001b[39m\u001b[39m>\u001b[39m List[\u001b[39mint\u001b[39m]:\n\u001b[0;32m      4\u001b[0m         \u001b[39m#nums target\u001b[39;00m\n\u001b[0;32m      5\u001b[0m         \u001b[39m#nums에서 2개 숫자 골라서 target일 경우 출력\u001b[39;00m\n\u001b[0;32m      6\u001b[0m         \u001b[39m#return은 리스트형태로\u001b[39;00m\n\u001b[0;32m      7\u001b[0m         result \u001b[39m=\u001b[39m []\n\u001b[0;32m      8\u001b[0m         \u001b[39mfor\u001b[39;00m i \u001b[39min\u001b[39;00m \u001b[39mrange\u001b[39m(\u001b[39mlen\u001b[39m(nums)):\n",
      "\u001b[1;31mNameError\u001b[0m: name 'List' is not defined"
     ]
    }
   ],
   "source": [
    "#브루트포스: 가장 비효율적\n",
    "class Solution:\n",
    "    def twoSum(self, nums: List[int], target: int) -> List[int]:\n",
    "        #nums target\n",
    "        #nums에서 2개 숫자 골라서 target일 경우 출력\n",
    "        #return은 리스트형태로\n",
    "        result = []\n",
    "        for i in range(len(nums)):\n",
    "            for j in range(len(nums)+1):\n",
    "                sum = nums[i] + nums[j+1]\n",
    "                if (sum == target):\n",
    "                    result.append(sum)\n",
    "        return result \n",
    "                    "
   ]
  },
  {
   "cell_type": "code",
   "execution_count": 2,
   "metadata": {},
   "outputs": [
    {
     "ename": "IndentationError",
     "evalue": "expected an indented block (785005962.py, line 8)",
     "output_type": "error",
     "traceback": [
      "\u001b[1;36m  Cell \u001b[1;32mIn [2], line 8\u001b[1;36m\u001b[0m\n\u001b[1;33m    \u001b[0m\n\u001b[1;37m    ^\u001b[0m\n\u001b[1;31mIndentationError\u001b[0m\u001b[1;31m:\u001b[0m expected an indented block\n"
     ]
    }
   ],
   "source": [
    "#in을 이용한 탐색\n",
    "class Solution:\n",
    "    def twoSum(self, nums: List[int], target: int) -> List[int]:\n",
    "        #nums target\n",
    "        #nums에서 2개 숫자 골라서 target일 경우 출력\n",
    "        #return은 리스트형태로\n",
    "        # enumerate: 리스트의 원소, 인덱스에 모두 접근하여 인덱스, 원소 모두 출력\n",
    "        for i, n in enumerate(nums):\n",
    "            complement = target - n\n",
    "\n",
    "            if complement in nums[i+1:]:\n",
    "                return nums.index(n), nums[i+1:].index(complement) + (i+1)\n",
    "        "
   ]
  },
  {
   "cell_type": "code",
   "execution_count": 3,
   "metadata": {},
   "outputs": [
    {
     "name": "stdout",
     "output_type": "stream",
     "text": [
      "0\n",
      "a\n",
      "1\n",
      "b\n",
      "2\n",
      "c\n"
     ]
    }
   ],
   "source": [
    "lst = ['a','b','c']\n",
    "for i, n in enumerate(lst):\n",
    "    print(i)\n",
    "    print(n) "
   ]
  },
  {
   "cell_type": "code",
   "execution_count": 4,
   "metadata": {},
   "outputs": [
    {
     "ename": "NameError",
     "evalue": "name 'List' is not defined",
     "output_type": "error",
     "traceback": [
      "\u001b[1;31m---------------------------------------------------------------------------\u001b[0m",
      "\u001b[1;31mNameError\u001b[0m                                 Traceback (most recent call last)",
      "Cell \u001b[1;32mIn [4], line 2\u001b[0m\n\u001b[0;32m      1\u001b[0m \u001b[39m#첫번째 수를 뺀 결과 키 조회(시간복잡도 개선)\u001b[39;00m\n\u001b[1;32m----> 2\u001b[0m \u001b[39mclass\u001b[39;00m \u001b[39mSolution\u001b[39;00m:\n\u001b[0;32m      3\u001b[0m     \u001b[39mdef\u001b[39;00m \u001b[39mtwoSum\u001b[39m(\u001b[39mself\u001b[39m, nums: List[\u001b[39mint\u001b[39m], target: \u001b[39mint\u001b[39m) \u001b[39m-\u001b[39m\u001b[39m>\u001b[39m List[\u001b[39mint\u001b[39m]:\n\u001b[0;32m      4\u001b[0m         \u001b[39m#nums target\u001b[39;00m\n\u001b[0;32m      5\u001b[0m         \u001b[39m#nums에서 2개 숫자 골라서 target일 경우 출력\u001b[39;00m\n\u001b[0;32m      6\u001b[0m         \u001b[39m#return은 리스트형태로\u001b[39;00m\n\u001b[0;32m      7\u001b[0m         \u001b[39m# enumerate: 리스트의 원소, 인덱스에 모두 접근하여 인덱스, 원소 모두 출력\u001b[39;00m\n\u001b[0;32m      8\u001b[0m         \u001b[39m# 키와 원소를 바꿔서 딕셔너리로 저장\u001b[39;00m\n\u001b[0;32m      9\u001b[0m         nums_map \u001b[39m=\u001b[39m {}\n",
      "Cell \u001b[1;32mIn [4], line 3\u001b[0m, in \u001b[0;36mSolution\u001b[1;34m()\u001b[0m\n\u001b[0;32m      2\u001b[0m \u001b[39mclass\u001b[39;00m \u001b[39mSolution\u001b[39;00m:\n\u001b[1;32m----> 3\u001b[0m     \u001b[39mdef\u001b[39;00m \u001b[39mtwoSum\u001b[39m(\u001b[39mself\u001b[39m, nums: List[\u001b[39mint\u001b[39m], target: \u001b[39mint\u001b[39m) \u001b[39m-\u001b[39m\u001b[39m>\u001b[39m List[\u001b[39mint\u001b[39m]:\n\u001b[0;32m      4\u001b[0m         \u001b[39m#nums target\u001b[39;00m\n\u001b[0;32m      5\u001b[0m         \u001b[39m#nums에서 2개 숫자 골라서 target일 경우 출력\u001b[39;00m\n\u001b[0;32m      6\u001b[0m         \u001b[39m#return은 리스트형태로\u001b[39;00m\n\u001b[0;32m      7\u001b[0m         \u001b[39m# enumerate: 리스트의 원소, 인덱스에 모두 접근하여 인덱스, 원소 모두 출력\u001b[39;00m\n\u001b[0;32m      8\u001b[0m         \u001b[39m# 키와 원소를 바꿔서 딕셔너리로 저장\u001b[39;00m\n\u001b[0;32m      9\u001b[0m         nums_map \u001b[39m=\u001b[39m {}\n\u001b[0;32m     10\u001b[0m         \u001b[39mfor\u001b[39;00m i, n \u001b[39min\u001b[39;00m \u001b[39menumerate\u001b[39m(nums):\n",
      "\u001b[1;31mNameError\u001b[0m: name 'List' is not defined"
     ]
    }
   ],
   "source": [
    "#첫번째 수를 뺀 결과 키 조회(시간복잡도 개선)\n",
    "class Solution:\n",
    "    def twoSum(self, nums: List[int], target: int) -> List[int]:\n",
    "        #nums target\n",
    "        #nums에서 2개 숫자 골라서 target일 경우 출력\n",
    "        #return은 리스트형태로\n",
    "        # enumerate: 리스트의 원소, 인덱스에 모두 접근하여 인덱스, 원소 모두 출력\n",
    "        # 키와 원소를 바꿔서 딕셔너리로 저장\n",
    "        nums_map = {}\n",
    "        for i, n in enumerate(nums):\n",
    "            nums_map[n] = i\n",
    "\n",
    "        # 타겟에서 첫번째 수를 뺀 결과를 키로 조회\n",
    "        for i, n in enumerate(nums):\n",
    "            if target - n in nums_map and i != nums_map[target - n]:\n",
    "                return nums.index(n), nums_map[target - n]\n",
    "        "
   ]
  },
  {
   "cell_type": "code",
   "execution_count": 5,
   "metadata": {},
   "outputs": [
    {
     "ename": "NameError",
     "evalue": "name 'List' is not defined",
     "output_type": "error",
     "traceback": [
      "\u001b[1;31m---------------------------------------------------------------------------\u001b[0m",
      "\u001b[1;31mNameError\u001b[0m                                 Traceback (most recent call last)",
      "Cell \u001b[1;32mIn [5], line 2\u001b[0m\n\u001b[0;32m      1\u001b[0m \u001b[39m#조회구조 개선: 하나의 for문으로 합쳐서 처리하기\u001b[39;00m\n\u001b[1;32m----> 2\u001b[0m \u001b[39mdef\u001b[39;00m \u001b[39mtwoSum\u001b[39m(\u001b[39mself\u001b[39m, nums:List[\u001b[39mint\u001b[39m], target:\u001b[39mint\u001b[39m) \u001b[39m-\u001b[39m\u001b[39m>\u001b[39m List[\u001b[39mint\u001b[39m]:\n\u001b[0;32m      3\u001b[0m     nums_map \u001b[39m=\u001b[39m {}\n\u001b[0;32m      4\u001b[0m     \u001b[39m#하나의 for문으로 통합\u001b[39;00m\n",
      "\u001b[1;31mNameError\u001b[0m: name 'List' is not defined"
     ]
    }
   ],
   "source": [
    "#조회구조 개선: 하나의 for문으로 합쳐서 처리하기\n",
    "def twoSum(self, nums:List[int], target:int) -> List[int]:\n",
    "    nums_map = {}\n",
    "    #하나의 for문으로 통합\n",
    "    for i,n in enumerate(nums):\n",
    "        if target - n in nums_map:\n",
    "            return [nums_map[target-n], i]\n",
    "        nums_map[num] = i\n",
    "        \n"
   ]
  },
  {
   "cell_type": "code",
   "execution_count": 6,
   "metadata": {},
   "outputs": [
    {
     "ename": "NameError",
     "evalue": "name 'List' is not defined",
     "output_type": "error",
     "traceback": [
      "\u001b[1;31m---------------------------------------------------------------------------\u001b[0m",
      "\u001b[1;31mNameError\u001b[0m                                 Traceback (most recent call last)",
      "Cell \u001b[1;32mIn [6], line 3\u001b[0m\n\u001b[0;32m      1\u001b[0m \u001b[39m# 투포인터 이용\u001b[39;00m\n\u001b[0;32m      2\u001b[0m \u001b[39m## 투포인터: 왼쪽 포인터, 오른쪽 포인터의 합이 \u001b[39;00m\n\u001b[1;32m----> 3\u001b[0m \u001b[39mdef\u001b[39;00m \u001b[39mtwoSum\u001b[39m(\u001b[39mself\u001b[39m, nums: List[\u001b[39mint\u001b[39m], target: \u001b[39mint\u001b[39m) \u001b[39m-\u001b[39m\u001b[39m>\u001b[39m List[\u001b[39mint\u001b[39m]:\n\u001b[0;32m      4\u001b[0m     left, right \u001b[39m=\u001b[39m \u001b[39m0\u001b[39m, \u001b[39mlen\u001b[39m(nums)\u001b[39m-\u001b[39m\u001b[39m1\u001b[39m\n\u001b[0;32m      5\u001b[0m     \u001b[39m#left+right > target -> right 이동\u001b[39;00m\n",
      "\u001b[1;31mNameError\u001b[0m: name 'List' is not defined"
     ]
    }
   ],
   "source": [
    "# 투포인터 이용\n",
    "## 투포인터: 왼쪽 포인터, 오른쪽 포인터의 합이 \n",
    "def twoSum(self, nums: List[int], target: int) -> List[int]:\n",
    "    left, right = 0, len(nums)-1\n",
    "    #left+right > target -> right 이동\n",
    "    if nums[left] + nums[right] > target:\n",
    "        right -= 1\n",
    "    #left+right < target -> left 이동\n",
    "    elif nums[left] + nums[right] < target:\n",
    "        left +=1\n",
    "    else:\n",
    "        return left, right\n"
   ]
  },
  {
   "cell_type": "code",
   "execution_count": null,
   "metadata": {},
   "outputs": [],
   "source": []
  },
  {
   "attachments": {},
   "cell_type": "markdown",
   "metadata": {},
   "source": [
    "<h2>08 빗물 트래핑</h2>\n",
    "\n",
    "<pre>\n",
    "입력: 높이 배열\n",
    "출력: 고인 물의 부피\n",
    "\n",
    "solv\n",
    "- 투포인터 이동\n",
    "- stack\n",
    "\n",
    "</pre>"
   ]
  },
  {
   "cell_type": "code",
   "execution_count": null,
   "metadata": {},
   "outputs": [],
   "source": [
    "#투포인터\n"
   ]
  },
  {
   "cell_type": "code",
   "execution_count": null,
   "metadata": {},
   "outputs": [],
   "source": [
    "#stack"
   ]
  },
  {
   "attachments": {},
   "cell_type": "markdown",
   "metadata": {},
   "source": [
    "09.세수의 합\n",
    "<pre>\n",
    "input : nums = [-1, 0, 1, 2, -1, -4]\n",
    "ountput: [\n",
    "    [-1, 0, 1],\n",
    "    [-1, -1, 2]\n",
    "    ]\n",
    "\n",
    "입력 배열로 합을 0을 만들수 있는 3개의 엘리먼트를 출력하라\n",
    "</pre>\n",
    "\n",
    "* 브루트포스\n",
    "* 투포인터"
   ]
  },
  {
   "cell_type": "code",
   "execution_count": null,
   "metadata": {},
   "outputs": [],
   "source": [
    "#브루트포스\n",
    "\n",
    "def threeSum(self, nums):\n",
    "    result  = []\n",
    "    nums.sort()\n",
    "\n",
    "    for i in range(len(nums) - 2):\n",
    "        \n",
    "\n",
    "\n",
    "\n",
    "    return result\n",
    "\n",
    "    "
   ]
  },
  {
   "attachments": {},
   "cell_type": "markdown",
   "metadata": {},
   "source": [
    "# 09 세수의 합\n",
    "\n",
    "배열을 입력받아 합으로 0을 만들 수 있는 3개의 elements를 출력하라\n",
    "\n",
    "1. 브루트포스\n",
    "2. 투포인터"
   ]
  },
  {
   "cell_type": "code",
   "execution_count": null,
   "metadata": {},
   "outputs": [],
   "source": [
    "def threeSum(self, nums):\n",
    "    result = []\n",
    "    nums.sort()\n",
    "\n",
    "    for i in range(len(nums)-2):\n",
    "        for j in range(len(nums)-1):\n",
    "            for k in range(len(nums)):\n",
    "                if nums[i] + nums[j] + nums[k] == 0:\n",
    "                    result.append((nums[i], nums[j], nums[k]))\n",
    "\n",
    "    return result"
   ]
  },
  {
   "cell_type": "code",
   "execution_count": null,
   "metadata": {},
   "outputs": [],
   "source": [
    "import pygame"
   ]
  },
  {
   "cell_type": "code",
   "execution_count": null,
   "metadata": {},
   "outputs": [],
   "source": []
  }
 ],
 "metadata": {
  "kernelspec": {
   "display_name": "Python 3",
   "language": "python",
   "name": "python3"
  },
  "language_info": {
   "codemirror_mode": {
    "name": "ipython",
    "version": 3
   },
   "file_extension": ".py",
   "mimetype": "text/x-python",
   "name": "python",
   "nbconvert_exporter": "python",
   "pygments_lexer": "ipython3",
   "version": "3.9.13 (tags/v3.9.13:6de2ca5, May 17 2022, 16:36:42) [MSC v.1929 64 bit (AMD64)]"
  },
  "orig_nbformat": 4,
  "vscode": {
   "interpreter": {
    "hash": "2a271c975db27fcc5bd6750a79133d9113f00bd235921e6e5adc9df326ae1af1"
   }
  }
 },
 "nbformat": 4,
 "nbformat_minor": 2
}
