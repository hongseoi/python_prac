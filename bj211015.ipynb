{
  "nbformat": 4,
  "nbformat_minor": 0,
  "metadata": {
    "colab": {
      "name": "bj211015.ipynb",
      "provenance": [],
      "authorship_tag": "ABX9TyPhIOVDD6631Rh5ZFK6QKS7",
      "include_colab_link": true
    },
    "kernelspec": {
      "name": "python3",
      "display_name": "Python 3"
    },
    "language_info": {
      "name": "python"
    }
  },
  "cells": [
    {
      "cell_type": "markdown",
      "metadata": {
        "id": "view-in-github",
        "colab_type": "text"
      },
      "source": [
        "<a href=\"https://colab.research.google.com/github/SEOLLLL/std2021-2/blob/main/bj211015.ipynb\" target=\"_parent\"><img src=\"https://colab.research.google.com/assets/colab-badge.svg\" alt=\"Open In Colab\"/></a>"
      ]
    },
    {
      "cell_type": "code",
      "metadata": {
        "colab": {
          "base_uri": "https://localhost:8080/"
        },
        "id": "DHVb-inMPb0u",
        "outputId": "e031b068-44e7-49c2-d647-26367555dbef"
      },
      "source": [
        "#11021\n",
        "test_case = int(input())\n",
        "\n",
        "for x in range(1, test_case+1):\n",
        "  a,b = map(int, input().split())\n",
        "  ans = a + b\n",
        "  print(f\"Case #{x}: {ans}\")\n"
      ],
      "execution_count": null,
      "outputs": [
        {
          "output_type": "stream",
          "name": "stdout",
          "text": [
            "3\n",
            "4 5\n",
            "Case #1: 9\n",
            "5 5\n",
            "Case #2: 10\n",
            " 33 44\n",
            "Case #3: 77\n"
          ]
        }
      ]
    },
    {
      "cell_type": "code",
      "metadata": {
        "colab": {
          "base_uri": "https://localhost:8080/"
        },
        "id": "UHF7q8XHSAL5",
        "outputId": "fa3f7bc5-0ef2-4bba-c89c-229ea481c342"
      },
      "source": [
        "#11022\n",
        "\n",
        "count = int(input())\n",
        "\n",
        "for i in range(count):\n",
        "  a, b = map(int, input().split())\n",
        "  print(\"Case #%s: %s + %s = %s\"%(i+1, a, b, a+b))"
      ],
      "execution_count": null,
      "outputs": [
        {
          "output_type": "stream",
          "name": "stdout",
          "text": [
            "2\n",
            "1 3\n",
            "Case #1: 1 + 3 = 4\n",
            "4 5\n",
            "Case #2: 4 + 5 = 9\n"
          ]
        }
      ]
    },
    {
      "cell_type": "code",
      "metadata": {
        "colab": {
          "base_uri": "https://localhost:8080/"
        },
        "id": "C-Kya9MQTNVg",
        "outputId": "3b866a2c-6296-43d5-8a6d-46c6ae0ad1dc"
      },
      "source": [
        "#2438\n",
        "\n",
        "num = int(input())\n",
        "\n",
        "for i in range(1, num+1):\n",
        "  print('*'*i)\n"
      ],
      "execution_count": null,
      "outputs": [
        {
          "output_type": "stream",
          "name": "stdout",
          "text": [
            "5\n",
            "*\n",
            "**\n",
            "***\n",
            "****\n",
            "*****\n"
          ]
        }
      ]
    },
    {
      "cell_type": "code",
      "metadata": {
        "colab": {
          "base_uri": "https://localhost:8080/"
        },
        "id": "rizaK4WaTgwe",
        "outputId": "f8e89477-31b0-4abf-8891-e93b227edbd5"
      },
      "source": [
        "#2439\n",
        "\n",
        "num = int(input())\n",
        "for i in range(1, num+1):\n",
        "  print(\" \"*(num-i), '*'*i, sep=\"\")\n"
      ],
      "execution_count": 21,
      "outputs": [
        {
          "output_type": "stream",
          "name": "stdout",
          "text": [
            "9\n",
            "        *\n",
            "       **\n",
            "      ***\n",
            "     ****\n",
            "    *****\n",
            "   ******\n",
            "  *******\n",
            " ********\n",
            "*********\n"
          ]
        }
      ]
    }
  ]
}