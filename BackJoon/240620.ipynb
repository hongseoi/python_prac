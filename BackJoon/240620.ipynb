{
 "cells": [
  {
   "cell_type": "markdown",
   "metadata": {},
   "source": [
    "# 1676\n",
    "\n",
    "N!에서 뒤에서부터 처음 0이 아닌 숫자가 나올 때까지 0의 개수를 구하는 프로그램을 작성하시오.\n",
    "\n",
    "### 예시\n",
    "\n",
    "N = 5인 경우: 5! = 5 × 4 × 3 × 2 × 1 = 120. 여기서 뒤에서부터 0이 아닌 숫자 '2'가 나오기 전까지 0의 개수는 1개입니다.\n",
    "N = 10인 경우: 10! = 10 × 9 × 8 × 7 × 6 × 5 × 4 × 3 × 2 × 1 = 3628800. 여기서 뒤에서부터 0이 아닌 숫자 '8'이 나오기 전까지 0의 개수는 2개입니다."
   ]
  },
  {
   "cell_type": "code",
   "execution_count": 4,
   "metadata": {},
   "outputs": [
    {
     "name": "stdout",
     "output_type": "stream",
     "text": [
      "2\n"
     ]
    }
   ],
   "source": [
    "N = int(input())\n",
    "\n",
    "def factorial(N):\n",
    "    if N == 1:\n",
    "        return 1\n",
    "    else:\n",
    "        return N * factorial(N-1)\n",
    "\n",
    "count = 0\n",
    "i = 5    \n",
    "N_fac = factorial(N)\n",
    "\n",
    "while N_fac//i > 0:\n",
    "    N_fac // i\n",
    "    count += 1\n",
    "    i *= 5\n",
    "\n",
    "print(count)\n",
    "    \n",
    "    "
   ]
  },
  {
   "cell_type": "markdown",
   "metadata": {},
   "source": [
    "- 주어진 N의 팩토리얼을 직접 계산하는 것은 메모리 측면에서 비효율적임\n",
    "- 끝부분의 0을 잘 세지 못하고 있음 > n!를 소인수분해했을 때 2의 개수는 무조건 5의 개수보다 많으므로 5의 개수를 계산해서 0의 개수를 구할 수 있음"
   ]
  },
  {
   "cell_type": "markdown",
   "metadata": {},
   "source": [
    "- 1 ... N까지에서 5가 몇개있는지\n",
    "- 5말고 5의 배수일수도 있음"
   ]
  },
  {
   "cell_type": "code",
   "execution_count": 16,
   "metadata": {},
   "outputs": [
    {
     "name": "stdout",
     "output_type": "stream",
     "text": [
      "24"
     ]
    }
   ],
   "source": [
    "def count_trailing_zeros(N):\n",
    "    count = 0\n",
    "    i = 5\n",
    "    while N // i > 0:\n",
    "        count += N // i\n",
    "        i *= 5\n",
    "    return count\n",
    "\n",
    "# 입력 처리\n",
    "N = int(input())\n",
    "\n",
    "# 결과 출력\n",
    "print(count_trailing_zeros(N))\n"
   ]
  },
  {
   "cell_type": "code",
   "execution_count": null,
   "metadata": {},
   "outputs": [],
   "source": []
  }
 ],
 "metadata": {
  "kernelspec": {
   "display_name": "pytorch_tutorial",
   "language": "python",
   "name": "python3"
  },
  "language_info": {
   "codemirror_mode": {
    "name": "ipython",
    "version": 3
   },
   "file_extension": ".py",
   "mimetype": "text/x-python",
   "name": "python",
   "nbconvert_exporter": "python",
   "pygments_lexer": "ipython3",
   "version": "3.10.12"
  }
 },
 "nbformat": 4,
 "nbformat_minor": 2
}
