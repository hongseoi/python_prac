{
 "cells": [
  {
   "cell_type": "markdown",
   "metadata": {},
   "source": [
    "- _summary_\n",
    "- 종말의 수: 6이 3개 이상 연속으로 들어가는 수(ex 666, 1666, ..., 6666, 6661)\n",
    "- N번째 종말의 수: N번째로 작은 종말의 수\n",
    "\n"
   ]
  },
  {
   "cell_type": "code",
   "execution_count": 5,
   "metadata": {},
   "outputs": [
    {
     "name": "stdout",
     "output_type": "stream",
     "text": [
      "166699\n"
     ]
    }
   ],
   "source": [
    "def is_end_num(number):\n",
    "    return '666' in str(number)   \n",
    " \n",
    "def find_number(N):\n",
    "   count = 0\n",
    "   number = 665\n",
    "   \n",
    "   while count < N:\n",
    "       number +=1\n",
    "       if is_end_num(number):\n",
    "           count += 1\n",
    "   return number\n",
    "\n",
    "n = int(input(\"몇번째 종말의 수?\"))\n",
    "print(find_number(n))"
   ]
  },
  {
   "cell_type": "code",
   "execution_count": null,
   "metadata": {},
   "outputs": [],
   "source": []
  }
 ],
 "metadata": {
  "kernelspec": {
   "display_name": "Python 3",
   "language": "python",
   "name": "python3"
  },
  "language_info": {
   "codemirror_mode": {
    "name": "ipython",
    "version": 3
   },
   "file_extension": ".py",
   "mimetype": "text/x-python",
   "name": "python",
   "nbconvert_exporter": "python",
   "pygments_lexer": "ipython3",
   "version": "3.11.4"
  }
 },
 "nbformat": 4,
 "nbformat_minor": 2
}
