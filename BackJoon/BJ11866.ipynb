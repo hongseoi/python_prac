{
 "cells": [
  {
   "cell_type": "markdown",
   "metadata": {},
   "source": [
    "# 11866\n",
    "## 문제\n",
    "요세푸스 문제는 다음과 같다.\n",
    "\n",
    "1번부터 N번까지 N명의 사람이 원을 이루면서 앉아있고, 양의 정수 K(≤ N)가 주어진다. 이제 순서대로 K번째 사람을 제거한다. 한 사람이 제거되면 남은 사람들로 이루어진 원을 따라 이 과정을 계속해 나간다. 이 과정은 N명의 사람이 모두 제거될 때까지 계속된다. 원에서 사람들이 제거되는 순서를 (N, K)-요세푸스 순열이라고 한다. 예를 들어 (7, 3)-요세푸스 순열은 <3, 6, 2, 7, 5, 1, 4>이다.\n",
    "\n",
    "N과 K가 주어지면 (N, K)-요세푸스 순열을 구하는 프로그램을 작성하시오.\n",
    "\n",
    "## 입력\n",
    "첫째 줄에 N과 K가 빈 칸을 사이에 두고 순서대로 주어진다. (1 ≤ K ≤ N ≤ 1,000)\n",
    "\n",
    "## 출력\n",
    "예제와 같이 요세푸스 순열을 출력한다.\n",
    "\n",
    "### 예제 입력 1 \n",
    "7 3\n",
    "### 예제 출력 1 \n",
    "<3, 6, 2, 7, 5, 1, 4>"
   ]
  },
  {
   "cell_type": "code",
   "execution_count": 25,
   "metadata": {},
   "outputs": [
    {
     "name": "stdout",
     "output_type": "stream",
     "text": [
      "<3, 6, 2, 7, 5, 1, 4>\n"
     ]
    }
   ],
   "source": [
    "N, K = map(int, input().split())\n",
    "\n",
    "lst = [i for i in range(1, N+1)]\n",
    "y_per = []\n",
    "idx = 0\n",
    "\n",
    "while len(lst) != 0:\n",
    "    idx += 2\n",
    "    if idx > len(lst):\n",
    "        while idx >= len(lst):\n",
    "            idx -= len(lst)\n",
    "    y_per.append(lst.pop(idx))\n",
    "\n",
    "print(\"<\"+\", \".join(map(str, y_per))+\">\")\n",
    "\n",
    "\n",
    "\n",
    "    "
   ]
  },
  {
   "cell_type": "markdown",
   "metadata": {},
   "source": [
    "런타임 에러 발생. \n",
    "\n",
    "\n",
    "K=3이 아닐 수도 있는데 계속 2를 더함\n",
    "\n",
    "\n",
    "이 코드에서 발생하는 런타임 에러의 원인은 idx 값을 계산하는 방식에 있습니다. 현재 코드는 idx += 2로 고정된 값을 더하고 있습니다. 하지만 리스트의 길이가 줄어들면서 idx가 리스트의 범위를 초과할 수 있습니다. 특히 while idx >= len(lst) 부분에서 리스트의 길이보다 큰 idx 값이 계속 나올 수 있어, 결국 lst.pop(idx)에서 문제가 발생하게 됩니다."
   ]
  },
  {
   "cell_type": "code",
   "execution_count": null,
   "metadata": {},
   "outputs": [],
   "source": [
    "N, K = map(int, input().split())\n",
    "\n",
    "lst = [i for i in range(1, N+1)]\n",
    "y_per = []\n",
    "idx = 0\n",
    "\n",
    "while len(lst) != 0:\n",
    "    idx += (K - 1)  # K번째 요소를 선택하기 위해 K-1을 더함\n",
    "    \n",
    "    # idx가 리스트의 길이를 넘어가면 나머지 연산을 통해 조정\n",
    "    idx %= len(lst)\n",
    "    \n",
    "    # idx에 해당하는 요소를 제거하고 y_per에 추가\n",
    "    y_per.append(lst.pop(idx))\n",
    "\n",
    "# 결과 출력\n",
    "print(\"<\" + \", \".join(map(str, y_per)) + \">\")\n"
   ]
  }
 ],
 "metadata": {
  "kernelspec": {
   "display_name": "Python 3",
   "language": "python",
   "name": "python3"
  },
  "language_info": {
   "codemirror_mode": {
    "name": "ipython",
    "version": 3
   },
   "file_extension": ".py",
   "mimetype": "text/x-python",
   "name": "python",
   "nbconvert_exporter": "python",
   "pygments_lexer": "ipython3",
   "version": "3.11.5"
  }
 },
 "nbformat": 4,
 "nbformat_minor": 2
}
