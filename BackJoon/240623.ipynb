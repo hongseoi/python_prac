{
 "cells": [
  {
   "cell_type": "markdown",
   "metadata": {},
   "source": [
    "## 21633\n",
    "\n",
    "Tanya has an account in \"Redgotts\" bank. The bank has the commission to transfer money to \"Bluegotts\" bank that her friend Vanya has the account in.\n",
    "\n",
    "Tanya has read her bank rules and learned the following:\n",
    "\n",
    "The commission for the bank transfer is \n",
    "$25$ tugriks plus \n",
    "$1\\%$ of the sum transferred. However, the commission is never smaller than \n",
    "$100$ tugriks, and cannot exceed \n",
    "$2000$ tugriks.\n",
    "\n",
    "Tanya is planning to transfer \n",
    "$k$ tugriks to Vanya. Help her find out what the commission would be."
   ]
  },
  {
   "cell_type": "code",
   "execution_count": null,
   "metadata": {},
   "outputs": [],
   "source": [
    "money = int(input())\n",
    "tax = 25 + money * 0.01\n",
    "\n",
    "if tax < 100:\n",
    "    tax = 100\n",
    "elif tax > 2000:\n",
    "    tax = 2000\n",
    "\n",
    "print(tax)"
   ]
  },
  {
   "cell_type": "markdown",
   "metadata": {},
   "source": [
    "## 4766\n",
    "동혁이는 졸업을 하기 위해 일반 화학 실험을 들어야 한다. 마지막 실험은 어떤 혼합물을 만든 뒤 온도를 1분에 한 번씩 잰 후, 1분동안 변화한 온도를 표로 만들어야 한다.\n",
    "\n",
    "뛰어난 프로그래머인 동혁이는 혼합물의 온도를 자동으로 측정해주는 프로그램을 만들었다. 하지만, 깜빡하고 변화한 온도를 자동으로 계산해주는 프로그램을 만들지 않았다.\n",
    "\n",
    "동혁이가 측정한 온도가 주어졌을 때, 변화한 온도를 구하는 프로그램을 작성하시오.\n",
    "\n"
   ]
  },
  {
   "cell_type": "code",
   "execution_count": 16,
   "metadata": {},
   "outputs": [
    {
     "name": "stdout",
     "output_type": "stream",
     "text": [
      "2.05\n"
     ]
    }
   ],
   "source": [
    "temp = 0\n",
    "\n",
    "while True:\n",
    "    bf_temp = temp\n",
    "    temp = float(input())\n",
    "    \n",
    "    if temp == 999:\n",
    "        break\n",
    "    \n",
    "    difference = temp - bf_temp\n",
    "    \n",
    "    if bf_temp != 0:\n",
    "        print(f\"{difference:.2f}\")\n",
    "        \n",
    "\n"
   ]
  },
  {
   "cell_type": "markdown",
   "metadata": {},
   "source": [
    "- temp를 0으로 초기화하는데 이게 오류\n",
    "- 입력 종료 조건: 999가 입력되면 종료되지만, 이 값을 temp로 할당하고 difference를 계산하는 부분이 포함되어 있습니다. 이는 의미가 없고 잘못된 차이를 계산할 수 있습니다."
   ]
  },
  {
   "cell_type": "code",
   "execution_count": null,
   "metadata": {},
   "outputs": [],
   "source": [
    "bf_temp = float(input())\n",
    "\n",
    "while True:\n",
    "    temp = float(input())\n",
    "    \n",
    "    if temp == 999:\n",
    "        break\n",
    "    \n",
    "    difference = temp - bf_temp\n",
    "    bf_temp = temp\n",
    "    print(f\"{difference:.2f}\")\n",
    "        \n",
    "\n"
   ]
  }
 ],
 "metadata": {
  "kernelspec": {
   "display_name": "Python 3",
   "language": "python",
   "name": "python3"
  },
  "language_info": {
   "codemirror_mode": {
    "name": "ipython",
    "version": 3
   },
   "file_extension": ".py",
   "mimetype": "text/x-python",
   "name": "python",
   "nbconvert_exporter": "python",
   "pygments_lexer": "ipython3",
   "version": "3.11.4"
  }
 },
 "nbformat": 4,
 "nbformat_minor": 2
}
