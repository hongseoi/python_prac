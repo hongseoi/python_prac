{
 "cells": [
  {
   "cell_type": "code",
   "execution_count": 3,
   "metadata": {},
   "outputs": [
    {
     "name": "stdout",
     "output_type": "stream",
     "text": [
      "소수 개수: 4\n"
     ]
    }
   ],
   "source": [
    "# 에라토스테네스의 체: 대량의 소수를 빠르게 찾을 때 사용하는 알고리즘\n",
    "## 1. 1은 소수 아니므로 제외\n",
    "\n",
    "## 2. 2부터 시작해서 2의 배수는 소수가 아님\n",
    "\n",
    "## 3. 3부터 시작해서 3의 배수는 소수가 아님\n",
    "\n",
    "num = 10\n",
    "\n",
    "prime = [True] * (num+1)\n",
    "\n",
    "prime[0], prime[1] = False, False\n",
    "\n",
    "for i in range(2, num+1):\n",
    "    if prime[i]: # 소수인 경우\n",
    "        for j in range(i*2, num+1, i):\n",
    "            prime[j] = False\n",
    "\n",
    "result = 0\n",
    "\n",
    "for i in range(num+1):\n",
    "    if prime[i]:\n",
    "        result += 1\n",
    "print(\"소수 개수:\", result)"
   ]
  },
  {
   "cell_type": "markdown",
   "metadata": {},
   "source": [
    "## 유클리드 호제법\n",
    "- 가장 빠르게 최대 공약수를 구하는 알고리즘"
   ]
  },
  {
   "cell_type": "code",
   "execution_count": 4,
   "metadata": {},
   "outputs": [
    {
     "name": "stdout",
     "output_type": "stream",
     "text": [
      "2\n"
     ]
    }
   ],
   "source": [
    "# 일반적인 방법: 두 수 a,b 중 작은 숫자를 시작으로 두 수를 나눠보기\n",
    "\n",
    "a, b = map(int, input().split())\n",
    " \n",
    "# 작은 숫자로 시작\n",
    "n = a if a<b else b\n",
    "\n",
    "# n부터 1까지 반복\n",
    "for i in range(n, 0, -1):\n",
    "    if a % i == 0 and b % i == 0:\n",
    "        print(i)\n",
    "        break"
   ]
  },
  {
   "cell_type": "code",
   "execution_count": 8,
   "metadata": {},
   "outputs": [
    {
     "name": "stdout",
     "output_type": "stream",
     "text": [
      "1\n"
     ]
    }
   ],
   "source": [
    "# 유클리드 호재법\n",
    "# 1. 두 수 중 큰수를 작은스로 나눔\n",
    "# 2. 나머지가 0이면 작은 수가 최대공약수가 됨\n",
    "# 3. 나머지가 0이 아니면 작은 수가 큰수가 되고, 나머지를 작은 수로 대체하고 1로 돌아감\n",
    "\n",
    "a, b = map(int, input().split())\n",
    "\n",
    "def uclid(a,b):\n",
    "    while b: # b가 0일 때까지 반복 while b != 0\n",
    "        a,b = b, a%b\n",
    "    return a\n",
    "\n",
    "print(uclid(a,b))"
   ]
  },
  {
   "cell_type": "code",
   "execution_count": null,
   "metadata": {},
   "outputs": [],
   "source": []
  }
 ],
 "metadata": {
  "kernelspec": {
   "display_name": "Python 3",
   "language": "python",
   "name": "python3"
  },
  "language_info": {
   "codemirror_mode": {
    "name": "ipython",
    "version": 3
   },
   "file_extension": ".py",
   "mimetype": "text/x-python",
   "name": "python",
   "nbconvert_exporter": "python",
   "pygments_lexer": "ipython3",
   "version": "3.11.5"
  }
 },
 "nbformat": 4,
 "nbformat_minor": 2
}
