{
  "nbformat": 4,
  "nbformat_minor": 0,
  "metadata": {
    "colab": {
      "name": "bj211025.ipynb",
      "provenance": [],
      "authorship_tag": "ABX9TyManNJqEW99z/4Yk1aFv4nd",
      "include_colab_link": true
    },
    "kernelspec": {
      "name": "python3",
      "display_name": "Python 3"
    },
    "language_info": {
      "name": "python"
    }
  },
  "cells": [
    {
      "cell_type": "markdown",
      "metadata": {
        "id": "view-in-github",
        "colab_type": "text"
      },
      "source": [
        "<a href=\"https://colab.research.google.com/github/SEOLLLL/std2021-2/blob/main/bj211025.ipynb\" target=\"_parent\"><img src=\"https://colab.research.google.com/assets/colab-badge.svg\" alt=\"Open In Colab\"/></a>"
      ]
    },
    {
      "cell_type": "code",
      "metadata": {
        "colab": {
          "base_uri": "https://localhost:8080/"
        },
        "id": "uYjZXQuTteiv",
        "outputId": "517a3e2d-7d21-44f0-e6e2-2a60c839af91"
      },
      "source": [
        "#1546\n",
        "N = int(input())\n",
        "score = list(map(int, input().split()))\n",
        "max_score = max(score)\n",
        "\n",
        "for i in range(N):\n",
        "  score[i] = score[i]/max_score*100\n",
        "avg = sum(score)/N\n",
        "print(\"%.2f\" %avg) #%.2f == 소수점 둘째까지 출력\n",
        "\n"
      ],
      "execution_count": null,
      "outputs": [
        {
          "output_type": "stream",
          "name": "stdout",
          "text": [
            "3\n",
            "44 55 99\n",
            "66.67\n"
          ]
        }
      ]
    },
    {
      "cell_type": "code",
      "metadata": {
        "id": "xK7p69nkvAMl"
      },
      "source": [
        "#8958\n",
        "\n",
        "N = int(input())\n",
        "\n",
        "for i in range(N):\n",
        "  a = input()\n",
        "  score = 0\n",
        "  sumScore = 0\n",
        "\n",
        "  for j in a:\n",
        "    if j =='O':\n",
        "      score += 1\n",
        "    else:\n",
        "      score = 0\n",
        "    sumScore += score\n",
        "  print(sumScore)\n",
        "    \n",
        "\n"
      ],
      "execution_count": null,
      "outputs": []
    },
    {
      "cell_type": "code",
      "metadata": {
        "id": "zRjSEIb_Zu7q"
      },
      "source": [
        "#4344\n",
        "n = int(input())\n",
        "for i in range(n):\n",
        "  num = list(map(int, input().split()))\n",
        "  avg = sum(num[1:])/num[0]\n",
        "  cnt = 0\n",
        "  \n",
        "  for score in num[1:]:\n",
        "    if score > avg:\n",
        "      cnt += 1\n",
        "  rate = cnt/num[0]*100\n",
        "  print(f'{rate:.3f}%')\n",
        " "
      ],
      "execution_count": null,
      "outputs": []
    }
  ]
}