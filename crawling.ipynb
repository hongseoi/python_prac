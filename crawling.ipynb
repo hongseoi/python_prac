{
 "cells": [
  {
   "cell_type": "code",
   "execution_count": 2,
   "metadata": {},
   "outputs": [
    {
     "name": "stdout",
     "output_type": "stream",
     "text": [
      "Collecting bs4\n",
      "  Using cached bs4-0.0.2-py2.py3-none-any.whl.metadata (411 bytes)\n",
      "Collecting beautifulsoup4 (from bs4)\n",
      "  Downloading beautifulsoup4-4.12.3-py3-none-any.whl.metadata (3.8 kB)\n",
      "Collecting soupsieve>1.2 (from beautifulsoup4->bs4)\n",
      "  Downloading soupsieve-2.5-py3-none-any.whl.metadata (4.7 kB)\n",
      "Using cached bs4-0.0.2-py2.py3-none-any.whl (1.2 kB)\n",
      "Downloading beautifulsoup4-4.12.3-py3-none-any.whl (147 kB)\n",
      "   ---------------------------------------- 0.0/147.9 kB ? eta -:--:--\n",
      "   ---------- ---------------------------- 41.0/147.9 kB 991.0 kB/s eta 0:00:01\n",
      "   ---------------------------------------- 147.9/147.9 kB 2.9 MB/s eta 0:00:00\n",
      "Downloading soupsieve-2.5-py3-none-any.whl (36 kB)\n",
      "Installing collected packages: soupsieve, beautifulsoup4, bs4\n",
      "Successfully installed beautifulsoup4-4.12.3 bs4-0.0.2 soupsieve-2.5\n"
     ]
    }
   ],
   "source": [
    "! pip install bs4"
   ]
  },
  {
   "cell_type": "code",
   "execution_count": 6,
   "metadata": {},
   "outputs": [
    {
     "name": "stdout",
     "output_type": "stream",
     "text": [
      "b'\\r\\n\\r\\n\\r\\n<!DOCTYPE html PUBLIC \"-//W3C//DTD XHTML 1.0 Frameset//EN\" \"http://www.w3.org/TR/xhtml1/DTD/xhtml1-frameset.dtd\">\\r\\n<html xmlns=\"http://www.w3.org/1999/xhtml\" lang=\"ko\" xml:lang=\"ko\">\\r\\n<head>\\r\\n<meta http-equiv=\"Content-Type\" content=\"text/html; charset=euc-kr\" />\\r\\n<title>\\xb3\\xaa\\xb6\\xf3\\xc0\\xe5\\xc5\\xcd: \\xb1\\xb9\\xb0\\xa1\\xc1\\xbe\\xc7\\xd5\\xc0\\xfc\\xc0\\xda\\xc1\\xb6\\xb4\\xde</title>\\r\\n<script type=\"text/javascript\" src=\"/gov/koneps/co/js/crossDomain.js\"></script>\\r\\n<script type=\"text/javascript\">\\r\\n//<![CDATA[\\r\\nfunction refreshFrame() {\\r\\n// \\tframes[\\'sub\\'].window.location.href = \"/pt/menu/frameTgong.do?url=https://www.g2b.go.kr:8101/ep/tbid/tbidFwd.do\";\\r\\n\\ttop.frames[\"sub\"].location.href = \"/pt/menu/frameTgong.do?url=https://www.g2b.go.kr:8101/ep/tbid/tbidFwd.do\";\\r\\n\\tframes[\\'hdn\\'].window.document.getElementById(\"fId\").value = \"\";\\r\\n}\\r\\n//]]>\\r\\n</script>\\r\\n</head>\\r\\n<frameset cols=\"100%\" rows=\"105,*,0\" onload=\"refreshFrame();\">\\r\\n    <frame src=\"/pt/menu/selectTopFrame.do?appletLaunchYn=&amp;whereAreYouFrom=\" name=\"tops\" id=\"tops\" frameborder=\"0\" noresize=\"noresize\" scrolling=\"no\" marginwidth=\"0\" marginheight=\"0\" title=\"\\xbb\\xf3\\xb4\\xdc \\xc7\\xc1\\xb7\\xb9\\xc0\\xd3\" />\\r\\n    <!-- 2014.05.23 : src \\xbc\\xf6\\xc1\\xa4 - 3\\xc1\\xbe\\xba\\xea\\xb6\\xf3\\xbf\\xec\\xc0\\xfa \\xc8\\xa3\\xc8\\xaf\\xbc\\xba\\xb9\\xae\\xc1\\xa6 \\xc7\\xd8\\xb0\\xe1 -->\\r\\n    <frame src=\"/gov/koneps/pt/main/html/sub/blank.html\" name=\"sub\" id=\"sub\" frameborder=\"0\" noresize=\"noresize\" scrolling=\"yes\" marginwidth=\"0\" marginheight=\"0\" title=\"\\xc7\\xcf\\xb4\\xdc \\xc7\\xc1\\xb7\\xb9\\xc0\\xd3\" />\\r\\n    <frame src=\"/pt/menu/selectHiddenFrame.do\" name=\"hdn\" id=\"hdn\" frameborder=\"0\" noresize=\"noresize\" scrolling=\"no\" marginwidth=\"0\" marginheight=\"0\" title=\"\\xba\\xf3\\xc7\\xc1\\xb7\\xb9\\xc0\\xd3\" />\\r\\n</frameset>\\r\\n</html>\\r\\n<!--/WEB-INF/jsp/pt/menu/frame.jsp\\n/pt/menu/selectSubFrame.do-->'\n"
     ]
    }
   ],
   "source": [
    "import requests \n",
    "from bs4 import BeautifulSoup \n",
    "from urllib.request import urlopen\n",
    "\n",
    "html = urlopen('https://www.g2b.go.kr/pt/menu/selectSubFrame.do?framesrc=/pt/menu/frameTgong.do?url=https://www.g2b.go.kr:8101/ep/tbid/tbidFwd.do')\n",
    "source = html.read()\n",
    "html.close()\n",
    "\n",
    "print(source)"
   ]
  },
  {
   "cell_type": "code",
   "execution_count": 9,
   "metadata": {},
   "outputs": [
    {
     "name": "stdout",
     "output_type": "stream",
     "text": [
      "Collecting lxml\n",
      "  Downloading lxml-5.1.0-cp311-cp311-win_amd64.whl.metadata (3.6 kB)\n",
      "Downloading lxml-5.1.0-cp311-cp311-win_amd64.whl (3.9 MB)\n",
      "   ---------------------------------------- 0.0/3.9 MB ? eta -:--:--\n",
      "   ---------------------------------------- 0.0/3.9 MB ? eta -:--:--\n",
      "   ---------------------------------------- 0.0/3.9 MB 991.0 kB/s eta 0:00:04\n",
      "   -- ------------------------------------- 0.2/3.9 MB 2.1 MB/s eta 0:00:02\n",
      "   ----- ---------------------------------- 0.5/3.9 MB 3.5 MB/s eta 0:00:01\n",
      "   ------- -------------------------------- 0.7/3.9 MB 4.5 MB/s eta 0:00:01\n",
      "   ------------ --------------------------- 1.3/3.9 MB 5.3 MB/s eta 0:00:01\n",
      "   -------------- ------------------------- 1.4/3.9 MB 5.6 MB/s eta 0:00:01\n",
      "   ---------------------- ----------------- 2.2/3.9 MB 6.7 MB/s eta 0:00:01\n",
      "   --------------------------- ------------ 2.7/3.9 MB 7.0 MB/s eta 0:00:01\n",
      "   ------------------------------- -------- 3.1/3.9 MB 7.3 MB/s eta 0:00:01\n",
      "   ------------------------------------ --- 3.6/3.9 MB 7.6 MB/s eta 0:00:01\n",
      "   ---------------------------------------- 3.9/3.9 MB 7.6 MB/s eta 0:00:00\n",
      "Installing collected packages: lxml\n",
      "Successfully installed lxml-5.1.0\n"
     ]
    }
   ],
   "source": [
    "! pip install lxml"
   ]
  },
  {
   "cell_type": "code",
   "execution_count": 5,
   "metadata": {},
   "outputs": [
    {
     "name": "stdout",
     "output_type": "stream",
     "text": [
      "Collecting selenium\n",
      "  Downloading selenium-4.18.1-py3-none-any.whl.metadata (6.9 kB)\n",
      "Requirement already satisfied: urllib3<3,>=1.26 in c:\\users\\user\\desktop\\스터디\\kaggle_transcription_study\\.conda\\lib\\site-packages (from urllib3[socks]<3,>=1.26->selenium) (2.1.0)\n",
      "Collecting trio~=0.17 (from selenium)\n",
      "  Downloading trio-0.24.0-py3-none-any.whl.metadata (4.9 kB)\n",
      "Collecting trio-websocket~=0.9 (from selenium)\n",
      "  Downloading trio_websocket-0.11.1-py3-none-any.whl.metadata (4.7 kB)\n",
      "Requirement already satisfied: certifi>=2021.10.8 in c:\\users\\user\\desktop\\스터디\\kaggle_transcription_study\\.conda\\lib\\site-packages (from selenium) (2023.11.17)\n",
      "Requirement already satisfied: typing_extensions>=4.9.0 in c:\\users\\user\\desktop\\스터디\\kaggle_transcription_study\\.conda\\lib\\site-packages (from selenium) (4.9.0)\n",
      "Collecting attrs>=20.1.0 (from trio~=0.17->selenium)\n",
      "  Downloading attrs-23.2.0-py3-none-any.whl.metadata (9.5 kB)\n",
      "Collecting sortedcontainers (from trio~=0.17->selenium)\n",
      "  Downloading sortedcontainers-2.4.0-py2.py3-none-any.whl.metadata (10 kB)\n",
      "Requirement already satisfied: idna in c:\\users\\user\\desktop\\스터디\\kaggle_transcription_study\\.conda\\lib\\site-packages (from trio~=0.17->selenium) (3.6)\n",
      "Collecting outcome (from trio~=0.17->selenium)\n",
      "  Downloading outcome-1.3.0.post0-py2.py3-none-any.whl.metadata (2.6 kB)\n",
      "Collecting sniffio>=1.3.0 (from trio~=0.17->selenium)\n",
      "  Downloading sniffio-1.3.1-py3-none-any.whl.metadata (3.9 kB)\n",
      "Collecting cffi>=1.14 (from trio~=0.17->selenium)\n",
      "  Downloading cffi-1.16.0-cp311-cp311-win_amd64.whl.metadata (1.5 kB)\n",
      "Collecting wsproto>=0.14 (from trio-websocket~=0.9->selenium)\n",
      "  Downloading wsproto-1.2.0-py3-none-any.whl.metadata (5.6 kB)\n",
      "Collecting pysocks!=1.5.7,<2.0,>=1.5.6 (from urllib3[socks]<3,>=1.26->selenium)\n",
      "  Downloading PySocks-1.7.1-py3-none-any.whl.metadata (13 kB)\n",
      "Collecting pycparser (from cffi>=1.14->trio~=0.17->selenium)\n",
      "  Downloading pycparser-2.21-py2.py3-none-any.whl.metadata (1.1 kB)\n",
      "Collecting h11<1,>=0.9.0 (from wsproto>=0.14->trio-websocket~=0.9->selenium)\n",
      "  Downloading h11-0.14.0-py3-none-any.whl.metadata (8.2 kB)\n",
      "Downloading selenium-4.18.1-py3-none-any.whl (10.0 MB)\n",
      "   ---------------------------------------- 0.0/10.0 MB ? eta -:--:--\n",
      "   ---------------------------------------- 0.0/10.0 MB 991.0 kB/s eta 0:00:11\n",
      "    --------------------------------------- 0.2/10.0 MB 2.8 MB/s eta 0:00:04\n",
      "   -- ------------------------------------- 0.5/10.0 MB 4.3 MB/s eta 0:00:03\n",
      "   -- ------------------------------------- 0.7/10.0 MB 4.5 MB/s eta 0:00:03\n",
      "   ---- ----------------------------------- 1.2/10.0 MB 5.7 MB/s eta 0:00:02\n",
      "   ----- ---------------------------------- 1.4/10.0 MB 6.0 MB/s eta 0:00:02\n",
      "   --------- ------------------------------ 2.3/10.0 MB 7.4 MB/s eta 0:00:02\n",
      "   ---------- ----------------------------- 2.7/10.0 MB 7.5 MB/s eta 0:00:01\n",
      "   ------------ --------------------------- 3.2/10.0 MB 7.8 MB/s eta 0:00:01\n",
      "   ------------- -------------------------- 3.5/10.0 MB 7.6 MB/s eta 0:00:01\n",
      "   -------------- ------------------------- 3.7/10.0 MB 7.3 MB/s eta 0:00:01\n",
      "   ---------------- ----------------------- 4.1/10.0 MB 7.5 MB/s eta 0:00:01\n",
      "   ------------------ --------------------- 4.6/10.0 MB 7.8 MB/s eta 0:00:01\n",
      "   -------------------- ------------------- 5.1/10.0 MB 7.8 MB/s eta 0:00:01\n",
      "   ---------------------- ----------------- 5.7/10.0 MB 8.2 MB/s eta 0:00:01\n",
      "   ------------------------ --------------- 6.2/10.0 MB 8.4 MB/s eta 0:00:01\n",
      "   -------------------------- ------------- 6.7/10.0 MB 8.6 MB/s eta 0:00:01\n",
      "   ---------------------------- ----------- 7.2/10.0 MB 8.7 MB/s eta 0:00:01\n",
      "   ----------------------------- ---------- 7.4/10.0 MB 8.6 MB/s eta 0:00:01\n",
      "   ------------------------------ --------- 7.7/10.0 MB 8.4 MB/s eta 0:00:01\n",
      "   ------------------------------- -------- 7.9/10.0 MB 8.1 MB/s eta 0:00:01\n",
      "   -------------------------------- ------- 8.2/10.0 MB 8.1 MB/s eta 0:00:01\n",
      "   ---------------------------------- ----- 8.7/10.0 MB 8.2 MB/s eta 0:00:01\n",
      "   ------------------------------------- -- 9.3/10.0 MB 8.4 MB/s eta 0:00:01\n",
      "   ---------------------------------------  9.8/10.0 MB 8.5 MB/s eta 0:00:01\n",
      "   ---------------------------------------- 10.0/10.0 MB 8.4 MB/s eta 0:00:00\n",
      "Downloading trio-0.24.0-py3-none-any.whl (460 kB)\n",
      "   ---------------------------------------- 0.0/460.2 kB ? eta -:--:--\n",
      "   --------- ------------------------------ 112.6/460.2 kB 3.3 MB/s eta 0:00:01\n",
      "   ---------------------------- ----------- 327.7/460.2 kB 5.1 MB/s eta 0:00:01\n",
      "   ---------------------------------------- 460.2/460.2 kB 4.1 MB/s eta 0:00:00\n",
      "Downloading trio_websocket-0.11.1-py3-none-any.whl (17 kB)\n",
      "Downloading attrs-23.2.0-py3-none-any.whl (60 kB)\n",
      "   ---------------------------------------- 0.0/60.8 kB ? eta -:--:--\n",
      "   ---------------------------------------- 60.8/60.8 kB 3.2 MB/s eta 0:00:00\n",
      "Downloading cffi-1.16.0-cp311-cp311-win_amd64.whl (181 kB)\n",
      "   ---------------------------------------- 0.0/181.5 kB ? eta -:--:--\n",
      "   -------------------- ------------------- 92.2/181.5 kB 5.1 MB/s eta 0:00:01\n",
      "   ---------------------------------------- 181.5/181.5 kB 2.2 MB/s eta 0:00:00\n",
      "Downloading PySocks-1.7.1-py3-none-any.whl (16 kB)\n",
      "Downloading sniffio-1.3.1-py3-none-any.whl (10 kB)\n",
      "Downloading wsproto-1.2.0-py3-none-any.whl (24 kB)\n",
      "Downloading outcome-1.3.0.post0-py2.py3-none-any.whl (10 kB)\n",
      "Downloading sortedcontainers-2.4.0-py2.py3-none-any.whl (29 kB)\n",
      "Using cached h11-0.14.0-py3-none-any.whl (58 kB)\n",
      "Downloading pycparser-2.21-py2.py3-none-any.whl (118 kB)\n",
      "   ---------------------------------------- 0.0/118.7 kB ? eta -:--:--\n",
      "   ---------------------------------------- 118.7/118.7 kB 3.5 MB/s eta 0:00:00\n",
      "Installing collected packages: sortedcontainers, sniffio, pysocks, pycparser, h11, attrs, wsproto, outcome, cffi, trio, trio-websocket, selenium\n",
      "Successfully installed attrs-23.2.0 cffi-1.16.0 h11-0.14.0 outcome-1.3.0.post0 pycparser-2.21 pysocks-1.7.1 selenium-4.18.1 sniffio-1.3.1 sortedcontainers-2.4.0 trio-0.24.0 trio-websocket-0.11.1 wsproto-1.2.0\n"
     ]
    }
   ],
   "source": [
    "! pip install selenium"
   ]
  },
  {
   "cell_type": "code",
   "execution_count": 1,
   "metadata": {},
   "outputs": [
    {
     "name": "stdout",
     "output_type": "stream",
     "text": [
      "<!DOCTYPE html PUBLIC \"-//W3C//DTD XHTML 1.0 Frameset//EN\" \"http://www.w3.org/TR/xhtml1/DTD/xhtml1-frameset.dtd\">\n",
      "<html lang=\"ko\" xml:lang=\"ko\" xmlns=\"http://www.w3.org/1999/xhtml\">\n",
      "<head>\n",
      "<meta content=\"text/html; charset=utf-8\" http-equiv=\"Content-Type\"/>\n",
      "<title>나라장터: 국가종합전자조달</title>\n",
      "<script src=\"/gov/koneps/co/js/crossDomain.js\" type=\"text/javascript\"></script>\n",
      "<script type=\"text/javascript\">\n",
      "//<![CDATA[\n",
      "function refreshFrame() {\n",
      "// \tframes['sub'].window.location.href = \"/pt/menu/frameTgong.do?url=https://www.g2b.go.kr:8101/ep/tbid/tbidFwd.do\";\n",
      "\ttop.frames[\"sub\"].location.href = \"/pt/menu/frameTgong.do?url=https://www.g2b.go.kr:8101/ep/tbid/tbidFwd.do\";\n",
      "\tframes['hdn'].window.document.getElementById(\"fId\").value = \"\";\n",
      "}\n",
      "//]]>\n",
      "</script>\n",
      "</head>\n",
      "<frameset cols=\"100%\" onload=\"refreshFrame();\" rows=\"105,*,0\">\n",
      "<frame frameborder=\"0\" id=\"tops\" marginheight=\"0\" marginwidth=\"0\" name=\"tops\" noresize=\"noresize\" scrolling=\"no\" src=\"/pt/menu/selectTopFrame.do?appletLaunchYn=&amp;whereAreYouFrom=\" title=\"상단 프레임\"/>\n",
      "<!-- 2014.05.23 : src 수정 - 3종브라우저 호환성문제 해결 -->\n",
      "<frame frameborder=\"0\" id=\"sub\" marginheight=\"0\" marginwidth=\"0\" name=\"sub\" noresize=\"noresize\" scrolling=\"yes\" src=\"/gov/koneps/pt/main/html/sub/blank.html\" title=\"하단 프레임\"/>\n",
      "<frame frameborder=\"0\" id=\"hdn\" marginheight=\"0\" marginwidth=\"0\" name=\"hdn\" noresize=\"noresize\" scrolling=\"no\" src=\"/pt/menu/selectHiddenFrame.do\" title=\"빈프레임\"/>\n",
      "</frameset>\n",
      "</html>\n",
      "<!--/WEB-INF/jsp/pt/menu/frame.jsp\n",
      "/pt/menu/selectSubFrame.do-->\n"
     ]
    }
   ],
   "source": [
    "import requests \n",
    "from bs4 import BeautifulSoup \n",
    "from urllib.request import urlopen\n",
    "\n",
    "html = urlopen('https://www.g2b.go.kr/pt/menu/selectSubFrame.do?framesrc=/pt/menu/frameTgong.do?url=https://www.g2b.go.kr:8101/ep/tbid/tbidFwd.do')\n",
    "source = html.read()\n",
    "html.close()\n",
    "\n",
    "soup = BeautifulSoup(source, \"lxml\")\n",
    "print(soup)"
   ]
  },
  {
   "cell_type": "code",
   "execution_count": 46,
   "metadata": {},
   "outputs": [
    {
     "name": "stdout",
     "output_type": "stream",
     "text": [
      "None\n"
     ]
    }
   ],
   "source": [
    "import requests \n",
    "from bs4 import BeautifulSoup \n",
    "from urllib.request import urlopen\n",
    "\n",
    "html = urlopen('https://www.g2b.go.kr/pt/menu/selectSubFrame.do?framesrc=/pt/menu/frameTgong.do?url=https://www.g2b.go.kr:8101/ep/tbid/tbidFwd.do')\n",
    "source = html.read()\n",
    "html.close()\n",
    "\n",
    "soup = BeautifulSoup(source, \"lxml\")\n",
    "table_div = soup.find(\"div\", attrs={\"class\":\"results\"})\n",
    "print(table_div)"
   ]
  },
  {
   "cell_type": "code",
   "execution_count": 81,
   "metadata": {},
   "outputs": [],
   "source": [
    "from selenium import webdriver\n",
    "\n",
    "driver = webdriver.Chrome()\n",
    "driver.get('https://www.g2b.go.kr/pt/menu/selectSubFrame.do?framesrc=/pt/menu/frameTgong.do?url=https://www.g2b.go.kr:8101/ep/tbid/tbidFwd.do')\n"
   ]
  },
  {
   "cell_type": "code",
   "execution_count": 72,
   "metadata": {},
   "outputs": [
    {
     "ename": "TypeError",
     "evalue": "'str' object is not callable",
     "output_type": "error",
     "traceback": [
      "\u001b[1;31m---------------------------------------------------------------------------\u001b[0m",
      "\u001b[1;31mTypeError\u001b[0m                                 Traceback (most recent call last)",
      "Cell \u001b[1;32mIn[72], line 5\u001b[0m\n\u001b[0;32m      3\u001b[0m \u001b[38;5;28;01mfrom\u001b[39;00m \u001b[38;5;21;01mselenium\u001b[39;00m\u001b[38;5;21;01m.\u001b[39;00m\u001b[38;5;21;01mwebdriver\u001b[39;00m\u001b[38;5;21;01m.\u001b[39;00m\u001b[38;5;21;01msupport\u001b[39;00m \u001b[38;5;28;01mimport\u001b[39;00m expected_conditions \u001b[38;5;28;01mas\u001b[39;00m EC\n\u001b[0;32m      4\u001b[0m driver\u001b[38;5;241m.\u001b[39mswitch_to\u001b[38;5;241m.\u001b[39mdefault_content()\n\u001b[1;32m----> 5\u001b[0m all_frames \u001b[38;5;241m=\u001b[39m driver\u001b[38;5;241m.\u001b[39mfind_element(\u001b[43mBy\u001b[49m\u001b[38;5;241;43m.\u001b[39;49m\u001b[43mTAG_NAME\u001b[49m\u001b[43m(\u001b[49m\u001b[38;5;124;43m\"\u001b[39;49m\u001b[38;5;124;43mframeset\u001b[39;49m\u001b[38;5;124;43m\"\u001b[39;49m\u001b[43m)\u001b[49m)\u001b[38;5;241m.\u001b[39mfind_elements(By\u001b[38;5;241m.\u001b[39mTAG_NAME(\u001b[38;5;124m\"\u001b[39m\u001b[38;5;124mframe\u001b[39m\u001b[38;5;124m\"\u001b[39m))\n\u001b[0;32m      6\u001b[0m driver\u001b[38;5;241m.\u001b[39mswitch_to\u001b[38;5;241m.\u001b[39mframe(all_frames[\u001b[38;5;241m1\u001b[39m])\n\u001b[0;32m      7\u001b[0m \u001b[38;5;66;03m#driver.find_elements(By.CLASS_NAME, 'btn_mdl')\u001b[39;00m\n\u001b[0;32m      8\u001b[0m \u001b[38;5;66;03m# # try:\u001b[39;00m\n\u001b[0;32m      9\u001b[0m \u001b[38;5;66;03m# element = WebDriverWait(driver, 10).until(\u001b[39;00m\n\u001b[0;32m     10\u001b[0m \u001b[38;5;66;03m#     EC.presence_of_all_elements_located((By.XPATH, '//*[@id=\"buttonwrap\"]/div/a[1]'))\u001b[39;00m\n\u001b[0;32m     11\u001b[0m \u001b[38;5;66;03m# )\u001b[39;00m\n\u001b[0;32m     12\u001b[0m \u001b[38;5;66;03m# print(element)\u001b[39;00m\n",
      "\u001b[1;31mTypeError\u001b[0m: 'str' object is not callable"
     ]
    }
   ],
   "source": [
    "from selenium.webdriver.common.by import By\n",
    "from selenium.webdriver.support.ui import WebDriverWait\n",
    "from selenium.webdriver.support import expected_conditions as EC\n",
    "driver.switch_to.default_content()\n",
    "all_frames = driver.find_element(By.TAG_NAME(\"frameset\")).find_elements(By.TAG_NAME(\"frame\"))\n",
    "driver.switch_to.frame(all_frames[1])\n",
    "#driver.find_elements(By.CLASS_NAME, 'btn_mdl')\n",
    "# # try:\n",
    "# element = WebDriverWait(driver, 10).until(\n",
    "#     EC.presence_of_all_elements_located((By.XPATH, '//*[@id=\"buttonwrap\"]/div/a[1]'))\n",
    "# )\n",
    "# print(element)\n"
   ]
  },
  {
   "cell_type": "code",
   "execution_count": 84,
   "metadata": {},
   "outputs": [
    {
     "ename": "TypeError",
     "evalue": "'str' object is not callable",
     "output_type": "error",
     "traceback": [
      "\u001b[1;31m---------------------------------------------------------------------------\u001b[0m",
      "\u001b[1;31mTypeError\u001b[0m                                 Traceback (most recent call last)",
      "Cell \u001b[1;32mIn[84], line 1\u001b[0m\n\u001b[1;32m----> 1\u001b[0m driver\u001b[38;5;241m.\u001b[39mfind_element(\u001b[43mBy\u001b[49m\u001b[38;5;241;43m.\u001b[39;49m\u001b[43mTAG_NAME\u001b[49m\u001b[43m(\u001b[49m\u001b[38;5;124;43m\"\u001b[39;49m\u001b[38;5;124;43mframeset\u001b[39;49m\u001b[38;5;124;43m\"\u001b[39;49m\u001b[43m)\u001b[49m)\u001b[38;5;241m.\u001b[39mtext\n",
      "\u001b[1;31mTypeError\u001b[0m: 'str' object is not callable"
     ]
    }
   ],
   "source": [
    "driver.find_element(By.TAG_NAME(\"frameset\")).text"
   ]
  },
  {
   "cell_type": "code",
   "execution_count": null,
   "metadata": {},
   "outputs": [],
   "source": []
  },
  {
   "cell_type": "code",
   "execution_count": null,
   "metadata": {},
   "outputs": [],
   "source": []
  }
 ],
 "metadata": {
  "kernelspec": {
   "display_name": "Python 3",
   "language": "python",
   "name": "python3"
  },
  "language_info": {
   "codemirror_mode": {
    "name": "ipython",
    "version": 3
   },
   "file_extension": ".py",
   "mimetype": "text/x-python",
   "name": "python",
   "nbconvert_exporter": "python",
   "pygments_lexer": "ipython3",
   "version": "3.11.5"
  }
 },
 "nbformat": 4,
 "nbformat_minor": 2
}
